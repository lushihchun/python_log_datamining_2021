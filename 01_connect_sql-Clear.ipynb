{
 "cells": [
  {
   "cell_type": "code",
   "execution_count": null,
   "metadata": {},
   "outputs": [],
   "source": [
    "#修改表格_增加欄位\n",
    "#cursor=conn.cursor()\n",
    "#row=cursor.execute(\"ALTER TABLE `edm`.`edm_log` ADD COLUMN `Username` VARCHAR(9) NULL AFTER `CleanCode`;\")\n",
    "#conn.commit()\n",
    "#cursor.close()\n",
    "\n",
    "#修改表格_刪減欄位\n",
    "#cursor=conn.cursor()\n",
    "#row=cursor.execute(\"ALTER TABLE `simulate`.`simulate_log2` DROP COLUMN `new_columns`;\")\n",
    "#conn.commit()\n",
    "#cursor.close()\n",
    "\n",
    "#選擇資料\n",
    "# cursor=conn.cursor()\n",
    "# cursor.execute(\"select COLUMN_NAME from INFORMATION_SCHEMA.COLUMNS where TABLE_NAME = 'edm_log';\")\n",
    "# columns=cursor.fetchall()\n",
    "# cursor.close()\n",
    "\n",
    "#修改資料\n",
    "#cursor=conn.cursor()\n",
    "#row=cursor.execute(\"UPDATE `simulate`.`simulate_log2` SET `simulate_log2col` = '234' WHERE (`MyUnknownColumn` = '1');\")\n",
    "#conn.commit()\n",
    "#cursor.close()\n",
    "\n",
    "# #清空表格\n",
    "# cursor=conn.cursor()\n",
    "# row=cursor.execute(\"TRUNCATE TABLE edm.implementation;\")\n",
    "# conn.commit()\n",
    "# cursor.close()\n",
    "\n",
    "# #刪除資料\n",
    "# cursor=conn.cursor()\n",
    "# row=cursor.execute(\"DELETE FROM `edm`.`implementation` WHERE (`no` = '4623');\")\n",
    "# conn.commit()\n",
    "# cursor.close()"
   ]
  },
  {
   "cell_type": "code",
   "execution_count": null,
   "metadata": {},
   "outputs": [],
   "source": [
    "# !pip install PyMySQL"
   ]
  },
  {
   "cell_type": "markdown",
   "metadata": {},
   "source": [
    "# Import & reconnect"
   ]
  },
  {
   "cell_type": "code",
   "execution_count": null,
   "metadata": {},
   "outputs": [],
   "source": [
    "import time\n",
    "import datetime\n",
    "import pymysql\n",
    "import numpy as np\n",
    "import pandas as pd\n",
    "import re\n",
    "import os\n",
    "import copy\n",
    "from datetime import datetime, timedelta\n",
    "import matplotlib.pyplot as plt"
   ]
  },
  {
   "cell_type": "code",
   "execution_count": null,
   "metadata": {
    "scrolled": true
   },
   "outputs": [],
   "source": [
    "# conn=pymysql.connect(host=\"\", port=3306, \n",
    "#                      user=\"\", passwd=\"\", \n",
    "#                      db=\"\",\n",
    "#                      charset=\"\")"
   ]
  },
  {
   "cell_type": "code",
   "execution_count": null,
   "metadata": {},
   "outputs": [],
   "source": [
    "#  conn.close()"
   ]
  },
  {
   "cell_type": "markdown",
   "metadata": {},
   "source": [
    "# edm_log"
   ]
  },
  {
   "cell_type": "markdown",
   "metadata": {},
   "source": [
    "## renew_on_time(v1)"
   ]
  },
  {
   "cell_type": "code",
   "execution_count": null,
   "metadata": {
    "scrolled": true
   },
   "outputs": [],
   "source": [
    "import time\n",
    "import datetime\n",
    "import pymysql\n",
    "import numpy as np\n",
    "import pandas as pd\n",
    "import re\n",
    "import os\n",
    "import copy\n",
    "from datetime import datetime, timedelta\n",
    "# from IPython import display\n",
    "# pd.set_option('display.max_columns', None)\n",
    "# pd.set_option('display.max_rows', None)\n",
    "\n",
    "conn=pymysql.connect(host=\"\", port=3306, \n",
    "                     user=\"\", passwd=\"\", \n",
    "                     db=\"\",\n",
    "                     charset=\"\")\n",
    "\n",
    "while True:\n",
    "    print(str(datetime.now()))\n",
    "    \n",
    "    ##### userlist #####\n",
    "    cursor=conn.cursor()\n",
    "    cursor.execute(\"select `Username` from `edm`.`member` ;\") #where `Role`='學生';\")\n",
    "    u=cursor.fetchall()\n",
    "    cursor.close()\n",
    "    userlist=[]\n",
    "    for i in u:\n",
    "        userlist.append(i[0]) \n",
    "\n",
    "    ##### new data_index #####\n",
    "    if os.path.isfile(\"./lastindex.txt\") ==False:\n",
    "        x= open(\"lastindex.txt\",\"w\",encoding=\"utf-8\")\n",
    "        x.close()\n",
    "        ind=0\n",
    "        print(\"now index:\",ind)\n",
    "        cursor=conn.cursor()\n",
    "        cursor.execute(\"select * from edm_log\")\n",
    "        data=cursor.fetchall()\n",
    "        cursor.close()\n",
    "        len_data=len(data)\n",
    "        print(\"新資料數：\", len_data)\n",
    "\n",
    "    else:\n",
    "        with open(\"lastindex.txt\",\"r\",encoding=\"utf-8\") as x: \n",
    "            ind=x.read()\n",
    "        print(\"now index:\",ind)\n",
    "        cursor=conn.cursor()\n",
    "        cursor.execute(\"select * from edm_log where log_id>{}\".format(int(ind)))\n",
    "        data=cursor.fetchall()\n",
    "        cursor.close()\n",
    "        len_data=len(data)\n",
    "        print(\"新資料數：\", len_data)\n",
    "        \n",
    "        \n",
    "    if len_data!=0:\n",
    "        ind2=data[-1][0]\n",
    "        print(\"target index:\", ind2)\n",
    "\n",
    "        ##### remark, cleancode, username #####\n",
    "        for i in range(len(data)):\n",
    "            remark=\"\"\n",
    "            code= data[i][2]\n",
    "            if pd.notnull(code):\n",
    "                if \"#\" in code:\n",
    "                    for r in re.findall(\"#.*[\\n]?\", code):\n",
    "                        remark+=r\n",
    "                        code=\"\\n\".join(code.split(r))\n",
    "                    code=code.strip().replace(\"\\'\",\"\\\"\")\n",
    "                    remark=remark.strip().replace(\"\\'\",\"\\\"\")\n",
    "                else:\n",
    "                    code=code.replace(\"\\'\",\"\\\"\")\n",
    "                    remark=remark.replace(\"\\'\",\"\\\"\")\n",
    "            username=data[i][1].split(\"/\")[2]\n",
    "            print(username)\n",
    "            print(\"==code==\")\n",
    "            print(code)\n",
    "            print(\"==remark==\")\n",
    "            print(remark)\n",
    "            print(\"=\"*50)\n",
    "            if len(remark)>1000:\n",
    "                remark=remark[:1000]\n",
    "\n",
    "            try:\n",
    "                cursor=conn.cursor()\n",
    "                row=cursor.execute(\"UPDATE `edm`.`edm_log` SET `CleanCode` = '{}', `Remark` = '{}', `Username` = '{}'  WHERE (`log_id` = '{}');\".format(code, remark, username, data[i][0]))\n",
    "                conn.commit()\n",
    "                cursor.close()\n",
    "            except:\n",
    "                print(\"ERROR!!:\", data[i][0],\"\\n===code===\\n\",code,\"\\n===remark===\\n\", remark,\"\\n===username===\\n\", username)\n",
    "        print(\"=====finish: remark, cleancode, username=====\")\n",
    "        \n",
    "        ##### new_data_df #####\n",
    "        cursor=conn.cursor()\n",
    "        cursor.execute(\"select * from edm_log where log_id>{}\".format(int(ind)))\n",
    "        data=cursor.fetchall()\n",
    "        cursor.close()\n",
    "        \n",
    "        title=['log_id', 'user_id', 'code', 'event', 'isError', 'kernelId', 'notebookName', 'notebookPath', 'cellId', 'timestamp', 'text', 'codeLength', 'errorName', 'errorValue','Remark','Cleancode','Username']\n",
    "        df=pd.DataFrame()\n",
    "        for i in range(len(title)):\n",
    "            li=[]\n",
    "            for j in data:\n",
    "                li.append(j[i])\n",
    "            df[title[i]]=li\n",
    "        print(\"本次資料：\",len(df))\n",
    "\n",
    "        ##### notebook now #####\n",
    "        notebook_now=\"Untitled.ipynb\"\n",
    "        cursor=conn.cursor()\n",
    "        cursor.execute(\"select `NotebookName` from `edm`.`section` where `SectionTimeStart` < '{}';\".format(str(datetime.now())))\n",
    "        sec=cursor.fetchall()\n",
    "        cursor.close()\n",
    "        if sec!=():\n",
    "            notebook_now=sec[-1][0]\n",
    "        print(\"notebook now:\", notebook_now)\n",
    "\n",
    "        ##### implementation #####\n",
    "        redata=pd.read_excel(\"python_re.xlsx\", sheet_name=\"全\")\n",
    "        redata=redata[redata[\"NotebookName\"]==notebook_now]\n",
    "        redata=redata.reset_index(drop=True)\n",
    "        df2=df[df[\"notebookName\"]==notebook_now]\n",
    "\n",
    "        for user in userlist:\n",
    "            print(\"==========renewing implementation:\", user)\n",
    "            df3=df2[df2[\"Username\"]==user]\n",
    "            df3=df3[pd.notnull(df3[\"code\"])]\n",
    "            code_mix=\"\\n\".join(list(df3[\"code\"]))\n",
    "            #print(\"user資料:\", len(df3))\n",
    "            #print(\"===codemix===\")\n",
    "            #print(code_mix)\n",
    "            #print(\"============\")\n",
    "            for i in range(len(redata)):\n",
    "                a=redata.loc[i,\"KeypointNo\"]\n",
    "                cursor=conn.cursor()\n",
    "                cursor.execute('''\n",
    "                select `KeypointCount`,`Catched`, `KeypointDone` \n",
    "                from `edm`.`implementation` \n",
    "                where `NotebookName` = '{}' and `Username` = '{}' and `KeypointNo`={};\n",
    "                '''.format(notebook_now, user, a))\n",
    "                y=cursor.fetchall()\n",
    "                cursor.close()\n",
    "                \n",
    "                # done, catched_plus, count_plus\n",
    "                count=y[0][0]\n",
    "                if pd.isnull(count): count=0\n",
    "                catched=y[0][1]\n",
    "                if pd.isnull(catched): catched=\"\"\n",
    "                done=y[0][2]\n",
    "                if pd.isnull(done): done=0\n",
    "                catched_plus=\"\"\n",
    "                x=re.findall(redata.loc[i,\"KeypointRE\"], code_mix)\n",
    "                count_plus=len(x)\n",
    "                if x !=[]:\n",
    "                    done=1\n",
    "                    catched_plus=\"\\n\".join(x)\n",
    "                if pd.isnull(count):\n",
    "                    count=count_plus\n",
    "                else:\n",
    "                    count+=count_plus\n",
    "                if pd.isnull(catched):\n",
    "                    catched=catched_plus\n",
    "                else:\n",
    "                    catched+=catched_plus    \n",
    "                if catched_plus!=\"\":\n",
    "                    print(\"user:\",user,\"    target:\",redata.loc[i,\"KeypointRE\"], \"\\n    本次完成:\", done, \"    計次:\",count, \"    結果:\",catched_plus)\n",
    "                    print(\"=\"*50)\n",
    "                cursor=conn.cursor()\n",
    "                catched=catched.replace(\"\\'\",\"\\\"\")\n",
    "                row=cursor.execute('''\n",
    "                UPDATE `edm`.`implementation` \n",
    "                SET `KeypointDone` = {} , `KeypointCount` = {}, `Catched` = '{}'\n",
    "                WHERE `NotebookName`='{}' and `Username`='{}' and `KeypointNo`={};\n",
    "                '''.format(done, count, catched, notebook_now, user, a))\n",
    "                conn.commit()\n",
    "                cursor.close()\n",
    "        print(\"finish: implementation renew\" )\n",
    "        print(\"=\"*50)\n",
    "\n",
    "        with open(\"lastindex.txt\",\"w\",encoding=\"utf-8\") as x:\n",
    "            x.write(str(ind2))\n",
    "            print(\"reset index:\", ind2, \"\\n\")\n",
    "    \n",
    "    time.sleep(10)\n",
    "    if datetime.now() > datetime(2021,1,13,23,59,59,0):\n",
    "        conn.close()\n",
    "        break\n"
   ]
  },
  {
   "cell_type": "markdown",
   "metadata": {},
   "source": [
    "## renew_on_time(v2)_modify"
   ]
  },
  {
   "cell_type": "code",
   "execution_count": null,
   "metadata": {
    "scrolled": true
   },
   "outputs": [],
   "source": [
    "import time\n",
    "import datetime\n",
    "import pymysql\n",
    "import numpy as np\n",
    "import pandas as pd\n",
    "import re\n",
    "import os\n",
    "import copy\n",
    "from datetime import datetime, timedelta\n",
    "# from IPython import display\n",
    "# pd.set_option('display.max_columns', None)\n",
    "# pd.set_option('display.max_rows', None)\n",
    "\n",
    "rd_n=0\n",
    "\n",
    "while True:\n",
    "    rd_n+=1\n",
    "    print(\"=\"*80)\n",
    "    print(\"Round\", rd_n)\n",
    "    \n",
    "    conn=pymysql.connect(host=\"\", port=3306, user=\"\", passwd=\"\", db=\"\", charset=\"\")\n",
    "    print(str(datetime.now()))\n",
    "\n",
    "    \n",
    "    ##### userlist #####\n",
    "    cursor=conn.cursor()\n",
    "    cursor.execute(\"select `Username` from `edm`.`member` ;\") #where `Role`='學生';\")\n",
    "    u=cursor.fetchall()\n",
    "    cursor.close()\n",
    "    userlist=[]\n",
    "    for i in u:\n",
    "        userlist.append(i[0]) \n",
    "\n",
    "\n",
    "    ##### new data_index #####\n",
    "    if os.path.isfile(\"./lastindex.txt\") ==False:\n",
    "        x= open(\"lastindex.txt\",\"w\",encoding=\"utf-8\")\n",
    "        ind=0\n",
    "        x.write(str(ind))\n",
    "        x.close()\n",
    "        print(\"now index:\",ind)\n",
    "        cursor=conn.cursor()\n",
    "        cursor.execute(\"select * from edm_log\")\n",
    "        data=cursor.fetchall()\n",
    "        cursor.close()\n",
    "        len_data=len(data)\n",
    "        print(\"新資料數：\", len_data)\n",
    "    if os.path.isfile(\"./lastindex.txt\"):\n",
    "        with open(\"lastindex.txt\",\"r\",encoding=\"utf-8\") as x: \n",
    "            ind=x.read()\n",
    "        print(\"now index:\",ind)\n",
    "        cursor=conn.cursor()\n",
    "        cursor.execute(\"select * from edm_log where log_id>{}\".format(int(ind)))\n",
    "        data=cursor.fetchall()\n",
    "        cursor.close()\n",
    "        len_data=len(data)\n",
    "        print(\"新資料數：\", len_data)\n",
    "        \n",
    "        \n",
    "    if len_data!=0:\n",
    "        ind2=data[-1][0]\n",
    "        print(\"target index:\", ind2)\n",
    "\n",
    "        ##### remark, cleancode, username #####\n",
    "        print(\"=======start: remark, cleancode, username=======\")\n",
    "        for i in range(len(data)):\n",
    "            remark=\"\"\n",
    "            code= data[i][2]\n",
    "            if pd.notnull(code):\n",
    "                if \"#\" in code:\n",
    "                    for r in re.findall(\"#.*[\\n]?\", code):\n",
    "                        remark+=r\n",
    "                        code=\"\\n\".join(code.split(r))\n",
    "                    code=code.strip().replace(\"\\'\",\"\\\"\")\n",
    "                    remark=remark.strip().replace(\"\\'\",\"\\\"\")\n",
    "                else:\n",
    "                    code=code.replace(\"\\'\",\"\\\"\")\n",
    "                    remark=remark.replace(\"\\'\",\"\\\"\")\n",
    "            username=data[i][1].split(\"/\")[2]\n",
    "            \n",
    "            print(username)\n",
    "            print(\"==code==\")\n",
    "            print(code)\n",
    "            print(\"==remark==\")\n",
    "            print(remark)\n",
    "            print(\"=\"*50)\n",
    "            if len(remark)>1000:\n",
    "                remark=remark[:1000]\n",
    "            try:\n",
    "                sql='''UPDATE `edm`.`edm_log` \n",
    "                SET `CleanCode` = '{}', `Remark` = '{}', `Username` = '{}'\n",
    "                WHERE (`log_id` = {});'''.format(code, remark, username, data[i][0])\n",
    "                cursor=conn.cursor()\n",
    "                row=cursor.execute(sql)\n",
    "                conn.commit()\n",
    "                cursor.close()\n",
    "            except:\n",
    "                print(\"ERROR!!:\", data[i][0],\"\\n==code==\\n\",code,\"\\n==remark==\\n\", remark,\"\\n==username==\\n\", username)\n",
    "            \n",
    "        print(\"=======finish: remark, cleancode, username=======\")\n",
    "\n",
    "        \n",
    "        ##### new_data_df #####\n",
    "        cursor=conn.cursor()\n",
    "        cursor.execute(\"select * from edm_log where log_id>{}\".format(int(ind)))\n",
    "        data=cursor.fetchall()\n",
    "        cursor.close()\n",
    "        \n",
    "        title=['log_id', 'user_id', 'code', 'event', 'isError', 'kernelId', 'notebookName', 'notebookPath', 'cellId', 'timestamp', 'text', 'codeLength', 'errorName', 'errorValue','Remark','Cleancode','Username']\n",
    "        df=pd.DataFrame()\n",
    "        for i in range(len(title)):\n",
    "            li=[]\n",
    "            for j in data:\n",
    "                li.append(j[i])\n",
    "            df[title[i]]=li\n",
    "        print(\"本次資料：\",len(df))\n",
    "\n",
    "        ##### notebook now #####\n",
    "        notebook_now=\"Untitled.ipynb\"\n",
    "        cursor=conn.cursor()\n",
    "        cursor.execute(\"select `NotebookName` from `edm`.`section` where `SectionTimeStart` < '{}';\".format(str(datetime.now())))\n",
    "        sec=cursor.fetchall()\n",
    "        cursor.close()\n",
    "        if sec!=():\n",
    "            notebook_now=sec[-1][0]\n",
    "        print(\"notebook now:\", notebook_now)\n",
    "\n",
    "        ##### implementation #####\n",
    "        redata=pd.read_excel(\"python_re.xlsx\", sheet_name=\"全\")\n",
    "        redata=redata[pd.notnull(redata[\"KeypointRE\"])]\n",
    "        redata=redata.reset_index(drop=True)\n",
    "        \n",
    "        notebook_list=list(set(redata[\"NotebookName\"]))\n",
    "        for user in userlist:\n",
    "            print(\"\\n==========renewing implementation:\", user, \"=============\")\n",
    "            df2=df[df[\"Username\"]==user]\n",
    "            for notebook in notebook_list:       \n",
    "                print(\"renewing notebook:\", notebook)\n",
    "                df3=df2[df2[\"notebookName\"]==notebook]\n",
    "                df3=df3[pd.notnull(df3[\"code\"])]\n",
    "                \n",
    "                redata2=redata[redata[\"NotebookName\"]==notebook]\n",
    "                redata2=redata2.reset_index(drop=True)\n",
    "                code_mix=\"\\n\".join(list(df3[\"code\"]))\n",
    "                \n",
    "#                 print(\"user資料:\", len(df3))\n",
    "#                 print(\"re項目數：\",len(redata2))\n",
    "#                 print(\"===codemix===\")\n",
    "#                 print(code_mix)\n",
    "#                 print(\"============\")\n",
    "                \n",
    "                for i in range(len(redata2)):\n",
    "                    a=redata2.loc[i,\"KeypointNo\"]\n",
    "                    cursor=conn.cursor()\n",
    "                    cursor.execute('''\n",
    "                    select `KeypointCount`,`Catched`, `KeypointDone` \n",
    "                    from `edm`.`implementation` \n",
    "                    where `NotebookName` = '{}' and `Username` = '{}' and `KeypointNo`={};\n",
    "                    '''.format(notebook, user, a))\n",
    "                    y=cursor.fetchall()\n",
    "                    cursor.close()\n",
    "                    \n",
    "                    # done, catched_plus, count_plus\n",
    "                    count=y[0][0]\n",
    "                    if pd.isnull(count): count=0\n",
    "                    catched=y[0][1]\n",
    "                    if pd.isnull(catched): catched=\"\"\n",
    "                    done=y[0][2]\n",
    "                    if pd.isnull(done): done=0\n",
    "                    catched_plus=\"\"\n",
    "                    x=re.findall(redata2.loc[i,\"KeypointRE\"], code_mix)\n",
    "                    count_plus=len(x)\n",
    "                    if x !=[]:\n",
    "                        done=1\n",
    "                        catched_plus=\"\\n\".join(x)\n",
    "                    if pd.isnull(count):\n",
    "                        count=count_plus\n",
    "                    else:\n",
    "                        count+=count_plus\n",
    "                    if pd.isnull(catched):\n",
    "                        catched=catched_plus\n",
    "                    else:\n",
    "                        catched+=catched_plus    \n",
    "                    if catched_plus!=\"\":\n",
    "                        print(\"user:\",user,\"    target:\",redata2.loc[i,\"KeypointRE\"], \"\\n    本次完成:\", done, \"    計次:\",count, \"    結果:\",catched_plus)\n",
    "                        print(\"=\"*50)\n",
    "                        \n",
    "                    cursor=conn.cursor()\n",
    "                    catched=catched.replace(\"\\'\",\"\\\"\")\n",
    "                    row=cursor.execute('''\n",
    "                    UPDATE `edm`.`implementation` \n",
    "                    SET `KeypointDone` = {} , `KeypointCount` = {}, `Catched` = '{}'\n",
    "                    WHERE `NotebookName`='{}' and `Username`='{}' and `KeypointNo`={};\n",
    "                    '''.format(done, count, catched, notebook, user, a))\n",
    "                    conn.commit()\n",
    "                    cursor.close()\n",
    "                    \n",
    "        print(\"finish: implementation renew\" )\n",
    "        print(\"=\"*50)\n",
    "\n",
    "        with open(\"lastindex.txt\",\"w\",encoding=\"utf-8\") as x:\n",
    "            x.write(str(ind2))\n",
    "            print(\"reset index:\", ind2, \"\\n\")\n",
    "    conn.close()\n",
    "    \n",
    "    time.sleep(10)\n",
    "    if datetime.now() > datetime(2021,1,13,23,59,59,0):\n",
    "        conn.close()\n",
    "        break"
   ]
  },
  {
   "cell_type": "code",
   "execution_count": null,
   "metadata": {},
   "outputs": [],
   "source": [
    "# conn=pymysql.connect(host=\"\", port=3306, user=\"\", passwd=\"\", db=\"\", charset=\"\")\n",
    "\n",
    "# cursor=conn.cursor()\n",
    "# cursor.execute(\"select `Username` from `edm`.`member` ;\") #where `Role`='學生';\")\n",
    "# u=cursor.fetchall()\n",
    "# cursor.close()\n",
    "# userlist=[]\n",
    "# for i in u:\n",
    "#     userlist.append(i[0]) \n",
    "\n",
    "# for user in userlist[-3:]:\n",
    "#     print(\"=====\",user,\"=====\")\n",
    "#     cursor=conn.cursor()\n",
    "#     cursor.execute(\"select `notebookName` from `edm`.`edm_log` where `Username`='{}';\".format(user))\n",
    "#     n=cursor.fetchall()\n",
    "#     cursor.close()\n",
    "#     nblist=[]\n",
    "#     for i in n:\n",
    "#         nblist.append(i[0])\n",
    "#     nblist=list(set(nblist))\n",
    "#     for nb in nblist:\n",
    "#         print(nb)\n",
    "#         sql='''select `log_id`, `Remark`, `RemarkLength` from `edm`.`edm_log` \n",
    "#         where `notebookName`='{}' and `Username`='{}';'''.format(nb, user)\n",
    "#         cursor=conn.cursor()\n",
    "#         cursor.execute(sql)\n",
    "#         d=cursor.fetchall()\n",
    "#         cursor.close()\n",
    "#         for i in range(len(d)):\n",
    "#             rmk=len(d[i][1])\n",
    "#             if i==0:\n",
    "#                 rmk_len_renew=rmk\n",
    "#             elif i!=0:\n",
    "#                 rmk_len_renew+=rmk\n",
    "#             sql='''UPDATE `edm`.`edm_log` \n",
    "#             SET `RemarkLength`={}  \n",
    "#             WHERE (`log_id` = '{}');'''.format(rmk_len_renew, d[i][0])\n",
    "#             cursor=conn.cursor()\n",
    "#             row=cursor.execute(sql)\n",
    "#             conn.commit()\n",
    "#             cursor.close()"
   ]
  },
  {
   "cell_type": "markdown",
   "metadata": {},
   "source": [
    "### fix"
   ]
  },
  {
   "cell_type": "code",
   "execution_count": null,
   "metadata": {},
   "outputs": [],
   "source": [
    "sql='''\n",
    "UPDATE `edm`.`edm_log` \n",
    "SET `NotebookName` = '【Prac08】 Real-time Mask Inventory Data.ipynb' \n",
    "WHERE (`Username`='109522011' and `NotebookName` like \"%Prac08%\");\n",
    "'''\n",
    "conn=pymysql.connect(host=\"\", port=3306, user=\"\", passwd=\"\", db=\"\", charset=\"\")\n",
    "cursor=conn.cursor()\n",
    "row=cursor.execute(sql)\n",
    "conn.commit()\n",
    "cursor.close()"
   ]
  },
  {
   "cell_type": "markdown",
   "metadata": {},
   "source": [
    "## error_data"
   ]
  },
  {
   "cell_type": "code",
   "execution_count": null,
   "metadata": {},
   "outputs": [],
   "source": [
    "conn=pymysql.connect(host=\"\", port=3306, user=\"\", passwd=\"\", db=\"\", charset=\"\")\n",
    "cursor=conn.cursor()\n",
    "row=cursor.execute('''select `Username`,`notebookName`,`kernelId`,`cellId`,`errorName`,`errorValue`,`timestamp` \n",
    "                    from `edm`.`edm_log` \n",
    "                    where `event` = 'code_execution';''')\n",
    "err=cursor.fetchall()\n",
    "cursor.close()"
   ]
  },
  {
   "cell_type": "code",
   "execution_count": null,
   "metadata": {},
   "outputs": [],
   "source": [
    "Username=[]\n",
    "NotebookName=[]\n",
    "KernelId=[]\n",
    "CellId=[]\n",
    "ErrorName=[]\n",
    "ErrorValue=[]\n",
    "Timestamp=[]\n",
    "\n",
    "for e in err:\n",
    "    Username.append(e[0])\n",
    "    NotebookName.append(e[1])\n",
    "    KernelId.append(e[2])\n",
    "    CellId.append(e[3])\n",
    "    ErrorName.append(e[4])\n",
    "    ErrorValue.append(e[5])\n",
    "    Timestamp.append(e[6])\n",
    "\n",
    "df=pd.DataFrame({\n",
    "    \"Username\":Username,\n",
    "    \"NotebookName\":NotebookName,\n",
    "    \"KernelId\":KernelId,\n",
    "    \"CellId\":CellId,\n",
    "    \"ErrorName\":ErrorName,\n",
    "    \"ErrorValue\":ErrorValue,\n",
    "    \"Timestamp\":Timestamp})"
   ]
  },
  {
   "cell_type": "code",
   "execution_count": null,
   "metadata": {},
   "outputs": [],
   "source": [
    "df=df.fillna(\"\")"
   ]
  },
  {
   "cell_type": "code",
   "execution_count": null,
   "metadata": {},
   "outputs": [],
   "source": [
    "df.ErrorValue=list(map(lambda x: x.split(\"(<\")[0], df.ErrorValue))\n",
    "df.Timestamp=list(map(lambda x: datetime.strptime(\":\".join(x.split(\":\")[:-1]), \"%Y-%m-%d-%H:%M:%S\"), df.Timestamp))"
   ]
  },
  {
   "cell_type": "code",
   "execution_count": null,
   "metadata": {},
   "outputs": [],
   "source": [
    "df=df.sort_values(\"Timestamp\")"
   ]
  },
  {
   "cell_type": "code",
   "execution_count": null,
   "metadata": {},
   "outputs": [],
   "source": [
    "df.head()"
   ]
  },
  {
   "cell_type": "code",
   "execution_count": null,
   "metadata": {},
   "outputs": [],
   "source": [
    "Username1=[]\n",
    "NotebookName1=[]\n",
    "KernelId1=[]\n",
    "CellId1=[]\n",
    "ErrorName1=[]\n",
    "ErrorValue1=[]\n",
    "Timestamp1=[]\n",
    "Timespent=[]\n",
    "Trycount=[]\n",
    "Solved=[]\n",
    "\n",
    "Username_list=list(set(df[\"Username\"]))\n",
    "for user in Username_list:\n",
    "    print(\"===========\"+user+\"===========\")\n",
    "    df1=df[df[\"Username\"]==user]\n",
    "    NotebookName_list=list(set(df1[\"NotebookName\"]))\n",
    "    for nb in NotebookName_list:\n",
    "        df2=df1[df1[\"NotebookName\"]==nb]\n",
    "        KernelId_list=list(set(df2[\"KernelId\"]))\n",
    "        for knl in KernelId_list:\n",
    "            print(\"\\\\\"+nb+\"\\\\\")\n",
    "            df3=df2[df2[\"KernelId\"]==knl]\n",
    "            CellId_list=list(set(df3[\"CellId\"]))\n",
    "            for cell in CellId_list:\n",
    "                df4=df3[df3[\"CellId\"]==cell]\n",
    "                df4=df4.reset_index(drop=True)\n",
    "                \n",
    "                ErrorName_pre=\"\"\n",
    "                ErrorValue_pre=\"\"\n",
    "                timespent=timedelta(0)\n",
    "                time_pre=df4.loc[0, \"Timestamp\"] \n",
    "                try_count=0\n",
    "                solved=0\n",
    "                for i in range(len(df4)):\n",
    "                    ErrorName_now=df4.loc[i, \"ErrorName\"]\n",
    "                    ErrorValue_now=df4.loc[i, \"ErrorValue\"]\n",
    "                    time_now=df4.loc[i, \"Timestamp\"]    \n",
    "                    \n",
    "                   \n",
    "                    if ErrorName_now==ErrorName_pre and ErrorValue_now==ErrorValue_pre:\n",
    "                        timespent+=(time_now-time_pre)\n",
    "                        try_count+=1\n",
    "                        if i==len(df4)-1:\n",
    "                            print(\">>\"+ErrorName_pre+\"【\"+ErrorValue_pre+\"】 Solved:\"+str(solved)+\" Try:\"+str(try_count))\n",
    "                            print(\"      @\"+str(time_now)+\" [\"+str(timespent.seconds)+\"]\")\n",
    "                            Username1.append(user)\n",
    "                            NotebookName1.append(nb)\n",
    "                            KernelId1.append(knl)\n",
    "                            CellId1.append(cell)\n",
    "                            ErrorName1.append(ErrorName_pre)\n",
    "                            ErrorValue1.append(ErrorValue_pre)\n",
    "                            Timestamp1.append(time_now)\n",
    "                            Timespent.append(timespent.seconds)\n",
    "                            Trycount.append(try_count)\n",
    "                            Solved.append(solved)                            \n",
    "                    elif ErrorName_pre!=\"\" and ErrorValue_now!=ErrorValue_pre:\n",
    "                        timespent+=(time_now-time_pre)\n",
    "                        try_count+=1\n",
    "                        solved=1\n",
    "                        print(\">>\"+ErrorName_pre+\"【\"+ErrorValue_pre+\"】 Solved:\"+str(solved)+\" Try:\"+str(try_count))\n",
    "                        print(\"      @\"+str(time_now)+\" [\"+str(timespent.seconds)+\"]\")\n",
    "                        Username1.append(user)\n",
    "                        NotebookName1.append(nb)\n",
    "                        KernelId1.append(knl)\n",
    "                        CellId1.append(cell)\n",
    "                        ErrorName1.append(ErrorName_pre)\n",
    "                        ErrorValue1.append(ErrorValue_pre)\n",
    "                        Timestamp1.append(time_now)\n",
    "                        Timespent.append(timespent.seconds)\n",
    "                        Trycount.append(try_count)\n",
    "                        Solved.append(solved)\n",
    "\n",
    "                        timespent=timedelta(0)\n",
    "                        try_count=0\n",
    "                        solved=0\n",
    "                        \n",
    "                    ErrorName_pre=copy.deepcopy(ErrorName_now)\n",
    "                    ErrorValue_pre=copy.deepcopy(ErrorValue_now)\n",
    "                    time_pre=copy.deepcopy(time_now)\n",
    "\n",
    "dfx=pd.DataFrame({\n",
    "    \"Username\":Username1,\n",
    "    \"NotebookName\":NotebookName1,\n",
    "    \"KernelId\":KernelId1,\n",
    "    \"CellId\":CellId1,\n",
    "    \"ErrorName\":ErrorName1,\n",
    "    \"ErrorValue\":ErrorValue1,\n",
    "    \"Timestamp\":Timestamp1,\n",
    "    \"Timespent\":Timespent,\n",
    "    \"Trycount\":Trycount,\n",
    "    \"Solved\":Solved})"
   ]
  },
  {
   "cell_type": "code",
   "execution_count": null,
   "metadata": {
    "scrolled": true
   },
   "outputs": [],
   "source": [
    "dfx=dfx[dfx[\"ErrorName\"]!=\"\"]\n",
    "dfx=dfx.reset_index(drop=True)\n",
    "dfx.head(100)"
   ]
  },
  {
   "cell_type": "code",
   "execution_count": null,
   "metadata": {},
   "outputs": [],
   "source": [
    "#df[(df[\"Username\"]==\"hch\") & (df[\"NotebookName\"]==\"書籍分群.ipynb\")]"
   ]
  },
  {
   "cell_type": "code",
   "execution_count": null,
   "metadata": {
    "scrolled": true
   },
   "outputs": [],
   "source": [
    "#dfx[(dfx[\"Username\"]==\"hch\") & (dfx[\"NotebookName\"]==\"書籍分群.ipynb\")]"
   ]
  },
  {
   "cell_type": "code",
   "execution_count": null,
   "metadata": {},
   "outputs": [],
   "source": [
    "conn=pymysql.connect(host=\"\", port=3306, user=\"\", passwd=\"\", db=\"\", charset=\"\")\n",
    "cursor=conn.cursor()\n",
    "row=cursor.execute('''select distinct`WeekNumber`,`Date` from `edm`.`section` where `Date` is not Null order by `WeekNumber`;''')\n",
    "s=cursor.fetchall()\n",
    "cursor.close()"
   ]
  },
  {
   "cell_type": "code",
   "execution_count": null,
   "metadata": {
    "scrolled": true
   },
   "outputs": [],
   "source": [
    "s"
   ]
  },
  {
   "cell_type": "code",
   "execution_count": null,
   "metadata": {},
   "outputs": [],
   "source": [
    "weeknumber=[]\n",
    "for i in range(len(dfx)):\n",
    "    week=0\n",
    "    for j,k in s:\n",
    "        if dfx.loc[i,\"Timestamp\"]>k:\n",
    "            week=j\n",
    "    weeknumber.append(week)\n",
    "dfx[\"WeekNumber\"]=weeknumber"
   ]
  },
  {
   "cell_type": "code",
   "execution_count": null,
   "metadata": {},
   "outputs": [],
   "source": [
    "conn=pymysql.connect(host=\"\", port=3306, user=\"\", passwd=\"\", db=\"\", charset=\"\")\n",
    "cursor=conn.cursor()\n",
    "row=cursor.execute('''select `SectionNumber`,`NotebookName` from `edm`.`section` where `NotebookName` like \"【%\";''')\n",
    "n=cursor.fetchall()\n",
    "cursor.close()"
   ]
  },
  {
   "cell_type": "code",
   "execution_count": null,
   "metadata": {},
   "outputs": [],
   "source": [
    "n"
   ]
  },
  {
   "cell_type": "code",
   "execution_count": null,
   "metadata": {},
   "outputs": [],
   "source": [
    "sectionnumber=[]\n",
    "for i in range(len(dfx)):\n",
    "    sn=0\n",
    "    for j,k in n:\n",
    "        if dfx.loc[i,\"NotebookName\"]==k:\n",
    "            sn=j\n",
    "    sectionnumber.append(sn)\n",
    "dfx[\"SectionNumber\"]=sectionnumber"
   ]
  },
  {
   "cell_type": "code",
   "execution_count": null,
   "metadata": {},
   "outputs": [],
   "source": [
    "dfx=dfx[dfx[\"Username\"]!=\"\"].reset_index(drop=True)\n",
    "dfx.head()"
   ]
  },
  {
   "cell_type": "code",
   "execution_count": null,
   "metadata": {},
   "outputs": [],
   "source": [
    "dfx.to_excel(\"error_data.xlsx\")"
   ]
  },
  {
   "cell_type": "code",
   "execution_count": null,
   "metadata": {},
   "outputs": [],
   "source": [
    "conn=pymysql.connect(host=\"\", port=3306, user=\"\", passwd=\"\", db=\"\", charset=\"\")\n",
    "for i in range(len(dfx)):\n",
    "    a=\"`,`\".join(list(dfx.columns))\n",
    "    b=dfx.iloc[i,0]\n",
    "    c=dfx.iloc[i,1]\n",
    "    d=dfx.iloc[i,2]\n",
    "    e=dfx.iloc[i,3]\n",
    "    f=dfx.iloc[i,4]\n",
    "    g=dfx.iloc[i,5].replace(\"'\",'\"')\n",
    "    h=dfx.iloc[i,6]\n",
    "    j=dfx.iloc[i,7]\n",
    "    k=dfx.iloc[i,8]\n",
    "    l=dfx.iloc[i,9]\n",
    "    m=dfx.iloc[i,10]\n",
    "    n=dfx.iloc[i,11]\n",
    "    \n",
    "    sql='''INSERT INTO `edm`.`error` (`{}`) VALUES ('{}','{}','{}','{}','{}','{}','{}',{},{},{},{},{});'''.format(a,b,c,d,e,f,g,h,j,k,l,m,n)\n",
    "    cursor=conn.cursor()\n",
    "    row=cursor.execute(sql)\n",
    "    conn.commit()\n",
    "    cursor.close()"
   ]
  },
  {
   "cell_type": "markdown",
   "metadata": {},
   "source": [
    "# renew_implementation_by_notebook"
   ]
  },
  {
   "cell_type": "code",
   "execution_count": null,
   "metadata": {
    "scrolled": true
   },
   "outputs": [],
   "source": [
    "import time\n",
    "import datetime\n",
    "import pymysql\n",
    "import numpy as np\n",
    "import pandas as pd\n",
    "import re\n",
    "import os\n",
    "import copy\n",
    "from datetime import datetime, timedelta\n",
    "# from IPython import display\n",
    "# pd.set_option('display.max_columns', None)\n",
    "# pd.set_option('display.max_rows', None)\n",
    "\n",
    "conn=pymysql.connect(host=\"\", port=3306, user=\"\", passwd=\"\", db=\"\", charset=\"\")\n",
    "\n",
    "\n",
    "# while True:\n",
    "#     print(str(datetime.now()))\n",
    "\n",
    "##### userlist #####\n",
    "cursor=conn.cursor()\n",
    "cursor.execute(\"select `Username` from `edm`.`member` ;\") #where `Role`='學生';\")\n",
    "u=cursor.fetchall()\n",
    "cursor.close()\n",
    "userlist=[]\n",
    "for i in u:\n",
    "    userlist.append(i[0]) \n",
    "\n",
    "notebook_now=input(\"input the target notebook name:\")\n",
    "##### data #####\n",
    "cursor=conn.cursor()\n",
    "cursor.execute(\"select * from edm_log where `notebookName`='{}'\".format(notebook_now))\n",
    "data=cursor.fetchall()\n",
    "cursor.close()\n",
    "\n",
    "\n",
    "print(\"renewing notebook:\", notebook_now)\n",
    "title=['log_id', 'user_id', 'code', 'event', 'isError', 'kernelId', 'notebookName', 'notebookPath', 'cellId', 'timestamp', 'text', 'codeLength', 'errorName', 'errorValue','Remark','Cleancode','Username']\n",
    "df=pd.DataFrame()\n",
    "for i in range(len(title)):\n",
    "    li=[]\n",
    "    for j in data:\n",
    "        li.append(j[i])\n",
    "    df[title[i]]=li\n",
    "print(\"本次資料：\",len(df))\n",
    "\n",
    "##### implementation #####\n",
    "redata=pd.read_excel(\"python_re.xlsx\", sheet_name=\"全\")\n",
    "redata=redata[redata[\"NotebookName\"]==notebook_now]\n",
    "redata=redata.reset_index(drop=True)\n",
    "\n",
    "\n",
    "for user in userlist:\n",
    "    print(\"==========renewing implementation:\", user)\n",
    "    df3=df[df[\"Username\"]==user]\n",
    "    df3=df3[pd.notnull(df3[\"code\"])]\n",
    "    code_mix=\"\\n\".join(list(df3[\"code\"]))\n",
    "    #print(\"user資料:\", len(df3))\n",
    "    #print(\"===codemix===\")\n",
    "    #print(code_mix)\n",
    "    #print(\"============\")\n",
    "    for i in range(len(redata)):\n",
    "        a=redata.loc[i,\"KeypointNo\"]\n",
    "        # done, catched_plus, count_plus\n",
    "        x=re.findall(redata.loc[i,\"KeypointRE\"], code_mix)\n",
    "        count=len(x)\n",
    "        done=0\n",
    "        if x!=[]:\n",
    "            done=1\n",
    "        catched=\"\\n\".join(x)    \n",
    "        print(\"user:\",user,\"    target:\",redata.loc[i,\"KeypointRE\"], \"\\n    本次完成:\", done, \"    計次:\",count, \"    結果:\",catched)\n",
    "        \n",
    "        cursor=conn.cursor()\n",
    "        catched=catched.replace(\"\\'\",\"\\\"\")\n",
    "        row=cursor.execute('''\n",
    "        UPDATE `edm`.`implementation` \n",
    "        SET `KeypointDone` = {} , `KeypointCount` = {}, `Catched` = '{}'  WHERE `NotebookName`='{}' and `Username`='{}' and `KeypointNo`={};\n",
    "        '''.format(done, count, catched, notebook_now, user, a))\n",
    "        conn.commit()\n",
    "        cursor.close()\n",
    "print(\"finish: implementation renew\" )\n",
    "print(\"=\"*50)\n",
    "\n",
    "#     with open(\"lastindex.txt\",\"w\",encoding=\"utf-8\") as x:\n",
    "#         x.write(str(ind))\n",
    "#     time.sleep(10)\n",
    "    \n",
    "#     if datetime.now() > datetime(2021,1,13,23,59,59,0):\n",
    "#         conn.close()\n",
    "#         break\n"
   ]
  },
  {
   "cell_type": "markdown",
   "metadata": {},
   "source": [
    "# prepare database"
   ]
  },
  {
   "cell_type": "markdown",
   "metadata": {},
   "source": [
    "## member data"
   ]
  },
  {
   "cell_type": "code",
   "execution_count": null,
   "metadata": {},
   "outputs": [],
   "source": [
    "md=pd.read_excel(\"member.xlsx\")\n",
    "md.columns=md.iloc[0,:]\n",
    "md=md.drop(0,axis=0)\n",
    "md=md.reset_index(drop=True)\n",
    "md=md[[\"姓名\",\"帳號\"]]\n",
    "md[\"帳號\"]=pd.Series(list(md.loc[:,\"帳號\"]), dtype=\"int64\")\n",
    "\n",
    "qn=pd.read_excel(\"pre-questionnaire.xlsx\",sheet_name=\"clean\")\n",
    "qnx=qn[[\"帳號\",\"姓名\",\"單位\",\"Gender\",\"degree\",\"Grade\",\"codename\"]]\n",
    "\n",
    "member=pd.merge(md, qnx, on=[\"帳號\",\"姓名\"])\n",
    "member"
   ]
  },
  {
   "cell_type": "code",
   "execution_count": null,
   "metadata": {},
   "outputs": [],
   "source": [
    "# #清空表格\n",
    "# cursor=conn.cursor()\n",
    "# row=cursor.execute(\"TRUNCATE TABLE edm.member;\")\n",
    "# conn.commit()\n",
    "# cursor.close()"
   ]
  },
  {
   "cell_type": "code",
   "execution_count": null,
   "metadata": {},
   "outputs": [],
   "source": [
    "for i in range(len(member)):\n",
    "    a=member.loc[i,\"codename\"]\n",
    "    b=\"學生\"\n",
    "    c=member.loc[i,\"帳號\"]\n",
    "    d=member.loc[i,\"單位\"]\n",
    "    e=member.loc[i,\"degree\"]\n",
    "    f=member.loc[i,\"姓名\"]\n",
    "    g=member.loc[i,\"Grade\"]\n",
    "    h=member.loc[i,\"Gender\"]    \n",
    "    cursor=conn.cursor()\n",
    "    row=cursor.execute('''\n",
    "    INSERT INTO `edm`.`member` (`Name`, `Role`, `Username`,`Department`,`Degree`,`Truename`,`Grade`,`Gender`) \n",
    "    VALUES ('{}', '{}', '{}', '{}', '{}', '{}', '{}', '{}');\n",
    "    '''.format(a,b,c,d,e,f,g,h))\n",
    "    conn.commit()\n",
    "    cursor.close()"
   ]
  },
  {
   "cell_type": "markdown",
   "metadata": {},
   "source": [
    "### group"
   ]
  },
  {
   "cell_type": "code",
   "execution_count": null,
   "metadata": {},
   "outputs": [],
   "source": [
    "import pymysql\n",
    "import re\n",
    "import os\n",
    "import copy\n",
    "import numpy as np\n",
    "import pandas as pd\n",
    "from bs4 import BeautifulSoup\n",
    "from selenium import webdriver\n",
    "import time\n",
    "from datetime import datetime, timedelta\n",
    "import re\n",
    "import requests\n",
    "import os\n",
    "from urllib.request import urlretrieve\n",
    "#from urllib.parse import urlparse\n",
    "from urllib.request import urlopen\n",
    "pd.set_option('display.max_columns', None)\n",
    "pd.set_option('display.max_rows', None)\n",
    "\n",
    "\n",
    "\n",
    "conn=pymysql.connect(host=\"\", port=3306, user=\"\", passwd=\"\", db=\"\", charset=\"\")\n",
    "\n",
    "main=\"https://ncueeclass.ncu.edu.tw/course/teamStage/4599\"\n",
    "options = webdriver.ChromeOptions()\n",
    "prefs = {'profile.default_content_settings.popups': 0, 'download.default_directory': \".\\\\downloaded\"}\n",
    "options.add_experimental_option('prefs', prefs)\n",
    "\n",
    "u=\"m946108005@tmu.edu.tw\"\n",
    "p=\"tjp3tjp3\"\n",
    "\n",
    "driver=webdriver.Chrome(\"D:/programming_useful_material/chromedriver.exe\",chrome_options=options)\n",
    "driver.get(main)\n",
    "#time.sleep(2)\n",
    "element_login=driver.find_element_by_link_text('Login')\n",
    "element_login.click()\n",
    "\n",
    "element_account=driver.find_element_by_xpath('//*[@id=\"account\"]/div/input')\n",
    "element_account.send_keys(u)\n",
    "element_password=driver.find_element_by_xpath('//*[@id=\"password\"]/div/div[1]/input')\n",
    "element_password.send_keys(p)\n",
    "element_send=driver.find_element_by_xpath('//*[@id=\"login_form\"]/div[6]/div/button')\n",
    "element_send.click()\n",
    "\n",
    "#####group#####\n",
    "time.sleep(1)\n",
    "element_group=driver.find_element_by_link_text('小組專區')\n",
    "element_group.click()\n",
    "\n",
    "html=driver.page_source\n",
    "soup=BeautifulSoup(html, \"html.parser\")\n",
    "trs=soup.select(\"table#teamStageListTable tbody tr\")\n",
    "for tr in trs:\n",
    "    stds=\"\"\n",
    "    grp=int(tr.select(\"td\")[1].text.strip().replace(\" \",\"\")[1])\n",
    "    stds+=tr.select(\"td\")[2].text+\", \"+tr.select(\"td\")[3].text\n",
    "    stds=stds.split(\", \")\n",
    "    for std in stds:\n",
    "        print(std, grp)\n",
    "        \n",
    "        cursor=conn.cursor()\n",
    "        cursor.execute(\"select `Name`,`Username` from `edm`.`member` where `Truename`='{}';\".format(std)) \n",
    "        section=cursor.fetchall()\n",
    "        cursor.close()\n",
    "        if section!=():\n",
    "            na=section[0][0]\n",
    "            usna=section[0][1]\n",
    "        else:\n",
    "            for i in range(len(std)):\n",
    "                x=list(std)\n",
    "                x[i]=\"?\"\n",
    "                stdtry=\"\".join(x)\n",
    "                cursor=conn.cursor()\n",
    "                cursor.execute(\"select `Name`,`Username` from `edm`.`member` where `Truename`='{}';\".format(stdtry)) \n",
    "                section=cursor.fetchall()\n",
    "                cursor.close()\n",
    "                if section!=():\n",
    "                    na=section[0][0]\n",
    "                    usna=section[0][1]\n",
    "                    break\n",
    "\n",
    "        sql='''UPDATE `edm`.`member` SET `Group` = {} WHERE (`Username` = '{}' and `Name`='{}');'''.format(grp, usna, na)\n",
    "        cursor=conn.cursor()\n",
    "        row=cursor.execute(sql)\n",
    "        conn.commit()\n",
    "        cursor.close()\n",
    "driver.close()"
   ]
  },
  {
   "cell_type": "markdown",
   "metadata": {},
   "source": [
    "### 檢驗點成績"
   ]
  },
  {
   "cell_type": "code",
   "execution_count": null,
   "metadata": {},
   "outputs": [],
   "source": [
    "#quiz1 & quiz2\n",
    "\n",
    "conn=pymysql.connect(host=\"\", port=3306, user=\"\", passwd=\"\", db=\"\", charset=\"\")\n",
    "sql=\"select `Username`, `SectionName`, `SectionScore` from `edm`.`member_class` where `SectionType`='quiz';\"\n",
    "cursor=conn.cursor()\n",
    "cursor.execute(sql)\n",
    "p=cursor.fetchall()\n",
    "cursor.close()"
   ]
  },
  {
   "cell_type": "code",
   "execution_count": null,
   "metadata": {},
   "outputs": [],
   "source": [
    "Username=[]\n",
    "SectionName=[]\n",
    "SectionScore=[]\n",
    "for i,j,k in p:\n",
    "    Username.append(i)\n",
    "    SectionName.append(j)\n",
    "    SectionScore.append(k)\n",
    "df=pd.DataFrame({\"Username\":Username,\"SectionName\":SectionName,\"SectionScore\":SectionScore})"
   ]
  },
  {
   "cell_type": "code",
   "execution_count": null,
   "metadata": {},
   "outputs": [],
   "source": [
    "df1=df[df[\"SectionName\"]==\"【Quiz06】Quiz (1)\"]\n",
    "df2=df[df[\"SectionName\"]==\"【Quiz12】Quiz(2)\"]"
   ]
  },
  {
   "cell_type": "code",
   "execution_count": null,
   "metadata": {},
   "outputs": [],
   "source": [
    "for i in df1.index:\n",
    "    a=df1.loc[i,\"Username\"]\n",
    "    b=df1.loc[i,\"SectionScore\"]\n",
    "    sql='''UPDATE  `edm`.`member` SET `quiz1` = {} WHERE (`Username`='{}');'''.format(b, a)\n",
    "    cursor=conn.cursor()\n",
    "    row=cursor.execute(sql)\n",
    "    conn.commit()\n",
    "    cursor.close()"
   ]
  },
  {
   "cell_type": "code",
   "execution_count": null,
   "metadata": {},
   "outputs": [],
   "source": [
    "for i in df2.index:\n",
    "    a=df2.loc[i,\"Username\"]\n",
    "    b=df2.loc[i,\"SectionScore\"]\n",
    "    sql='''UPDATE  `edm`.`member` SET `quiz2` = {} WHERE (`Username`='{}');'''.format(b, a)\n",
    "    cursor=conn.cursor()\n",
    "    row=cursor.execute(sql)\n",
    "    conn.commit()\n",
    "    cursor.close()"
   ]
  },
  {
   "cell_type": "code",
   "execution_count": null,
   "metadata": {},
   "outputs": [],
   "source": [
    "#datathon\n",
    "\n",
    "conn=pymysql.connect(host=\"\", port=3306, user=\"\", passwd=\"\", db=\"\", charset=\"\")\n",
    "sql=\"select `Username`, `SectionScore` from `edm`.`member_class` where `SectionName`='【Pract16】Datathon';\"\n",
    "cursor=conn.cursor()\n",
    "cursor.execute(sql)\n",
    "p=cursor.fetchall()\n",
    "cursor.close()"
   ]
  },
  {
   "cell_type": "code",
   "execution_count": null,
   "metadata": {},
   "outputs": [],
   "source": [
    "for i,j in p:\n",
    "    sql='''UPDATE  `edm`.`member` SET `datathon` = {} WHERE (`Username`='{}');'''.format(j, i)\n",
    "    cursor=conn.cursor()\n",
    "    row=cursor.execute(sql)\n",
    "    conn.commit()\n",
    "    cursor.close()"
   ]
  },
  {
   "cell_type": "code",
   "execution_count": null,
   "metadata": {},
   "outputs": [],
   "source": [
    "#datathon_accomplish\n",
    "\n",
    "data=pd.read_excel(\"practice_score.xlsx\")\n",
    "data=data[data[\"SectionName\"]==\"【Pract16】Datathon\"].reset_index(drop=True)\n",
    "data.head()"
   ]
  },
  {
   "cell_type": "code",
   "execution_count": null,
   "metadata": {
    "scrolled": true
   },
   "outputs": [],
   "source": [
    "data1=data[[\"StudentId\",\"accomplish\"]].groupby(\"StudentId\").sum()\n",
    "data1[\"accomplish\"]=(data1[\"accomplish\"]/8) *100\n",
    "data1.head()"
   ]
  },
  {
   "cell_type": "code",
   "execution_count": null,
   "metadata": {},
   "outputs": [],
   "source": [
    "for i in data1.index:\n",
    "    sql='''UPDATE  `edm`.`member` SET `datathon_accomplish` = {} WHERE (`Username`='{}');'''.format(data1.loc[i,\"accomplish\"], i)\n",
    "    cursor=conn.cursor()\n",
    "    row=cursor.execute(sql)\n",
    "    conn.commit()\n",
    "    cursor.close()"
   ]
  },
  {
   "cell_type": "markdown",
   "metadata": {},
   "source": [
    "## pre-questionnaire"
   ]
  },
  {
   "cell_type": "code",
   "execution_count": null,
   "metadata": {},
   "outputs": [],
   "source": [
    "qn=pd.read_excel(\"pre-questionnaire.xlsx\",sheet_name=\"clean\", encoding=\"utf-8\")"
   ]
  },
  {
   "cell_type": "code",
   "execution_count": null,
   "metadata": {},
   "outputs": [],
   "source": [
    "li=list(qn.columns)\n",
    "for i in [\"filling_tm\",\"dpt\",\"gender\",\"degree\",\"grade\",\"name\"]:\n",
    "    li.remove(i)\n",
    "qn=qn[li]"
   ]
  },
  {
   "cell_type": "code",
   "execution_count": null,
   "metadata": {},
   "outputs": [],
   "source": [
    "#清空表格\n",
    "cursor=conn.cursor()\n",
    "row=cursor.execute(\"TRUNCATE TABLE `edm`.`pre-q`;\")\n",
    "conn.commit()\n",
    "cursor.close()"
   ]
  },
  {
   "cell_type": "code",
   "execution_count": null,
   "metadata": {
    "scrolled": true
   },
   "outputs": [],
   "source": [
    "for i in range(len(qn)):\n",
    "    print(i)\n",
    "    x=list(qn.loc[i,:])\n",
    "    xx=[]\n",
    "    ll=[]\n",
    "    for j in range(len(x)):\n",
    "        if pd.notnull(x[j]):\n",
    "            ll.append(li[j])\n",
    "            xx.append(x[j])\n",
    "    xx=tuple(xx)\n",
    "    ll=\"`,`\".join(ll)\n",
    "    sql=\"INSERT INTO `edm`.`pre-q` (`%s`) VALUES \"%ll+str(xx)\n",
    "    cursor=conn.cursor()\n",
    "    row=cursor.execute(sql)\n",
    "    conn.commit()\n",
    "    cursor.close()"
   ]
  },
  {
   "cell_type": "markdown",
   "metadata": {},
   "source": [
    "## After-questionnaire"
   ]
  },
  {
   "cell_type": "code",
   "execution_count": null,
   "metadata": {
    "scrolled": true
   },
   "outputs": [],
   "source": [
    "qn=pd.read_excel(\"after-questionnaire.xlsx\",sheet_name=\"clean\", encoding=\"utf-8\")\n",
    "qn"
   ]
  },
  {
   "cell_type": "code",
   "execution_count": null,
   "metadata": {
    "scrolled": true
   },
   "outputs": [],
   "source": [
    "conn=pymysql.connect(host=\"\", port=3306, user=\"\", passwd=\"\", db=\"\", charset=\"\")\n",
    "li=list(qn.columns)\n",
    "for i in range(len(qn)):\n",
    "    print(i)\n",
    "    x=list(qn.loc[i,:])\n",
    "    xx=[]\n",
    "    ll=[]\n",
    "    for j in range(len(x)):\n",
    "        if pd.notnull(x[j]):\n",
    "            ll.append(li[j])\n",
    "            xx.append(x[j])\n",
    "    xx=tuple(xx)\n",
    "    ll=\"`,`\".join(ll)\n",
    "    sql=\"INSERT INTO `edm`.`after-q` (`%s`) VALUES \"%ll+str(xx)\n",
    "    cursor=conn.cursor()\n",
    "    row=cursor.execute(sql)\n",
    "    conn.commit()\n",
    "    cursor.close()"
   ]
  },
  {
   "cell_type": "code",
   "execution_count": null,
   "metadata": {},
   "outputs": [],
   "source": [
    "# #清空表格\n",
    "# cursor=conn.cursor()\n",
    "# row=cursor.execute(\"TRUNCATE TABLE `edm`.`after-q`;\")\n",
    "# conn.commit()\n",
    "# cursor.close()"
   ]
  },
  {
   "cell_type": "markdown",
   "metadata": {},
   "source": [
    "## implementation data"
   ]
  },
  {
   "cell_type": "code",
   "execution_count": null,
   "metadata": {},
   "outputs": [],
   "source": [
    "# 清空表格\n",
    "# cursor=conn.cursor()\n",
    "# row=cursor.execute(\"TRUNCATE TABLE `edm`.`implementation`;\")\n",
    "# conn.commit()\n",
    "# cursor.close()"
   ]
  },
  {
   "cell_type": "code",
   "execution_count": null,
   "metadata": {},
   "outputs": [],
   "source": [
    "# 清空section\n",
    "# cursor=conn.cursor()\n",
    "# row=cursor.execute(\"DELETE FROM `edm`.`implementation` WHERE `SectionNumber` = 22;\")\n",
    "# conn.commit()\n",
    "# cursor.close()"
   ]
  },
  {
   "cell_type": "code",
   "execution_count": null,
   "metadata": {},
   "outputs": [],
   "source": [
    "#修改資料\n",
    "# cursor=conn.cursor()\n",
    "# row=cursor.execute(\"UPDATE `edm`.`implementation`  SET `SectionNumber` =18 WHERE (`SectionName` like '%Week12%');\")\n",
    "# conn.commit()\n",
    "# cursor.close()"
   ]
  },
  {
   "cell_type": "markdown",
   "metadata": {},
   "source": [
    "### by section"
   ]
  },
  {
   "cell_type": "code",
   "execution_count": null,
   "metadata": {
    "scrolled": true
   },
   "outputs": [],
   "source": [
    "cursor=conn.cursor()\n",
    "cursor.execute(\"select `Username` from `edm`.`member`;\")\n",
    "u=cursor.fetchall()\n",
    "cursor.close()\n",
    "userlist=[]\n",
    "for i in u:\n",
    "    userlist.append(i[0]) \n",
    "\n",
    "\n",
    "kp=pd.read_excel(\"python_re.xlsx\", sheet_name=\"全\")\n",
    "n=int(input(\"section number:\"))\n",
    "kp=kp[kp[\"SectionNumber\"]==n]\n",
    "\n",
    "mkp=pd.DataFrame()\n",
    "for u in userlist:\n",
    "    pre_mkp=copy.deepcopy(kp)\n",
    "    pre_mkp[\"Username\"]=[u]*len(pre_mkp)\n",
    "    mkp=pd.concat([mkp,pre_mkp], axis=0, ignore_index=True)\n",
    "\n",
    "##mkp[\"NotebookName\"]=[\"Untitled.ipynb\"]*len(mkp)\n",
    "\n",
    "for i in range(len(mkp)):\n",
    "    a=mkp.loc[i,\"Username\"]\n",
    "    b=mkp.loc[i,\"SectionNumber\"]\n",
    "    c=mkp.loc[i,\"SectionName\"]\n",
    "    d=mkp.loc[i,\"NotebookName\"]\n",
    "    e=mkp.loc[i,\"KeypointName\"].replace(\"\\'\",\"\\\"\")\n",
    "    f=mkp.loc[i,\"KeypointExample\"].replace(\"\\'\",\"\\\"\")\n",
    "    g=mkp.loc[i,\"KeypointNo\"]\n",
    "    print(\"=============================\")\n",
    "    print(i)\n",
    "    print(a,\"\\n\",b,\"\\n\",c,\"\\n\",d,\"\\n\",e,\"\\n\",f,\"\\n\",g)\n",
    "    cursor=conn.cursor()\n",
    "    row=cursor.execute('''INSERT INTO `edm`.`implementation` \n",
    "    (`Username`, `SectionNumber`, `SectionName`,`NotebookName`,`KeypointName`,`KeypointExample`,`KeypointNo`) \n",
    "    VALUES ('{}', {}, '{}', '{}', '{}', '{}', '{}');'''.format(a,b,c,d,e,f,g))\n",
    "    conn.commit()\n",
    "    cursor.close()"
   ]
  },
  {
   "cell_type": "markdown",
   "metadata": {},
   "source": [
    "### by section & user"
   ]
  },
  {
   "cell_type": "code",
   "execution_count": null,
   "metadata": {
    "scrolled": true
   },
   "outputs": [],
   "source": [
    "# cursor=conn.cursor()\n",
    "# cursor.execute(\"select `Username` from `edm`.`member`;\")\n",
    "# u=cursor.fetchall()\n",
    "# cursor.close()\n",
    "# userlist=[]\n",
    "# for i in u:\n",
    "#     userlist.append(i[0]) \n",
    "user=input(\"請輸入使用者帳號：\")\n",
    "\n",
    "kp=pd.read_excel(\"python_re.xlsx\", sheet_name=\"全\")\n",
    "n=int(input(\"section number:\"))\n",
    "kp=kp[kp[\"SectionNumber\"]==n]\n",
    "\n",
    "mkp=copy.deepcopy(kp)\n",
    "mkp[\"Username\"]=[user]*len(mkp)\n",
    "mkp=mkp.reset_index(drop=True)\n",
    "##mkp[\"NotebookName\"]=[\"Untitled.ipynb\"]*len(mkp)\n",
    "\n",
    "for i in range(len(mkp)):\n",
    "    a=mkp.loc[i,\"Username\"]\n",
    "    b=mkp.loc[i,\"SectionNumber\"]\n",
    "    c=mkp.loc[i,\"SectionName\"]\n",
    "    d=mkp.loc[i,\"NotebookName\"]\n",
    "    e=mkp.loc[i,\"KeypointName\"]\n",
    "    f=mkp.loc[i,\"KeypointExample\"].replace(\"\\'\",\"\\\"\")\n",
    "    g=mkp.loc[i,\"KeypointNo\"]\n",
    "    print(\"=============================\")\n",
    "    print(i)\n",
    "    print(a,\"\\n\",b,\"\\n\",c,\"\\n\",d,\"\\n\",e,\"\\n\",f,\"\\n\",g)\n",
    "    cursor=conn.cursor()\n",
    "    row=cursor.execute('''INSERT INTO `edm`.`implementation` \n",
    "    (`Username`, `SectionNumber`, `SectionName`,`NotebookName`,`KeypointName`,`KeypointExample`,`KeypointNo`) \n",
    "    VALUES ('{}', {}, '{}', '{}', '{}', '{}', '{}');'''.format(a,b,c,d,e,f,g))\n",
    "    conn.commit()\n",
    "    cursor.close()"
   ]
  },
  {
   "cell_type": "markdown",
   "metadata": {},
   "source": [
    "## section data"
   ]
  },
  {
   "cell_type": "markdown",
   "metadata": {},
   "source": [
    "### renew section"
   ]
  },
  {
   "cell_type": "code",
   "execution_count": null,
   "metadata": {},
   "outputs": [],
   "source": [
    "#清空表格\n",
    "cursor=conn.cursor()\n",
    "row=cursor.execute(\"TRUNCATE TABLE edm.section;\")\n",
    "conn.commit()\n",
    "cursor.close()"
   ]
  },
  {
   "cell_type": "code",
   "execution_count": null,
   "metadata": {
    "scrolled": true
   },
   "outputs": [],
   "source": [
    "sec=pd.read_excel(\"section.xlsx\", sheet_name=\"1\")\n",
    "sec"
   ]
  },
  {
   "cell_type": "code",
   "execution_count": null,
   "metadata": {
    "scrolled": true
   },
   "outputs": [],
   "source": [
    "li=list(sec.columns)\n",
    "for i in range(len(sec)):\n",
    "    x=list(sec.loc[i,:])\n",
    "    xx=[]\n",
    "    ll=[]\n",
    "    for j in range(len(x)):\n",
    "        if pd.notnull(x[j]):\n",
    "            ll.append(li[j])\n",
    "            xx.append(x[j])\n",
    "    xx=tuple(xx)\n",
    "    ll=\"`,`\".join(ll)\n",
    "    sql=\"INSERT INTO `edm`.`section` (`%s`) VALUES \"%ll+str(xx)\n",
    "    cursor=conn.cursor()\n",
    "    row=cursor.execute(sql)\n",
    "    conn.commit()\n",
    "    cursor.close()"
   ]
  },
  {
   "cell_type": "markdown",
   "metadata": {},
   "source": [
    "### section initial content"
   ]
  },
  {
   "cell_type": "code",
   "execution_count": null,
   "metadata": {},
   "outputs": [],
   "source": [
    "import pymysql\n",
    "import numpy as np\n",
    "import pandas as pd\n",
    "import re\n",
    "import os\n",
    "import copy\n",
    "from datetime import datetime, timedelta\n",
    "from bs4 import BeautifulSoup\n",
    "from selenium import webdriver\n",
    "import requests\n",
    "from urllib.request import urlretrieve\n",
    "#from urllib.parse import urlparse\n",
    "from urllib.request import urlopen\n",
    "pd.set_option('display.max_columns', None)\n",
    "pd.set_option('display.max_rows', None)"
   ]
  },
  {
   "cell_type": "code",
   "execution_count": null,
   "metadata": {
    "scrolled": true
   },
   "outputs": [],
   "source": [
    "#字數不算\"\\n\"\n",
    "#html_list=os.listdir(\"./original_html\")\n",
    "html_list=[input(\"新html檔案名稱\")]\n",
    "\n",
    "for i in range(len(html_list)):\n",
    "    html=open(\"./original_html/\"+html_list[i], encoding=\"utf-8\")\n",
    "    x=html.read()\n",
    "    html.close()\n",
    "    x=BeautifulSoup(x, \"html.parser\")\n",
    "    xx=x.select(\"div#notebook-container\")[0].select(\"div.inner_cell\")\n",
    "    code=\"\"\n",
    "    remark=\"\"\n",
    "    for j in range(len(xx)):\n",
    "        xx[j]=xx[j].text.replace(\"\\n\\n\", \"\").strip(\"\\n\")\n",
    "    while \"\\n\" in xx:\n",
    "        xx.remove(\"\\n\")\n",
    "    #print(xx)\n",
    "    \n",
    "    #section_name\n",
    "    section_name=html_list[i].split(\".html\")[0]\n",
    "    print(section_name)\n",
    "    \n",
    "    #InitialContent \n",
    "    initial_content=\"\\n\".join(xx).replace(\"'\",'\"')\n",
    "    \n",
    "    #InitialContent_RmCt\n",
    "    md=\"\"\n",
    "    for j in xx:\n",
    "        if \"¶\" in j:\n",
    "            md+=j\n",
    "    rm=re.findall(\"#.*[\\n]?\", initial_content)\n",
    "    initial_content_rmct=len(\"\".join(rm).replace(\"\\n\",\"\"))+len(md.replace(\"\\n\",\"\"))\n",
    "#     print(md)\n",
    "#     print(rm)\n",
    "    print(initial_content_rmct)\n",
    "\n",
    "    #InitialContent_CdCt\n",
    "    initial_content_cdct=len(initial_content.replace(\"\\n\",\"\"))-initial_content_rmct\n",
    "    print(initial_content_cdct)\n",
    "    \n",
    "    sql='''UPDATE `edm`.`section` \n",
    "    SET `InitialContent`='{}', `InitialContent_CdCt`='{}',`InitialContent_RmCt`='{}' \n",
    "    WHERE (`SectionName`='{}');'''.format(initial_content, initial_content_cdct, initial_content_rmct, section_name)\n",
    "    cursor=conn.cursor()\n",
    "    row=cursor.execute(sql)\n",
    "    conn.commit()\n",
    "    cursor.close()\n",
    "    print(\"======================================\")\n",
    "    "
   ]
  },
  {
   "cell_type": "code",
   "execution_count": null,
   "metadata": {},
   "outputs": [],
   "source": []
  },
  {
   "cell_type": "code",
   "execution_count": null,
   "metadata": {},
   "outputs": [],
   "source": []
  },
  {
   "cell_type": "code",
   "execution_count": null,
   "metadata": {},
   "outputs": [],
   "source": [
    "    "
   ]
  },
  {
   "cell_type": "markdown",
   "metadata": {},
   "source": [
    "## practice data"
   ]
  },
  {
   "cell_type": "code",
   "execution_count": null,
   "metadata": {},
   "outputs": [],
   "source": [
    "import pymysql\n",
    "import numpy as np\n",
    "import pandas as pd\n",
    "import re\n",
    "import os\n",
    "import copy\n",
    "from datetime import datetime, timedelta\n",
    "from bs4 import BeautifulSoup\n",
    "from selenium import webdriver\n",
    "import requests\n",
    "from urllib.request import urlretrieve\n",
    "#from urllib.parse import urlparse\n",
    "from urllib.request import urlopen\n",
    "pd.set_option('display.max_columns', None)\n",
    "pd.set_option('display.max_rows', None)"
   ]
  },
  {
   "cell_type": "code",
   "execution_count": null,
   "metadata": {},
   "outputs": [],
   "source": [
    "html_list=os.listdir(\"./original_html\")\n",
    "for i in range(len(html_list)):\n",
    "    html=open(\"./original_html/\"+html_list[i], encoding=\"utf-8\")\n",
    "    x=html.read()\n",
    "    html.close()\n",
    "    x=BeautifulSoup(x, \"html.parser\")\n",
    "    xx=x.select(\"div#notebook-container\")[0].select(\"div.inner_cell\")\n",
    "    for j in range(len(xx)): \n",
    "        xx[j]=xx[j].text.replace(\"'\",'\"').strip()\n",
    "        if xx[j]==\"\\n\": xx[j]=\"\"\n",
    "        if \"!!! please DO NOT rename this file !!!\" in xx[j]: xx[j]=\"\"\n",
    "        if \"student id:\\nname\" in xx[j]: xx[j]=\"\"\n",
    "    while \"\" in xx: xx.remove(\"\")\n",
    "\n",
    "    section_name=html_list[i].split(\".html\")[0]\n",
    "    print(section_name)\n",
    "    \n",
    "    sql=\"select `WeekNumber`, `SectionNumber` from `edm`.`section` where `SectionName`='{}';\".format(section_name)\n",
    "    cursor=conn.cursor()\n",
    "    cursor.execute(sql)\n",
    "    data=cursor.fetchall()\n",
    "    cursor.close()\n",
    "    week_number=data[0][0]\n",
    "    section_number=data[0][1]\n",
    "    \n",
    "    if \"Prac\" in html_list[i] and \"Prac08\" not in section_name:\n",
    "        for j in range(len(xx)):\n",
    "            print(xx[j])\n",
    "            print(\"===========\")\n",
    "            \n",
    "            sql='''INSERT INTO `edm`.`practice` \n",
    "            (`WeekNumber`, `SectionNumber`, `SectionName`,`PracticeQuestion`) \n",
    "            VALUES ({}, {}, '{}', '{}');'''.format(week_number,section_number,section_name,xx[j])\n",
    "            cursor=conn.cursor()\n",
    "            row=cursor.execute(sql)\n",
    "            conn.commit()\n",
    "            cursor.close()\n",
    "        print(\"========================================\")\n",
    "        \n",
    "    elif \"Prac\" in html_list[i] and \"Prac08\" in section_name:\n",
    "        for j in range(len(xx)):\n",
    "            if \"¶\" in xx[j]:  \n",
    "                print(xx[j])\n",
    "                print(\"===========\")\n",
    "                sql='''INSERT INTO `edm`.`practice` \n",
    "                (`WeekNumber`, `SectionNumber`, `SectionName`,`PracticeQuestion`) \n",
    "                VALUES ({}, {}, '{}', '{}');'''.format(week_number,section_number,section_name,xx[j])\n",
    "                cursor=conn.cursor()\n",
    "                row=cursor.execute(sql)\n",
    "                conn.commit()\n",
    "                cursor.close()            \n",
    "        print(\"========================================\")"
   ]
  },
  {
   "cell_type": "code",
   "execution_count": null,
   "metadata": {
    "scrolled": true
   },
   "outputs": [],
   "source": [
    "#僅更新一份練習\n",
    "this=input(\"請輸入html檔案全名\")\n",
    "path=\"./original_html/\"+this\n",
    "\n",
    "if this.startswith(\"【Prac\"):\n",
    "    html=open(path, encoding=\"utf-8\")\n",
    "    x=html.read()\n",
    "    html.close()\n",
    "    x=BeautifulSoup(x, \"html.parser\")\n",
    "    xx=x.select(\"div#notebook-container\")[0].select(\"div.inner_cell\")\n",
    "    xxx=[]\n",
    "    for j in range(len(xx)): \n",
    "        xx[j]=xx[j].text.replace(\"'\",'\"').strip()\n",
    "        if xx[j]==\"\\n\": xx[j]=\"\"\n",
    "        if \"!!! please DO NOT rename this file !!!\" in xx[j]: xx[j]=\"\"\n",
    "        if \"student id\" in xx[j].lower(): xx[j]=\"\"\n",
    "    for j in range(len(xx)):\n",
    "        if \"¶\" in xx[j]:         \n",
    "            xxx.append(xx[j])        \n",
    "            \n",
    "elif this.startswith(\"【Week\"):\n",
    "    html=open(path, encoding=\"utf-8\")\n",
    "    x=html.read()\n",
    "    html.close()\n",
    "    x=BeautifulSoup(x, \"html.parser\")\n",
    "    xx=x.select(\"div#notebook-container\")[0].select(\"div.inner_cell\")\n",
    "    for j in range(len(xx)): \n",
    "        if \"【Practice】\" in xx[j].text:\n",
    "            key=j\n",
    "    xx=xx[key+1:]\n",
    "    xxx=[]\n",
    "    for j in range(len(xx)): \n",
    "        xx[j]=xx[j].text.replace(\"'\",'\"').strip()\n",
    "        if \"reference and reading\" in xx[j]: xx[j]=\"\"   \n",
    "        if \"¶\" in xx[j]:         \n",
    "            xxx.append(xx[j])        \n",
    "        \n",
    "section_name=this.split(\".html\")[0]\n",
    "print(section_name)\n",
    "\n",
    "sql=\"select `WeekNumber`, `SectionNumber` from `edm`.`section` where `SectionName`='{}';\".format(section_name)\n",
    "cursor=conn.cursor()\n",
    "cursor.execute(sql)\n",
    "data=cursor.fetchall()\n",
    "cursor.close()\n",
    "week_number=data[0][0]\n",
    "section_number=data[0][1]\n",
    "\n",
    "for j in range(len(xxx)):\n",
    "    print(xxx[j])\n",
    "    print(\"===========\")\n",
    "\n",
    "    sql='''INSERT INTO `edm`.`practice` \n",
    "    (`WeekNumber`, `SectionNumber`, `SectionName`,`PracticeQuestion`) \n",
    "    VALUES ({}, {}, '{}', '{}');'''.format(week_number,section_number,section_name,xxx[j])\n",
    "    cursor=conn.cursor()\n",
    "    row=cursor.execute(sql)\n",
    "    conn.commit()\n",
    "    cursor.close()\n",
    "print(\"========================================\")"
   ]
  },
  {
   "cell_type": "markdown",
   "metadata": {},
   "source": [
    "### practice_score"
   ]
  },
  {
   "cell_type": "code",
   "execution_count": null,
   "metadata": {},
   "outputs": [],
   "source": [
    "#製作打分數表格"
   ]
  },
  {
   "cell_type": "code",
   "execution_count": null,
   "metadata": {},
   "outputs": [],
   "source": [
    "conn=pymysql.connect(host=\"\", port=3306, user=\"\", passwd=\"\", db=\"\", charset=\"\")\n",
    "sql=\"select `SectionName`, `PracticeQuestion`, `practice_id` from `edm`.`practice`;\"\n",
    "cursor=conn.cursor()\n",
    "cursor.execute(sql)\n",
    "p=cursor.fetchall()\n",
    "cursor.close()"
   ]
  },
  {
   "cell_type": "code",
   "execution_count": null,
   "metadata": {},
   "outputs": [],
   "source": [
    "m=pd.read_excel(\"member.xlsx\")\n",
    "m.columns=m.iloc[0,:]\n",
    "m=m.drop(0, axis=0)\n",
    "Name=list(m[\"姓名\"])\n",
    "StudentId=list(m[\"帳號\"])"
   ]
  },
  {
   "cell_type": "code",
   "execution_count": null,
   "metadata": {},
   "outputs": [],
   "source": [
    "SectionName=[]\n",
    "PracticeQuestion=[]\n",
    "practice_id=[]\n",
    "for i, j, k in p:\n",
    "    SectionName.append(i)\n",
    "    PracticeQuestion.append(j)\n",
    "    practice_id.append(k)"
   ]
  },
  {
   "cell_type": "code",
   "execution_count": null,
   "metadata": {},
   "outputs": [],
   "source": [
    "df=pd.DataFrame()\n",
    "for i in range(len(Name)):\n",
    "    dfx=pd.DataFrame({\"SectionName\":SectionName, \"PracticeQuestion\":PracticeQuestion, \"practice_id\":practice_id})\n",
    "    dfx[\"Name\"]=[Name[i]]*len(SectionName)\n",
    "    dfx[\"StudentId\"]=[StudentId[i]]*len(SectionName)\n",
    "    df=pd.concat([df, dfx], axis=0)"
   ]
  },
  {
   "cell_type": "code",
   "execution_count": null,
   "metadata": {},
   "outputs": [],
   "source": [
    "df=df[[\"SectionName\",\"Name\",\"StudentId\",\"PracticeQuestion\",\"practice_id\"]]\n",
    "df=df.sort_values([\"SectionName\",\"StudentId\",\"practice_id\"])\n",
    "df.to_excel(\"practice_score.xlsx\")"
   ]
  },
  {
   "cell_type": "code",
   "execution_count": null,
   "metadata": {},
   "outputs": [],
   "source": [
    "#依practice_id輸入分數"
   ]
  },
  {
   "cell_type": "code",
   "execution_count": null,
   "metadata": {},
   "outputs": [],
   "source": [
    "data=pd.read_excel(\"practice_score.xlsx\")\n",
    "data=data[data[\"SectionName\"]==\"【Pract16】Datathon\"].reset_index(drop=True)\n",
    "data.head()"
   ]
  },
  {
   "cell_type": "code",
   "execution_count": null,
   "metadata": {},
   "outputs": [],
   "source": [
    "conn=pymysql.connect(host=\"\", port=3306, user=\"\", passwd=\"\", db=\"\", charset=\"\")\n",
    "for i in range(len(data)):\n",
    "    a=data.loc[i,\"StudentId\"]\n",
    "    b=data.loc[i,\"practice_id\"]\n",
    "    c=float(data.loc[i,\"accomplish\"])\n",
    "    if pd.isnull(c):\n",
    "        c=0\n",
    "\n",
    "    sql='''UPDATE  `edm`.`member_practice` SET `achievement` = {} WHERE (`practice_id`={} and `Username`='{}');'''.format(c, b, a)\n",
    "    cursor=conn.cursor()\n",
    "    row=cursor.execute(sql)\n",
    "    conn.commit()\n",
    "    cursor.close()"
   ]
  },
  {
   "cell_type": "code",
   "execution_count": null,
   "metadata": {},
   "outputs": [],
   "source": []
  },
  {
   "cell_type": "code",
   "execution_count": null,
   "metadata": {},
   "outputs": [],
   "source": []
  },
  {
   "cell_type": "code",
   "execution_count": null,
   "metadata": {},
   "outputs": [],
   "source": [
    "# #清空\n",
    "# cursor=conn.cursor()\n",
    "# row=cursor.execute(\"TRUNCATE TABLE edm.practice;\")\n",
    "# conn.commit()\n",
    "# cursor.close()"
   ]
  },
  {
   "cell_type": "code",
   "execution_count": null,
   "metadata": {},
   "outputs": [],
   "source": [
    "#刪除資料\n",
    "# cursor=conn.cursor()\n",
    "# row=cursor.execute(\"DELETE FROM `edm`.`practice` WHERE (`SectionName` = '【Pract16】Datathon');\")\n",
    "# conn.commit()\n",
    "# cursor.close()"
   ]
  },
  {
   "cell_type": "markdown",
   "metadata": {},
   "source": [
    "## member_pratice data"
   ]
  },
  {
   "cell_type": "code",
   "execution_count": null,
   "metadata": {},
   "outputs": [],
   "source": [
    "import pymysql\n",
    "import numpy as np\n",
    "import pandas as pd\n",
    "import re\n",
    "import os\n",
    "import copy\n",
    "from datetime import datetime, timedelta\n",
    "from bs4 import BeautifulSoup\n",
    "from selenium import webdriver\n",
    "import requests\n",
    "from urllib.request import urlretrieve\n",
    "#from urllib.parse import urlparse\n",
    "from urllib.request import urlopen\n",
    "pd.set_option('display.max_columns', None)\n",
    "pd.set_option('display.max_rows', None)"
   ]
  },
  {
   "cell_type": "code",
   "execution_count": null,
   "metadata": {},
   "outputs": [],
   "source": [
    "# cursor=conn.cursor()\n",
    "# cursor.execute(\"select `event`, `text`,`cellId` from `edm`.`edm_log` where `Username`='{}' and `notebookName`='{}';\".format(usr,nb))\n",
    "# data=cursor.fetchall()\n",
    "# cursor.close()\n",
    "\n",
    "\n",
    "# sql='''UPDATE `edm`.`member_class` \n",
    "# SET `ExternalPasteCt` = {}, `ExternalPasteLength` = {}, `ExternalPasteText` = '{}', `CopyCt` = {}, `CopyTextLength` = {}, `PasteCt` = {}, `PasteTextLength` = {}\n",
    "# WHERE (`Username` ='{}' and `SectionName`='{}');\n",
    "# '''.format(ExternalPasteCt, ExternalPasteLength, ExternalPasteText, CopyCt, CopyTextLength, PasteCt, PasteTextLength, usr, nb.split(\".ipynb\")[0])\n",
    "# cursor=conn.cursor()\n",
    "# row=cursor.execute(sql)\n",
    "# conn.commit()\n",
    "# cursor.close() "
   ]
  },
  {
   "cell_type": "markdown",
   "metadata": {},
   "source": [
    "### 整批作業資料整理"
   ]
  },
  {
   "cell_type": "code",
   "execution_count": null,
   "metadata": {
    "scrolled": false
   },
   "outputs": [],
   "source": [
    "cursor=conn.cursor()\n",
    "cursor.execute(\"select distinct `SectionName` from `edm`.`practice`;\")\n",
    "prac_sections=cursor.fetchall()\n",
    "cursor.close()\n",
    "prac_sections=list(prac_sections)\n",
    "for i in range(len(prac_sections)): prac_sections[i]=prac_sections[i][0]\n",
    "\n",
    "Q=[]\n",
    "QQ=[]\n",
    "C=[]\n",
    "O=[]\n",
    "P=[]\n",
    "S=[]\n",
    "\n",
    "conn=pymysql.connect(host=\"\", port=3306, user=\"\", passwd=\"\", db=\"\", charset=\"\")\n",
    "\n",
    "hw_list=os.listdir(\"./homework\")\n",
    "for hw in hw_list:\n",
    "    for p in prac_sections:\n",
    "        if p.split(\"】\")[0][-2:]+\"】\" in hw:\n",
    "            std_list=os.listdir(\"./homework/\"+hw)\n",
    "            std_list.remove('index.html')\n",
    "            \n",
    "            cursor=conn.cursor()\n",
    "            cursor.execute(\"select `practice_id`,`PracticeQuestion` from `edm`.`practice` where `SectionName`='{}';\".format(p))\n",
    "            qlist=cursor.fetchall()\n",
    "            cursor.close()\n",
    "            qlist=list(qlist)\n",
    "            practice_id=[]\n",
    "            for i in range(len(qlist)): \n",
    "                practice_id.append(qlist[i][0])\n",
    "                qlist[i]=qlist[i][1]\n",
    "            \n",
    "            print(\"===============【\",p,\"】===============\")\n",
    "            \n",
    "            for std in std_list:\n",
    "                print(\"=====【\",std,\"】=====\")\n",
    "                week_assignments=os.listdir(\"./homework/\"+hw+\"/\"+std+\"/attach\")\n",
    "                for assignment in week_assignments:\n",
    "                    if \"【Prac\" in assignment:\n",
    "                        #print(assignment)\n",
    "                        try:\n",
    "                            html=open(\"./homework/\"+hw+\"/\"+std+\"/attach/\"+assignment, encoding=\"utf-8\")\n",
    "                            x=html.read()\n",
    "                            html.close()\n",
    "\n",
    "                            x=BeautifulSoup(x, \"html.parser\")\n",
    "\n",
    "                            xx=x.select(\"div#notebook-container\")[0].select(\"div.inner_cell\")\n",
    "                            for i in range(len(xx)):\n",
    "                                xx[i]=xx[i].text.replace(\"'\",'\"')\n",
    "                                if xx[i]==\"\\n\": xx[i]=\"\"\n",
    "                                if \"please do not rename this file\" in xx[i].lower(): xx[i]=\"\"\n",
    "                                if \"student id\" in xx[i].lower(): xx[i]=\"\"\n",
    "                            while \"\" in xx: xx.remove(\"\")\n",
    "\n",
    "                            content=\"\"\n",
    "                            contents=x.select(\"div#notebook-container\")[0].select(\"div.cell.border-box-sizing\")\n",
    "                            for c in contents:\n",
    "                                if c.select(\"div.inner_cell\")!=[]:\n",
    "                                    for inner in c.select(\"div.inner_cell\"):\n",
    "                                        content+=inner.text\n",
    "                                        content+=\"\\n\"\n",
    "                                if c.select(\"div.output\")!=[]: \n",
    "                                    for output in c.select(\"div.output\"):\n",
    "                                        content+=output.text\n",
    "                                        content+=\"\\n\"\n",
    "                            content=content.replace(\"'\",'\"')\n",
    "                            #print(\"=\"*20+\"\\n\"+content)\n",
    "\n",
    "                            code=\"\".join(xx)\n",
    "                            anscode=[]\n",
    "                            for i in range(len(qlist)):\n",
    "                                if i==0:\n",
    "                                    code=code.split(qlist[i])[1]\n",
    "                                if i!=0:\n",
    "                                    anscode.append(code.split(qlist[i])[0].strip())\n",
    "                                    code=code.split(qlist[i])[1]\n",
    "                            anscode.append(code.strip())\n",
    "\n",
    "                            inner_cell_without_q=[]\n",
    "                            for xxx in xx:\n",
    "                                if xxx.strip() not in qlist:\n",
    "                                    inner_cell_without_q.append(xxx)\n",
    "                            for wq in inner_cell_without_q:\n",
    "                                content=content.replace(wq, \"\", 1)\n",
    "                            #print(\"=\"*20+\"\\n\"+content)\n",
    "\n",
    "                            ansoutput=[]\n",
    "                            for i in range(len(qlist)):\n",
    "                                if i==0:\n",
    "                                    content=content.split(qlist[i])[1]\n",
    "                                if i!=0:\n",
    "                                    ansoutput.append(content.split(qlist[i])[0].strip( ))\n",
    "                                    content=content.split(qlist[i])[1]\n",
    "                            ansoutput.append(content.strip( ))\n",
    "    #                             for c in anscode:\n",
    "    #                                 for i in range(len(ansoutput)):\n",
    "    #                                     cc=c.split(\"\\n\\n\\n\\n\\n\")\n",
    "    #                                     for ccc in cc:\n",
    "    #                                         if ccc in ansoutput[i]:\n",
    "    #                                             ansoutput[i]=ansoutput[i].replace(ccc, \"\")\n",
    "    #                             ansoutput=list(map(lambda x: x.strip(), ansoutput))\n",
    "\n",
    "                            if len(qlist)!=len(anscode) or len(anscode)!=len(ansoutput) or len(ansoutput)!=len(qlist):\n",
    "                                print(\"!!!!!ERROR!!!!!\")\n",
    "                            else:\n",
    "                                Q.extend(qlist)\n",
    "                                QQ.extend(practice_id)\n",
    "                                C.extend(anscode)\n",
    "                                O.extend(ansoutput)\n",
    "                                P.extend([assignment]*len(qlist))\n",
    "                                S.extend([std]*len(qlist))\n",
    "                        except:\n",
    "                            print(\"==========!!!!!!!ERROR!!!!!!!==========\")\n",
    "                            print(\"【\",std,\"】\")\n",
    "                            print(assignment)\n",
    "                            print(\"===============================\")\n",
    "\n",
    "for i in range(len(Q)):\n",
    "    sql='''INSERT INTO `edm`.`member_practice`\n",
    "    (`practice_id`, `Username`, `PracticeCode`,`PracticeOutput`) \n",
    "    VALUES ({}, '{}', '{}', '{}');'''.format(QQ[i], S[i][:9], C[i].replace(\"'\",'\"'), O[i].replace(\"'\",'\"'))\n",
    "    cursor=conn.cursor()\n",
    "    row=cursor.execute(sql)\n",
    "    conn.commit()\n",
    "    cursor.close()     "
   ]
  },
  {
   "cell_type": "markdown",
   "metadata": {},
   "source": [
    "### 單次作業資料整理"
   ]
  },
  {
   "cell_type": "code",
   "execution_count": null,
   "metadata": {
    "scrolled": false
   },
   "outputs": [],
   "source": [
    "Q=[]\n",
    "QQ=[]\n",
    "C=[]\n",
    "O=[]\n",
    "P=[]\n",
    "S=[]\n",
    "\n",
    "conn=pymysql.connect(host=\"\", port=3306, user=\"\", passwd=\"\", db=\"\", charset=\"\")\n",
    "\n",
    "hw=input(\"請輸入作業資料夾名稱\")\n",
    "p=input(\"請輸入SectionName\")\n",
    "\n",
    "hw_list=os.listdir(\"./homework\")\n",
    "std_list=os.listdir(\"./homework/\"+hw)\n",
    "std_list.remove('index.html')\n",
    "\n",
    "cursor=conn.cursor()\n",
    "cursor.execute(\"select `practice_id`,`PracticeQuestion` from `edm`.`practice` where `SectionName`='{}';\".format(p))\n",
    "qlist=cursor.fetchall()\n",
    "cursor.close()\n",
    "qlist=list(qlist)\n",
    "practice_id=[]\n",
    "for i in range(len(qlist)): \n",
    "    practice_id.append(qlist[i][0])\n",
    "    qlist[i]=qlist[i][1]\n",
    "\n",
    "#print(\"===============【\",p,\"】===============\")\n",
    "            \n",
    "for std in std_list:\n",
    "    print(\"=====【\",std,\"】=====\")\n",
    "    week_assignments=os.listdir(\"./homework/\"+hw+\"/\"+std+\"/attach\")\n",
    "    for assignment in week_assignments:\n",
    "        if \"【Prac\" in assignment:\n",
    "            #print(assignment)\n",
    "            try:\n",
    "                html=open(\"./homework/\"+hw+\"/\"+std+\"/attach/\"+assignment, encoding=\"utf-8\")\n",
    "                x=html.read()\n",
    "                html.close()\n",
    "\n",
    "                x=BeautifulSoup(x, \"html.parser\")\n",
    "                xx=x.select(\"div#notebook-container\")[0].select(\"div.inner_cell\")\n",
    "                for i in range(len(xx)):\n",
    "                    xx[i]=xx[i].text.replace(\"'\",'\"')\n",
    "                    if xx[i]==\"\\n\": xx[i]=\"\"\n",
    "                    if \"please do not rename this file\" in xx[i].lower(): xx[i]=\"\"\n",
    "                    if \"student id\" in xx[i].lower(): xx[i]=\"\"\n",
    "                while \"\" in xx: xx.remove(\"\")\n",
    "\n",
    "                content=\"\"\n",
    "                contents=x.select(\"div#notebook-container\")[0].select(\"div.cell.border-box-sizing\")\n",
    "                for c in contents:\n",
    "                    if c.select(\"div.inner_cell\")!=[]:\n",
    "                        for inner in c.select(\"div.inner_cell\"):\n",
    "                            content+=inner.text\n",
    "                            content+=\"\\n\"\n",
    "                    if c.select(\"div.output\")!=[]: \n",
    "                        for output in c.select(\"div.output\"):\n",
    "                            content+=output.text\n",
    "                            content+=\"\\n\"\n",
    "                content=content.replace(\"'\",'\"')\n",
    "\n",
    "                code=\"\".join(xx)\n",
    "                anscode=[]\n",
    "                for i in range(len(qlist)):\n",
    "                    if i==0:\n",
    "                        code=code.split(qlist[i])[1]\n",
    "                    if i!=0:\n",
    "                        anscode.append(code.split(qlist[i])[0].strip())\n",
    "                        code=code.split(qlist[i])[1]\n",
    "                anscode.append(code.strip())\n",
    "\n",
    "                inner_cell_without_q=[]\n",
    "                for xxx in xx:\n",
    "                    if xxx.strip() not in qlist:\n",
    "                        inner_cell_without_q.append(xxx)\n",
    "                for wq in inner_cell_without_q:\n",
    "                    content=content.replace(wq, \"\", 1)\n",
    "                ansoutput=[]\n",
    "                for i in range(len(qlist)):\n",
    "                    if i==0:\n",
    "                        content=content.split(qlist[i])[1]\n",
    "                    if i!=0:\n",
    "                        ansoutput.append(content.split(qlist[i])[0].strip( ))\n",
    "                        content=content.split(qlist[i])[1]\n",
    "                ansoutput.append(content.strip( ))\n",
    "\n",
    "                if len(qlist)!=len(anscode) or len(anscode)!=len(ansoutput) or len(ansoutput)!=len(qlist):\n",
    "                    print(\"!!!!!ERROR!!!!!\")\n",
    "                else:\n",
    "                    Q.extend(qlist)\n",
    "                    QQ.extend(practice_id)\n",
    "                    C.extend(anscode)\n",
    "                    O.extend(ansoutput)\n",
    "                    P.extend([assignment]*len(qlist))\n",
    "                    S.extend([std]*len(qlist))\n",
    "            except:\n",
    "                print(\"==========!!!!!!!ERROR!!!!!!!==========\")\n",
    "                print(\"【\",std,\"】\")\n",
    "                print(assignment)\n",
    "print(\"preparement finished!!!\")\n",
    "\n",
    "for i in range(len(Q)):\n",
    "    sql='''INSERT INTO `edm`.`member_practice`\n",
    "    (`practice_id`, `Username`, `PracticeCode`,`PracticeOutput`) \n",
    "    VALUES ({}, '{}', '{}', '{}');'''.format(QQ[i], S[i][:9], C[i].replace(\"'\",'\"'), O[i].replace(\"'\",'\"'))\n",
    "    cursor=conn.cursor()\n",
    "    row=cursor.execute(sql)\n",
    "    conn.commit()\n",
    "    cursor.close()"
   ]
  },
  {
   "cell_type": "markdown",
   "metadata": {},
   "source": [
    "### 個別(人-作業)補齊"
   ]
  },
  {
   "cell_type": "code",
   "execution_count": null,
   "metadata": {
    "scrolled": true
   },
   "outputs": [],
   "source": [
    "conn=pymysql.connect(host=\"\", port=3306, user=\"\", passwd=\"\", db=\"\", charset=\"\")\n",
    "\n",
    "hw_list=os.listdir(\"./homework\")\n",
    "std=input(\"學號 (姓名):\")\n",
    "p=input(\"Practice assignment name: \")\n",
    "pp=input(\"SectionName\")\n",
    "for h in hw_list:\n",
    "    if p.split(\"】\")[0][-2:]+\"】\" in h:\n",
    "        hw=h\n",
    "\n",
    "html=open(\"./homework/\"+hw+\"/\"+std+\"/attach/\"+p, encoding=\"utf-8\")\n",
    "x=html.read()\n",
    "html.close()\n",
    "x=BeautifulSoup(x, \"html.parser\")\n",
    "xx=x.select(\"div#notebook-container\")[0].select(\"div.inner_cell\")\n",
    "\n",
    "qlist=[]\n",
    "for i in xx:\n",
    "    if \"¶\" in i.text:\n",
    "        if \"student id\" not in i.text.lower() and \"please DO NOT rename this file\" not in i.text:\n",
    "            #print(i.text)\n",
    "            qlist.append(i.text.strip().replace(\"'\",'\"'))\n",
    "\n",
    "\n",
    "# ####(同學誤刪標題時用)\n",
    "# qlist=qlist[:-1]+[\"02. Using pie chart to analyze the data and explain your finding¶\"]+qlist[-1:]\n",
    "# ####\n",
    "\n",
    "code=\"\"\n",
    "for i in range(len(xx)):\n",
    "    xx[i]=xx[i].text\n",
    "    if xx[i]==\"\\n\": xx[i]=\"\"\n",
    "    if \"please do not rename this file\" in xx[i].lower(): xx[i]=\"\"\n",
    "    if \"student id\" in xx[i].lower(): xx[i]=\"\"\n",
    "while \"\" in xx: xx.remove(\"\")    \n",
    "#     if \"【Pratice】\" in xx[i] or \"【Practice】\" in xx[i]:\n",
    "#         key=i\n",
    "\n",
    "# ####(同學誤刪標題時用)\n",
    "#     if \"plt.pie(df01_sum.adult, labels=df01_sum.index\" in xx[i]:\n",
    "#         key2=i\n",
    "# xx=xx[:key2]+[\"02. Using pie chart to analyze the data and explain your finding¶\"]+xx[key2:]\n",
    "# ####\n",
    "\n",
    "# xx=xx[key+1:]\n",
    "\n",
    "code=\"\".join(xx).replace(\"'\",'\"')\n",
    "\n",
    "content=\"\"\n",
    "contents=x.select(\"div#notebook-container\")[0].select(\"div.cell.border-box-sizing\")\n",
    "for c in contents:\n",
    "    if c.select(\"div.inner_cell\")!=[]:\n",
    "        for inner in c.select(\"div.inner_cell\"):\n",
    "            content+=inner.text\n",
    "    if c.select(\"div.output\")!=[]: \n",
    "        for output in c.select(\"div.output\"):\n",
    "            content+=output.text\n",
    "content=content.replace(\"'\",'\"')\n",
    "\n",
    "#print(content)\n",
    "# ####(同學誤刪標題時用)\n",
    "# key=content.index(\"from matplotlib.font_manager import FontProperties\")\n",
    "# content=content[:key]+\"02. Using pie chart to analyze the data and explain your finding¶\"+content[key:]\n",
    "# ####\n",
    "\n",
    "# if \"【Pratice】\" in content: content=content.split(\"【Pratice】\")[1].replace(\"'\",'\"')\n",
    "# if \"【Practice】\" in content: content=content.split(\"【Practice】\")[1].replace(\"'\",'\"')\n",
    "\n",
    "inner_cell_without_q=[]\n",
    "for xxx in xx:\n",
    "    if xxx.strip() not in qlist:\n",
    "        inner_cell_without_q.append(xxx)\n",
    "for wq in inner_cell_without_q:\n",
    "    content=content.replace(wq, \"\", 1)\n",
    "\n",
    "anscode=[]\n",
    "for i in range(len(qlist)):\n",
    "    if i==0:\n",
    "        code=code.split(qlist[i])[1]\n",
    "    if i!=0:\n",
    "        anscode.append(code.split(qlist[i])[0].strip())\n",
    "        code=code.split(qlist[i])[1]\n",
    "anscode.append(code.strip())\n",
    "\n",
    "ansoutput=[]\n",
    "for i in range(len(qlist)):\n",
    "    if i==0:\n",
    "        content=content.split(qlist[i])[1]\n",
    "        print(qlist[i])\n",
    "    if i!=0:\n",
    "        ansoutput.append(content.split(qlist[i])[0].strip( ))\n",
    "        print(\"==========\")\n",
    "        print(content.split(qlist[i])[0].strip( ))\n",
    "        print(\"====================\")\n",
    "        print(qlist[i])\n",
    "        content=content.split(qlist[i])[1]\n",
    "ansoutput.append(content.strip( ))\n",
    "\n",
    "cursor=conn.cursor()\n",
    "cursor.execute(\"select `practice_id`,`PracticeQuestion` from `edm`.`practice` where `SectionName` like '%{}%';\".format(p[:9]))\n",
    "qdata=cursor.fetchall()\n",
    "cursor.close()\n",
    "qdata=list(qdata)\n",
    "\n",
    "if len(qlist)!=len(anscode) or len(anscode)!=len(ansoutput) or len(ansoutput)!=len(qlist):\n",
    "    print(\"●●!!ERROR!!●●\")\n",
    "else:\n",
    "    print(\"length of qlist:\", len(qlist))\n",
    "    \n",
    "    for i in range(len(qlist)):\n",
    "        for j in range(len(qdata)):\n",
    "            if qlist[i][:10] in qdata[j][1]:\n",
    "                practice_id=qdata[j][0]\n",
    "                print(practice_id)\n",
    "                print(qdata[j][1])\n",
    "                print(\"=====\")\n",
    "                print(anscode[i])\n",
    "                print(\"=====\")\n",
    "                print(ansoutput[i])\n",
    "                \n",
    "                try:\n",
    "                    sql='''INSERT INTO `edm`.`member_practice`\n",
    "                    (`practice_id`, `Username`, `PracticeCode`,`PracticeOutput`) \n",
    "                    VALUES ({}, '{}', '{}', '{}');'''.format(practice_id, std[:9], anscode[i].replace(\"'\",'\"'), ansoutput[i].replace(\"'\",'\"'))\n",
    "                    cursor=conn.cursor()\n",
    "                    row=cursor.execute(sql)\n",
    "                    conn.commit()\n",
    "                    cursor.close()     \n",
    "                except:\n",
    "                    sql='''UPDATE `edm`.`member_practice` \n",
    "                    SET `PracticeCode` = '{}', `PracticeOutput` = '{}' WHERE (`Username` ='{}' and `practice_id`={});\n",
    "                    '''.format(anscode[i].replace(\"'\",'\"'), ansoutput[i].replace(\"'\",'\"'), std[:9], practice_id)\n",
    "                    cursor=conn.cursor()\n",
    "                    row=cursor.execute(sql)\n",
    "                    conn.commit()\n",
    "                    cursor.close()                         \n",
    "                print(\"==============\")\n",
    "\n",
    "                #     print([assignment]*len(qlist))\n",
    "#     print([std]*len(qlist))"
   ]
  },
  {
   "cell_type": "markdown",
   "metadata": {},
   "source": [
    "### 清除資料"
   ]
  },
  {
   "cell_type": "code",
   "execution_count": null,
   "metadata": {},
   "outputs": [],
   "source": [
    "conn=pymysql.connect(host=\"\", port=3306, user=\"\", passwd=\"\", db=\"\", charset=\"\")\n",
    "#刪除資料\n",
    "cursor=conn.cursor()\n",
    "row=cursor.execute(\"DELETE FROM `edm`.`member_practice` WHERE (`practice_id`<=5);\")\n",
    "conn.commit()\n",
    "cursor.close()"
   ]
  },
  {
   "cell_type": "code",
   "execution_count": null,
   "metadata": {},
   "outputs": [],
   "source": [
    "conn=pymysql.connect(host=\"\", port=3306, user=\"\", passwd=\"\", db=\"\", charset=\"\")\n",
    "#清空表格\n",
    "cursor=conn.cursor()\n",
    "row=cursor.execute(\"TRUNCATE TABLE edm.member_practice;\")\n",
    "conn.commit()\n",
    "cursor.close()"
   ]
  },
  {
   "cell_type": "markdown",
   "metadata": {},
   "source": [
    "## member-class data"
   ]
  },
  {
   "cell_type": "code",
   "execution_count": null,
   "metadata": {},
   "outputs": [],
   "source": [
    "#清空表格\n",
    "# cursor=conn.cursor()\n",
    "# row=cursor.execute(\"TRUNCATE TABLE edm.member_class;\")\n",
    "# conn.commit()\n",
    "# cursor.close()"
   ]
  },
  {
   "cell_type": "code",
   "execution_count": null,
   "metadata": {},
   "outputs": [],
   "source": [
    "#修改表格\n",
    "# cursor=conn.cursor()\n",
    "# row=cursor.execute(\"UPDATE `edm`.`member_class` SET `SectionType` = 'practice' WHERE (`SectionName` = '【Pract16】Datathon');\")\n",
    "# conn.commit()\n",
    "# cursor.close()"
   ]
  },
  {
   "cell_type": "code",
   "execution_count": null,
   "metadata": {},
   "outputs": [],
   "source": [
    "md=pd.read_excel(\"member.xlsx\")\n",
    "md.columns=md.iloc[0,:]\n",
    "md=md.drop(0,axis=0)\n",
    "md=md.reset_index(drop=True)\n",
    "\n",
    "mb=list(md[\"帳號\"])"
   ]
  },
  {
   "cell_type": "code",
   "execution_count": null,
   "metadata": {
    "scrolled": true
   },
   "outputs": [],
   "source": [
    "sec=pd.read_excel(\"section.xlsx\", sheet_name=\"1\")\n",
    "sec=sec[[\"SectionType\",\"SectionName\",\"SectionTimeStart\",\"SectionNumber\"]]"
   ]
  },
  {
   "cell_type": "code",
   "execution_count": null,
   "metadata": {},
   "outputs": [],
   "source": [
    "mc_df=pd.DataFrame()\n",
    "for i in mb:\n",
    "    sec[\"Username\"]=[i]*len(sec)\n",
    "    mc_df=pd.concat([mc_df, sec], axis=0, ignore_index=True)"
   ]
  },
  {
   "cell_type": "code",
   "execution_count": null,
   "metadata": {
    "scrolled": true
   },
   "outputs": [],
   "source": [
    "mc_df.head()"
   ]
  },
  {
   "cell_type": "code",
   "execution_count": null,
   "metadata": {},
   "outputs": [],
   "source": [
    "for i in range(len(mc_df)):\n",
    "    x=mc_df.loc[i,:]\n",
    "    li=mc_df.columns\n",
    "    xx=[]\n",
    "    ll=[]\n",
    "    for j in range(len(x)):\n",
    "        if pd.notnull(x[j]):\n",
    "            ll.append(li[j])\n",
    "            xx.append(x[j])\n",
    "    ll=\"`,`\".join(ll)\n",
    "    xx=tuple(xx)\n",
    "    cursor=conn.cursor()\n",
    "    row=cursor.execute(\"INSERT INTO `edm`.`member_class` (`%s`) VALUES \"%ll+str(xx))\n",
    "    conn.commit()\n",
    "    cursor.close()    "
   ]
  },
  {
   "cell_type": "markdown",
   "metadata": {},
   "source": [
    "### renew(從下載檔案)"
   ]
  },
  {
   "cell_type": "code",
   "execution_count": null,
   "metadata": {},
   "outputs": [],
   "source": [
    "import time\n",
    "import datetime\n",
    "import pymysql\n",
    "import numpy as np\n",
    "import pandas as pd\n",
    "import re\n",
    "import os\n",
    "import copy\n",
    "from datetime import datetime, timedelta"
   ]
  },
  {
   "cell_type": "code",
   "execution_count": null,
   "metadata": {},
   "outputs": [],
   "source": [
    "conn=pymysql.connect(host=\"\", port=3306, user=\"\", passwd=\"\", db=\"\", charset=\"\")"
   ]
  },
  {
   "cell_type": "code",
   "execution_count": null,
   "metadata": {},
   "outputs": [],
   "source": [
    "conn.close()"
   ]
  },
  {
   "cell_type": "markdown",
   "metadata": {},
   "source": [
    "####  research_participant_informed_consent submitted"
   ]
  },
  {
   "cell_type": "code",
   "execution_count": null,
   "metadata": {},
   "outputs": [],
   "source": [
    "newdata=pd.read_excel(\"research_participant_informed_consent.xlsx\")\n",
    "newdata=newdata[newdata[\"Submitted\"]==\"V\"]\n",
    "newdata=newdata.reset_index(drop=True)"
   ]
  },
  {
   "cell_type": "code",
   "execution_count": null,
   "metadata": {
    "scrolled": true
   },
   "outputs": [],
   "source": [
    "newdata"
   ]
  },
  {
   "cell_type": "code",
   "execution_count": null,
   "metadata": {},
   "outputs": [],
   "source": [
    "for i in range(len(newdata)):\n",
    "    u=newdata.loc[i,\"Username\"]\n",
    "    section=\"research participant informed consent\"\n",
    "    #sc=newdata.loc[i,\"成績\"]\n",
    "    sb=\"已交\"\n",
    "    #sbt=newdata.loc[i,\"filling_tm\"]\n",
    "\n",
    "    sql='''UPDATE `edm`.`member_class` \n",
    "    SET `Submitted`='{}' WHERE (`Username`={} and `SectionName`='{}');'''.format(sb, u, section)\n",
    "    \n",
    "    cursor=conn.cursor()\n",
    "    row=cursor.execute(sql)\n",
    "    conn.commit()\n",
    "    cursor.close()"
   ]
  },
  {
   "cell_type": "markdown",
   "metadata": {},
   "source": [
    "#### pre-questionnaire submitted"
   ]
  },
  {
   "cell_type": "code",
   "execution_count": null,
   "metadata": {},
   "outputs": [],
   "source": [
    "newdata=pd.read_excel(\"pre-questionnaire.xlsx\")\n",
    "#newdata.columns=newdata.loc[0,:]\n",
    "#newdata=newdata.drop([0],axis=0)\n",
    "#newdata=newdata.reset_index(drop=True)"
   ]
  },
  {
   "cell_type": "code",
   "execution_count": null,
   "metadata": {
    "scrolled": true
   },
   "outputs": [],
   "source": [
    "newdata"
   ]
  },
  {
   "cell_type": "code",
   "execution_count": null,
   "metadata": {},
   "outputs": [],
   "source": [
    "for i in range(len(newdata)):\n",
    "    u=newdata.loc[i,\"id\"]\n",
    "    section=\"pre-queationnaire\"\n",
    "    #sc=newdata.loc[i,\"成績\"]\n",
    "    sb=\"已交\"\n",
    "    sbt=newdata.loc[i,\"filling_tm\"]\n",
    "\n",
    "    sql='''UPDATE `edm`.`member_class` \n",
    "    SET `SubmitTime`='{}', `Submitted`='{}'\n",
    "    WHERE (`Username`={} and `SectionName`='{}');'''.format(sbt, sb, u, section)\n",
    "    \n",
    "    cursor=conn.cursor()\n",
    "    row=cursor.execute(sql)\n",
    "    conn.commit()\n",
    "    cursor.close()"
   ]
  },
  {
   "cell_type": "markdown",
   "metadata": {},
   "source": [
    "#### pre-test submitted"
   ]
  },
  {
   "cell_type": "code",
   "execution_count": null,
   "metadata": {},
   "outputs": [],
   "source": [
    "newdata=pd.read_excel(\"pre-test_memberscore.xlsx\")\n",
    "newdata.columns=newdata.loc[0,:]\n",
    "newdata=newdata.drop([0],axis=0)\n",
    "newdata=newdata.reset_index(drop=True)"
   ]
  },
  {
   "cell_type": "code",
   "execution_count": null,
   "metadata": {
    "scrolled": true
   },
   "outputs": [],
   "source": [
    "newdata.head()"
   ]
  },
  {
   "cell_type": "code",
   "execution_count": null,
   "metadata": {},
   "outputs": [],
   "source": [
    "for i in range(len(newdata)):\n",
    "    u=newdata.loc[i,\"帳號\"]\n",
    "    section=\"pre-test\"\n",
    "    sc=newdata.loc[i,\"成績\"]\n",
    "    sb=\"已交\"\n",
    "    sbt=newdata.loc[i,\"交卷時間\"]\n",
    "\n",
    "    sql='''UPDATE `edm`.`member_class` \n",
    "    SET `SubmitTime`='{}', `Submitted`='{}', `SectionScore`='{}'\n",
    "    WHERE (`Username`={} and `SectionName`='{}');'''.format(sbt, sb, sc, u, section)\n",
    "    \n",
    "    cursor=conn.cursor()\n",
    "    row=cursor.execute(sql)\n",
    "    conn.commit()\n",
    "    cursor.close()"
   ]
  },
  {
   "cell_type": "markdown",
   "metadata": {},
   "source": [
    "#### update one section score "
   ]
  },
  {
   "cell_type": "code",
   "execution_count": null,
   "metadata": {},
   "outputs": [],
   "source": [
    "update_data=pd.read_excel(\"quiz06_score.xlsx\", sheet_name=\"Quiz06\")"
   ]
  },
  {
   "cell_type": "code",
   "execution_count": null,
   "metadata": {
    "scrolled": true
   },
   "outputs": [],
   "source": [
    "update_data"
   ]
  },
  {
   "cell_type": "code",
   "execution_count": null,
   "metadata": {},
   "outputs": [],
   "source": [
    "for i in range(len(update_data)):\n",
    "    score=update_data.loc[i,\"Quiz06\"]\n",
    "    usrname=update_data.loc[i,\"帳號\"]\n",
    "    sql='''UPDATE `edm`.`member_class` \n",
    "    SET `Submitted`='{}', `SectionScore`='{}'\n",
    "    WHERE (`Username`={} and `SectionName`='{}');'''.format(\"已交\", score, usrname, \"【Quiz06】Quiz (1)\")\n",
    "\n",
    "    cursor=conn.cursor()\n",
    "    row=cursor.execute(sql)\n",
    "    conn.commit()\n",
    "    cursor.close()"
   ]
  },
  {
   "cell_type": "markdown",
   "metadata": {},
   "source": [
    "### auto-renew"
   ]
  },
  {
   "cell_type": "code",
   "execution_count": null,
   "metadata": {},
   "outputs": [],
   "source": [
    "import pymysql\n",
    "import re\n",
    "import os\n",
    "import copy\n",
    "import numpy as np\n",
    "import pandas as pd\n",
    "from bs4 import BeautifulSoup\n",
    "from selenium import webdriver\n",
    "import time\n",
    "from datetime import datetime, timedelta\n",
    "import re\n",
    "import requests\n",
    "import os\n",
    "from urllib.request import urlretrieve\n",
    "#from urllib.parse import urlparse\n",
    "from urllib.request import urlopen\n",
    "pd.set_option('display.max_columns', None)\n",
    "pd.set_option('display.max_rows', None)"
   ]
  },
  {
   "cell_type": "markdown",
   "metadata": {},
   "source": [
    "#### homework"
   ]
  },
  {
   "cell_type": "code",
   "execution_count": null,
   "metadata": {
    "scrolled": true
   },
   "outputs": [],
   "source": [
    "conn=pymysql.connect(host=\"\", port=3306, user=\"\", passwd=\"\", db=\"\", charset=\"\")\n",
    "\n",
    "main=\"https://ncueeclass.ncu.edu.tw/course/teamStage/4599\"\n",
    "options = webdriver.ChromeOptions()\n",
    "prefs = {'profile.default_content_settings.popups': 0, 'download.default_directory': \".\\\\downloaded\"}\n",
    "options.add_experimental_option('prefs', prefs)\n",
    "\n",
    "u=\"m946108005@tmu.edu.tw\"\n",
    "p=\"tjp3tjp3\"\n",
    "\n",
    "driver=webdriver.Chrome(\"D:/programming_useful_material/chromedriver.exe\",chrome_options=options)\n",
    "driver.get(main)\n",
    "#time.sleep(2)\n",
    "element_login=driver.find_element_by_link_text('Login')\n",
    "element_login.click()\n",
    "\n",
    "element_account=driver.find_element_by_xpath('//*[@id=\"account\"]/div/input')\n",
    "element_account.send_keys(u)\n",
    "element_password=driver.find_element_by_xpath('//*[@id=\"password\"]/div/input')\n",
    "element_password.send_keys(p)\n",
    "element_send=driver.find_element_by_xpath('//*[@id=\"login_form\"]/div[6]/div/button')\n",
    "element_send.click()\n",
    "\n",
    "#####homework#####\n",
    "time.sleep(1)\n",
    "element_hw=driver.find_element_by_xpath('//*[@id=\"mbox-inline\"]/div/div[9]/ul/li[8]/a')\n",
    "element_hw.click()\n",
    "\n",
    "html=driver.page_source\n",
    "soup=BeautifulSoup(html, \"html.parser\")\n",
    "trs=soup.select(\"table#homeworkListTable tbody tr\")\n",
    "\n",
    "for tr in trs:\n",
    "    tds=tr.select(\"td\")\n",
    "    #hw_na\n",
    "    hw_na=tds[1].text.strip()\n",
    "    #href\n",
    "    href=tds[3].select(\"a\")[0].get(\"href\")\n",
    "    #start_time\n",
    "    if tds[4].text !=\"-\":\n",
    "        start_time=str(time.gmtime().tm_year)+\"-\"+tds[4].text+\":00\"\n",
    "    elif tds[4].text ==\"-\":\n",
    "        start_time=\"\"\n",
    "    #end_time\n",
    "    if tds[5].text !=\"-\":\n",
    "        end_time=str(time.gmtime().tm_year)+\"-\"+tds[5].text+\":00\"\n",
    "    elif tds[5].text ==\"-\":\n",
    "        end_time=\"\"\n",
    "    #group_hw\n",
    "    if tds[2].select(\"span\")!=[]: group_hw=\"y\"\n",
    "    else: group_hw=\"n\"\n",
    "    \n",
    "    if group_hw==\"y\":\n",
    "        print(hw_na)\n",
    "        driver.get(\"https://ncueeclass.ncu.edu.tw\"+href)\n",
    "        \n",
    "        html=driver.page_source\n",
    "        soup=BeautifulSoup(html, \"html.parser\")\n",
    "        trs1=soup.select(\"table#submitList_table tbody tr\")\n",
    "        for tr1 in trs1:\n",
    "            tds=tr1.select(\"td\")\n",
    "            \n",
    "            #group\n",
    "            grp=tds[2].text.replace(\" \",\"\")[1]\n",
    "            \n",
    "            #submit_time\n",
    "            submit_time=str(time.gmtime().tm_year)+\"-\"+tds[5].text+\":00\"\n",
    "            \n",
    "            #score\n",
    "            score=tds[6].text.strip()\n",
    "            \n",
    "            #TimeSpent\n",
    "            if start_time!=\"\":\n",
    "                timespent=datetime.strptime(submit_time, \"%Y-%m-%d %H:%M:%S\")-datetime.strptime(start_time, \"%Y-%m-%d %H:%M:%S\")\n",
    "                timespent=(timespent.days*24)+(timespent.seconds/3600)\n",
    "            elif start_time==\"\":\n",
    "                timespent=0\n",
    "            \n",
    "            #submit_type\n",
    "            if end_time!=\"\":\n",
    "                if datetime.strptime(end_time, \"%Y-%m-%d %H:%M:%S\") > datetime.strptime(submit_time, \"%Y-%m-%d %H:%M:%S\"):\n",
    "                    submit_type=\"已交\"\n",
    "                if datetime.strptime(end_time, \"%Y-%m-%d %H:%M:%S\") < datetime.strptime(submit_time, \"%Y-%m-%d %H:%M:%S\"):\n",
    "                    submit_type=\"遲交\"\n",
    "            elif end_time==\"\":\n",
    "                submit_type=\"已交\"        \n",
    "                \n",
    "            cursor=conn.cursor()\n",
    "            cursor.execute(\"select `Username` from `edm`.`member` where `Group`='{}';\".format(grp)) \n",
    "            section=cursor.fetchall()\n",
    "            cursor.close()\n",
    "            for user in section:\n",
    "                print(user[0])\n",
    "                sql='''UPDATE `edm`.`member_class` \n",
    "                SET `Submitted` = '{}',`SubmitTime` = '{}',`SectionScore` = {},`TimeSpent(h)` = {}  \n",
    "                WHERE (`Username` = {} and `SectionName`='{}' );'''.format(submit_type, submit_time, int(score), float(timespent), int(user[0]), hw_na)\n",
    "                cursor=conn.cursor()\n",
    "                row=cursor.execute(sql)\n",
    "                conn.commit()\n",
    "                cursor.close() \n",
    "                \n",
    "    elif group_hw==\"n\":\n",
    "        print(hw_na)\n",
    "        driver.get(\"https://ncueeclass.ncu.edu.tw\"+href)\n",
    "        \n",
    "        html=driver.page_source\n",
    "        soup=BeautifulSoup(html, \"html.parser\")\n",
    "        trs1=soup.select(\"table#submitList_table tbody tr\")\n",
    "        for tr1 in trs1:\n",
    "            tds=tr1.select(\"td\")\n",
    "            #username\n",
    "            user=tds[2].select(\"div.fs-hint\")[0].text           \n",
    "            #submit_time\n",
    "            submit_time=str(time.gmtime().tm_year)+\"-\"+tds[4].text+\":00\"\n",
    "            #score\n",
    "            if tds[5].text.strip()!=\"-\":\n",
    "                score=int(tds[5].text.strip())\n",
    "            elif tds[5].text.strip()==\"-\":\n",
    "                score=\"\"\n",
    "            #TimeSpent\n",
    "            if start_time!=\"\":\n",
    "                timespent=datetime.strptime(submit_time, \"%Y-%m-%d %H:%M:%S\")-datetime.strptime(start_time, \"%Y-%m-%d %H:%M:%S\")\n",
    "                timespent=round((timespent.days*24)+(timespent.seconds/3600), 3)\n",
    "            elif start_time==\"\":\n",
    "                timespent=0\n",
    "            #submit_type\n",
    "            if end_time!=\"\":\n",
    "                if datetime.strptime(end_time, \"%Y-%m-%d %H:%M:%S\") > datetime.strptime(submit_time, \"%Y-%m-%d %H:%M:%S\"):\n",
    "                    submit_type=\"已交\"\n",
    "                if datetime.strptime(end_time, \"%Y-%m-%d %H:%M:%S\") < datetime.strptime(submit_time, \"%Y-%m-%d %H:%M:%S\"):\n",
    "                    submit_type=\"遲交\"\n",
    "            elif end_time==\"\":\n",
    "                submit_type=\"已交\"        \n",
    "            cursor=conn.cursor()\n",
    "            cursor.execute(\"select `SectionName` from `edm`.`section`;\") \n",
    "            sections=cursor.fetchall()\n",
    "            cursor.close()\n",
    "            for sec in sections:\n",
    "                if \"【Pract\"+hw_na[3:5]+\"】\" in sec[0] or \"【Week\"+hw_na[3:5]+\"】\" in sec[0]:\n",
    "                    print(user, sec[0])\n",
    "                    sql='''UPDATE `edm`.`member_class` \n",
    "                    SET `Submitted` = '{}',`SubmitTime` = '{}',`TimeSpent(h)` = {}  \n",
    "                    WHERE (`Username` = {} and `SectionName`='{}' );'''.format(submit_type, submit_time, timespent, int(user), sec[0])\n",
    "                    cursor=conn.cursor()\n",
    "                    row=cursor.execute(sql)\n",
    "                    conn.commit()\n",
    "                    cursor.close()\n",
    "                    if score!=\"\":\n",
    "                        sql='''UPDATE `edm`.`member_class` \n",
    "                        SET `SectionScore` = {} WHERE (`Username` = {} and `SectionName`='{}' );'''.format(score, int(user), sec[0])\n",
    "                        cursor=conn.cursor()\n",
    "                        row=cursor.execute(sql)\n",
    "                        conn.commit()\n",
    "                        cursor.close()"
   ]
  },
  {
   "cell_type": "markdown",
   "metadata": {},
   "source": [
    "#### test"
   ]
  },
  {
   "cell_type": "code",
   "execution_count": null,
   "metadata": {
    "scrolled": true
   },
   "outputs": [],
   "source": [
    "conn=pymysql.connect(host=\"\", port=3306, user=\"\", passwd=\"\", db=\"\", charset=\"\")\n",
    "\n",
    "main=\"https://ncueeclass.ncu.edu.tw/course/teamStage/4599\"\n",
    "options = webdriver.ChromeOptions()\n",
    "prefs = {'profile.default_content_settings.popups': 0, 'download.default_directory': \".\\\\downloaded\"}\n",
    "options.add_experimental_option('prefs', prefs)\n",
    "\n",
    "u=\"m946108005@tmu.edu.tw\"\n",
    "p=\"tjp3tjp3\"\n",
    "\n",
    "driver=webdriver.Chrome(\"D:/programming_useful_material/chromedriver.exe\",chrome_options=options)\n",
    "driver.get(main)\n",
    "#time.sleep(2)\n",
    "element_login=driver.find_element_by_link_text('Login')\n",
    "element_login.click()\n",
    "\n",
    "element_account=driver.find_element_by_xpath('//*[@id=\"account\"]/div/input')\n",
    "element_account.send_keys(u)\n",
    "element_password=driver.find_element_by_xpath('//*[@id=\"password\"]/div/input')\n",
    "element_password.send_keys(p)\n",
    "element_send=driver.find_element_by_xpath('//*[@id=\"login_form\"]/div[6]/div/button')\n",
    "element_send.click()\n",
    "\n",
    "#####test#####\n",
    "time.sleep(1)\n",
    "element_test=driver.find_element_by_xpath('//*[@id=\"mbox-inline\"]/div/div[9]/ul/li[9]/a')\n",
    "element_test.click()\n",
    "\n",
    "html=driver.page_source\n",
    "soup=BeautifulSoup(html, \"html.parser\")\n",
    "trs=soup.select(\"table#examListTable tbody tr\")\n",
    "\n",
    "for tr in trs:\n",
    "    tds=tr.select(\"td\")\n",
    "    #test_na\n",
    "    test_na=tds[1].text.strip()\n",
    "    print(test_na)\n",
    "    #href\n",
    "    href=tds[3].select(\"a\")[0].get(\"href\")\n",
    "    #test_yet\n",
    "    test_yet=tds[3].text.strip()\n",
    "    \n",
    "    if test_yet !=\"0\":\n",
    "        driver.get(\"https://ncueeclass.ncu.edu.tw\"+href)        \n",
    "        html1=driver.page_source\n",
    "        soup1=BeautifulSoup(html1, \"html.parser\")\n",
    "        trs1=soup1.select(\"table#highestScore-list tbody tr\")\n",
    "        element_submit_info=driver.find_elements_by_xpath('//*[@id=\"highestScore-list\"]/tbody/tr/td[6]/div/a')\n",
    "\n",
    "        for tr1 in trs1:\n",
    "            tds=tr1.select(\"td\")\n",
    "            #username\n",
    "            usrn=tds[1].select(\"div.fs-hint\")[0].text.strip()\n",
    "            print(usrn)\n",
    "            #score\n",
    "            score=tds[2].text.strip()\n",
    "            print(score)\n",
    "            #submit_info\n",
    "            ind=trs1.index(tr1)\n",
    "            element_submit_info[ind].click()\n",
    "            time.sleep(2)\n",
    "            html2=driver.page_source\n",
    "            soup2=BeautifulSoup(html2, \"html.parser\")\n",
    "            trs2=soup2.select(\"table#recordList tbody tr\")\n",
    "            starttime=trs2[0].select(\"td\")[3].text\n",
    "            endtime=trs2[-1].select(\"td\")[4].text\n",
    "            print(starttime)\n",
    "            print(endtime)\n",
    "            element_close_submit_info=driver.find_element_by_xpath('//*[@id=\"ajaxMdModalId\"]/div/div/div[1]/button')\n",
    "            element_close_submit_info.click()\n",
    "            time.sleep(1)\n",
    "            #TimeSpent\n",
    "            timespent=datetime.strptime(endtime, \"%Y-%m-%d %H:%M:%S\")-datetime.strptime(starttime, \"%Y-%m-%d %H:%M:%S\")\n",
    "            timespent=round((timespent.days*24)+(timespent.seconds/3600), 3)\n",
    "\n",
    "            sql='''UPDATE `edm`.`member_class` \n",
    "            SET `Submitted` = '{}',`SectionTimeStart` = '{}',`SubmitTime` = '{}',`TimeSpent(h)` = {},`SectionScore` = {}\n",
    "            WHERE (`Username` = {} and `SectionName`='{}' );'''.format(\"已交\", starttime, endtime, timespent, score, usrn, test_na)\n",
    "            cursor=conn.cursor()\n",
    "            row=cursor.execute(sql)\n",
    "            conn.commit()\n",
    "            cursor.close()\n",
    "            print(\"=\"*50)"
   ]
  },
  {
   "cell_type": "markdown",
   "metadata": {},
   "source": [
    "#### questionaire"
   ]
  },
  {
   "cell_type": "code",
   "execution_count": null,
   "metadata": {
    "scrolled": false
   },
   "outputs": [],
   "source": [
    "conn=pymysql.connect(host=\"\", port=3306, user=\"\", passwd=\"\", db=\"\", charset=\"\")\n",
    "main=\"https://ncueeclass.ncu.edu.tw/course/teamStage/4599\"\n",
    "options = webdriver.ChromeOptions()\n",
    "prefs = {'profile.default_content_settings.popups': 0, 'download.default_directory': \".\\\\downloaded\"}\n",
    "options.add_experimental_option('prefs', prefs)\n",
    "\n",
    "u=\"m946108005@tmu.edu.tw\"\n",
    "p=\"tjp3tjp3\"\n",
    "\n",
    "driver=webdriver.Chrome(\"D:/programming_useful_material/chromedriver.exe\",chrome_options=options)\n",
    "driver.get(main)\n",
    "#time.sleep(2)\n",
    "element_login=driver.find_element_by_link_text('Login')\n",
    "element_login.click()\n",
    "\n",
    "element_account=driver.find_element_by_xpath('//*[@id=\"account\"]/div/input')\n",
    "element_account.send_keys(u)\n",
    "element_password=driver.find_element_by_xpath('//*[@id=\"password\"]/div/input')\n",
    "element_password.send_keys(p)\n",
    "element_send=driver.find_element_by_xpath('//*[@id=\"login_form\"]/div[6]/div/button')\n",
    "element_send.click()\n",
    "\n",
    "#####questionaire#####\n",
    "time.sleep(1)\n",
    "element_ques=driver.find_element_by_xpath('//*[@id=\"mbox-inline\"]/div/div[9]/ul/li[10]/a')\n",
    "element_ques.click()\n",
    "\n",
    "html=driver.page_source\n",
    "soup=BeautifulSoup(html, \"html.parser\")\n",
    "trs=soup.select(\"table#questionnaireListTable tbody tr\")\n",
    "\n",
    "for tr in trs:\n",
    "    tds=tr.select(\"td\")\n",
    "    #ques_na\n",
    "    ques_na=tds[1].text.strip()\n",
    "    print(ques_na)\n",
    "    #href\n",
    "    href=tds[3].select(\"a\")[0].get(\"href\")\n",
    "    #limit_time\n",
    "    limit_time=datetime.strptime(str(datetime.now().year)+\"-\"+tds[2].text.strip()+\":00\",  \"%Y-%m-%d %H:%M:%S\")\n",
    "    \n",
    "    if datetime.now()>limit_time:\n",
    "        driver.get(\"https://ncueeclass.ncu.edu.tw\"+href)        \n",
    "        html1=driver.page_source\n",
    "        soup1=BeautifulSoup(html1, \"html.parser\")\n",
    "        trs1=soup1.select(\"table#statisticsResultTable tbody tr\")\n",
    "\n",
    "        for tr1 in trs1:\n",
    "            tds=tr1.select(\"td\")\n",
    "            #username\n",
    "            usrn=tds[2].text.strip()\n",
    "            print(usrn)\n",
    "            #submit_time\n",
    "            submit_time=tds[5].text.strip()\n",
    "            #TimeSpent\n",
    "            timespent=0\n",
    "\n",
    "            sql='''UPDATE `edm`.`member_class` \n",
    "            SET `Submitted` = '{}',`SubmitTime` = '{}',`TimeSpent(h)` = {}\n",
    "            WHERE (`Username` = {} and `SectionName`='{}' );'''.format(\"已交\", submit_time, timespent, usrn, ques_na)\n",
    "            cursor=conn.cursor()\n",
    "            row=cursor.execute(sql)\n",
    "            conn.commit()\n",
    "            cursor.close()\n",
    "            print(\"=\"*50)"
   ]
  },
  {
   "cell_type": "markdown",
   "metadata": {},
   "source": [
    "#### mix (homework+test+questionaire)"
   ]
  },
  {
   "cell_type": "code",
   "execution_count": null,
   "metadata": {
    "scrolled": true
   },
   "outputs": [],
   "source": [
    "conn=pymysql.connect(host=\"\", port=3306, user=\"\", passwd=\"\", db=\"\", charset=\"\")\n",
    "\n",
    "main=\"https://ncueeclass.ncu.edu.tw/course/4691\"\n",
    "options = webdriver.ChromeOptions()\n",
    "prefs = {'profile.default_content_settings.popups': 0, 'download.default_directory': \".\\\\downloaded\"}\n",
    "options.add_experimental_option('prefs', prefs)\n",
    "\n",
    "u=\"m946108005@tmu.edu.tw\"\n",
    "p=\"tjp3tjp3\"\n",
    "\n",
    "driver=webdriver.Chrome(\"D:/programming_useful_material/chromedriver.exe\",chrome_options=options)\n",
    "driver.get(main)\n",
    "#time.sleep(2)\n",
    "element_login=driver.find_element_by_link_text('Login')\n",
    "element_login.click()\n",
    "\n",
    "element_account=driver.find_element_by_xpath('//*[@id=\"account\"]/div/input')\n",
    "element_account.send_keys(u)\n",
    "element_password=driver.find_element_by_xpath('//*[@id=\"password\"]/div/div[1]/input')\n",
    "element_password.send_keys(p)\n",
    "element_send=driver.find_element_by_xpath('//*[@id=\"login_form\"]/div[6]/div/button')\n",
    "element_send.click()\n",
    "\n",
    "#####homework#####\n",
    "time.sleep(1)\n",
    "element_hw=driver.find_element_by_xpath('//*[@id=\"mbox-inline\"]/div/div[9]/ul/li[8]/a')\n",
    "element_hw.click()\n",
    "\n",
    "html=driver.page_source\n",
    "soup=BeautifulSoup(html, \"html.parser\")\n",
    "trs=soup.select(\"table#homeworkListTable tbody tr\")\n",
    "\n",
    "for tr in trs:\n",
    "    tds=tr.select(\"td\")\n",
    "    #hw_na\n",
    "    hw_na=tds[1].text.strip()\n",
    "    #href\n",
    "    href=tds[3].select(\"a\")[0].get(\"href\")\n",
    "    #start_time\n",
    "    if tds[4].text !=\"-\":\n",
    "        start_time=str(time.gmtime().tm_year)+\"-\"+tds[4].text+\":00\"\n",
    "    elif tds[4].text ==\"-\":\n",
    "        start_time=\"\"\n",
    "    sql='''select `SectionTimeStart` from `edm`.`section` where `SectionName` like '%{}%' and `SectionTimeStart` is not null;\n",
    "    '''.format(re.search(\"[0-9]+\", hw_na).group())\n",
    "    cursor=conn.cursor()\n",
    "    cursor.execute(sql) \n",
    "    tt=cursor.fetchall()\n",
    "    cursor.close()    \n",
    "    if tt!=():\n",
    "        start_time=str(tt[0][0])\n",
    "    #end_time\n",
    "    if tds[5].text !=\"-\" and \":\" in tds[5].text: \n",
    "        end_time=str(time.gmtime().tm_year)+\"-\"+tds[5].text+\":00\"\n",
    "    if tds[5].text !=\"-\" and \":\" not in tds[5].text: \n",
    "        end_time=tds[5].text+\" 09:00:00\"\n",
    "    elif tds[5].text ==\"-\":\n",
    "        end_time=\"\"\n",
    "    #group_hw\n",
    "    if tds[2].select(\"span\")!=[]: group_hw=\"y\"\n",
    "    else: group_hw=\"n\"\n",
    "    \n",
    "    if group_hw==\"y\":\n",
    "        print(hw_na)\n",
    "        driver.get(\"https://ncueeclass.ncu.edu.tw\"+href)\n",
    "        \n",
    "        html=driver.page_source\n",
    "        soup=BeautifulSoup(html, \"html.parser\")\n",
    "        trs1=soup.select(\"table#submitList_table tbody tr\")\n",
    "        for tr1 in trs1:\n",
    "            tds=tr1.select(\"td\")\n",
    "            \n",
    "            #group\n",
    "            grp=tds[2].text.replace(\" \",\"\")[1]\n",
    "\n",
    "            #submit_time\n",
    "            if tds[5].text==\"-\":\n",
    "                submit_time=\"\"\n",
    "            else:\n",
    "                submit_time=str(time.gmtime().tm_year)+\"-\"+tds[5].text+\":00\"\n",
    "            \n",
    "            #score\n",
    "            if tds[6].text.strip()!=\"-\":\n",
    "                score=int(tds[6].text.strip())\n",
    "            elif tds[6].text.strip()==\"-\":\n",
    "                score=\"\"\n",
    "            #TimeSpent\n",
    "            if start_time!=\"\" and submit_time!=\"\":\n",
    "                timespent=datetime.strptime(submit_time, \"%Y-%m-%d %H:%M:%S\")-datetime.strptime(start_time, \"%Y-%m-%d %H:%M:%S\")\n",
    "                timespent=(timespent.days*24)+(timespent.seconds/3600)\n",
    "            elif start_time==\"\" or submit_time==\"\":\n",
    "                timespent=0\n",
    "            \n",
    "            #submit_type\n",
    "            if end_time!=\"\" and submit_time!=\"\":\n",
    "                if datetime.strptime(end_time, \"%Y-%m-%d %H:%M:%S\") > datetime.strptime(submit_time, \"%Y-%m-%d %H:%M:%S\"):\n",
    "                    submit_type=\"已交\"\n",
    "                if datetime.strptime(end_time, \"%Y-%m-%d %H:%M:%S\") < datetime.strptime(submit_time, \"%Y-%m-%d %H:%M:%S\"):\n",
    "                    submit_type=\"遲交\"\n",
    "            elif end_time==\"\":\n",
    "                submit_type=\"已交\"        \n",
    "                \n",
    "            cursor=conn.cursor()\n",
    "            cursor.execute(\"select `Username` from `edm`.`member` where `Group`='{}';\".format(grp)) \n",
    "            section=cursor.fetchall()\n",
    "            cursor.close()\n",
    "            for user in section:\n",
    "                print(user[0])\n",
    "                sql='''UPDATE `edm`.`member_class` \n",
    "                SET `Submitted` = '{}',`SubmitTime` = '{}',`TimeSpent(h)` = {}  \n",
    "                WHERE (`Username` = {} and `SectionName`='{}' );'''.format(submit_type, submit_time, float(timespent), int(user[0]), hw_na)\n",
    "                cursor=conn.cursor()\n",
    "                row=cursor.execute(sql)\n",
    "                conn.commit()\n",
    "                cursor.close() \n",
    "                if score!=\"\":\n",
    "                    sql='''UPDATE `edm`.`member_class` \n",
    "                    SET `SectionScore` = {}  \n",
    "                    WHERE (`Username` = {} and `SectionName`='{}' );'''.format(int(score), int(user[0]), hw_na)\n",
    "                    cursor=conn.cursor()\n",
    "                    row=cursor.execute(sql)\n",
    "                    conn.commit()\n",
    "                    cursor.close()              \n",
    "                \n",
    "    elif group_hw==\"n\":\n",
    "        print(hw_na)\n",
    "        driver.get(\"https://ncueeclass.ncu.edu.tw\"+href)\n",
    "        \n",
    "        html=driver.page_source\n",
    "        soup=BeautifulSoup(html, \"html.parser\")\n",
    "        trs1=soup.select(\"table#submitList_table tbody tr\")\n",
    "        for tr1 in trs1:\n",
    "            tds=tr1.select(\"td\")\n",
    "            #username\n",
    "            user=tds[2].select(\"div.fs-hint\")[0].text           \n",
    "            #submit_time\n",
    "            if tds[4].text==\"-\":\n",
    "                submit_time=\"\"\n",
    "            else:\n",
    "                submit_time=str(time.gmtime().tm_year)+\"-\"+tds[4].text+\":00\"\n",
    "            #score\n",
    "            if tds[5].text.strip()!=\"-\":\n",
    "                score=int(tds[5].text.strip())\n",
    "            elif tds[5].text.strip()==\"-\":\n",
    "                score=\"\"\n",
    "            #TimeSpent\n",
    "            if start_time!=\"\" and submit_time!=\"\":\n",
    "                timespent=datetime.strptime(submit_time, \"%Y-%m-%d %H:%M:%S\")-datetime.strptime(start_time, \"%Y-%m-%d %H:%M:%S\")\n",
    "                timespent=round((timespent.days*24)+(timespent.seconds/3600), 3)\n",
    "            elif start_time==\"\" or submit_time==\"\":\n",
    "                timespent=0\n",
    "            #submit_type\n",
    "            if end_time!=\"\" and submit_time!=\"\":\n",
    "                if datetime.strptime(end_time, \"%Y-%m-%d %H:%M:%S\") > datetime.strptime(submit_time, \"%Y-%m-%d %H:%M:%S\"):\n",
    "                    submit_type=\"已交\"\n",
    "                if datetime.strptime(end_time, \"%Y-%m-%d %H:%M:%S\") < datetime.strptime(submit_time, \"%Y-%m-%d %H:%M:%S\"):\n",
    "                    submit_type=\"遲交\"\n",
    "            elif end_time==\"\":\n",
    "                submit_type=\"已交\"        \n",
    "            cursor=conn.cursor()\n",
    "            cursor.execute(\"select `SectionName` from `edm`.`section`;\") \n",
    "            sections=cursor.fetchall()\n",
    "            cursor.close()\n",
    "            for sec in sections:\n",
    "                if \"Prac\"  in sec[0] or \"Week\" in sec[0]:\n",
    "                    if re.findall(\"[0-9]+\",hw_na.split(\"】\")[0])[0] in sec[0]:\n",
    "                        print(user, sec[0])\n",
    "                        sql='''UPDATE `edm`.`member_class` \n",
    "                        SET `Submitted` = '{}',`SubmitTime` = '{}',`TimeSpent(h)` = {}  \n",
    "                        WHERE (`Username` = {} and `SectionName`='{}' );'''.format(submit_type, submit_time, timespent, int(user), sec[0])\n",
    "                        cursor=conn.cursor()\n",
    "                        row=cursor.execute(sql)\n",
    "                        conn.commit()\n",
    "                        cursor.close()\n",
    "                        if score!=\"\":\n",
    "                            sql='''UPDATE `edm`.`member_class` \n",
    "                            SET `SectionScore` = {} WHERE (`Username` = {} and `SectionName`='{}' );'''.format(score, int(user), sec[0])\n",
    "                            cursor=conn.cursor()\n",
    "                            row=cursor.execute(sql)\n",
    "                            conn.commit()\n",
    "                            cursor.close()\n",
    "                        \n",
    "#####test#####\n",
    "driver.get(main)\n",
    "time.sleep(1)\n",
    "element_test=driver.find_element_by_xpath('//*[@id=\"mbox-inline\"]/div/div[9]/ul/li[9]/a')\n",
    "element_test.click()\n",
    "\n",
    "html=driver.page_source\n",
    "soup=BeautifulSoup(html, \"html.parser\")\n",
    "trs=soup.select(\"table#examListTable tbody tr\")\n",
    "\n",
    "for tr in trs:\n",
    "    tds=tr.select(\"td\")\n",
    "    #test_na\n",
    "    test_na=tds[1].text.strip()\n",
    "    print(test_na)\n",
    "    #href\n",
    "    href=tds[3].select(\"a\")[0].get(\"href\")\n",
    "    #test_yet\n",
    "    test_yet=tds[3].text.strip()\n",
    "    \n",
    "    if test_yet !=\"0\":\n",
    "        cursor=conn.cursor()\n",
    "        cursor.execute(\"select `SectionNumber` from `edm`.`section` where `NotebookName`='{}';\".format(test_na)) \n",
    "        ScNb=cursor.fetchall()\n",
    "        ScNb=int(ScNb[0][0])\n",
    "        cursor.close()\n",
    "        \n",
    "        driver.get(\"https://ncueeclass.ncu.edu.tw\"+href)        \n",
    "        html1=driver.page_source\n",
    "        soup1=BeautifulSoup(html1, \"html.parser\")\n",
    "        trs1=soup1.select(\"table#highestScore-list tbody tr\")\n",
    "        element_submit_info=driver.find_elements_by_xpath('//*[@id=\"highestScore-list\"]/tbody/tr/td[6]/div/a')\n",
    "\n",
    "        for tr1 in trs1:\n",
    "            tds=tr1.select(\"td\")\n",
    "            #username\n",
    "            usrn=tds[1].select(\"div.fs-hint\")[0].text.strip()\n",
    "            print(usrn)\n",
    "            #score\n",
    "            score=tds[2].text.strip()\n",
    "            print(score)\n",
    "            #submit_info\n",
    "            ind=trs1.index(tr1)\n",
    "            element_submit_info[ind].click()\n",
    "            time.sleep(2)\n",
    "            html2=driver.page_source\n",
    "            soup2=BeautifulSoup(html2, \"html.parser\")\n",
    "            trs2=soup2.select(\"table#recordList tbody tr\")\n",
    "            starttime=trs2[0].select(\"td\")[3].text\n",
    "            endtime=trs2[-1].select(\"td\")[4].text\n",
    "            print(starttime)\n",
    "            print(endtime)\n",
    "            element_close_submit_info=driver.find_element_by_xpath('//*[@id=\"ajaxMdModalId\"]/div/div/div[1]/button')\n",
    "            element_close_submit_info.click()\n",
    "            time.sleep(1)\n",
    "            #TimeSpent\n",
    "            timespent=datetime.strptime(endtime, \"%Y-%m-%d %H:%M:%S\")-datetime.strptime(starttime, \"%Y-%m-%d %H:%M:%S\")\n",
    "            timespent=round((timespent.days*24)+(timespent.seconds/3600), 3)\n",
    "\n",
    "            sql='''UPDATE `edm`.`member_class` \n",
    "            SET `Submitted` = '{}',`SectionTimeStart` = '{}',`SubmitTime` = '{}',`TimeSpent(h)` = {},`SectionScore` = {}\n",
    "            WHERE (`Username` = {} and `SectionNumber`={} );'''.format(\"已交\", starttime, endtime, timespent, score, usrn, ScNb)\n",
    "            cursor=conn.cursor()\n",
    "            row=cursor.execute(sql)\n",
    "            conn.commit()\n",
    "            cursor.close()\n",
    "            print(\"=\"*50)\n",
    "\n",
    "#####questionaire#####\n",
    "driver.get(main)\n",
    "time.sleep(1)\n",
    "element_ques=driver.find_element_by_xpath('//*[@id=\"mbox-inline\"]/div/div[9]/ul/li[10]/a')\n",
    "element_ques.click()\n",
    "\n",
    "html=driver.page_source\n",
    "soup=BeautifulSoup(html, \"html.parser\")\n",
    "trs=soup.select(\"table#questionnaireListTable tbody tr\")\n",
    "\n",
    "for tr in trs:\n",
    "    tds=tr.select(\"td\")\n",
    "    #ques_na\n",
    "    ques_na=tds[1].text.strip()\n",
    "    print(ques_na)\n",
    "    #href\n",
    "    href=tds[3].select(\"a\")[0].get(\"href\")\n",
    "    #limit_time\n",
    "    limit_time=datetime.strptime(str(datetime.now().year)+\"-\"+tds[2].text.strip()+\":00\",  \"%Y-%m-%d %H:%M:%S\")\n",
    "    \n",
    "    if datetime.now()>limit_time:\n",
    "        driver.get(\"https://ncueeclass.ncu.edu.tw\"+href)        \n",
    "        html1=driver.page_source\n",
    "        soup1=BeautifulSoup(html1, \"html.parser\")\n",
    "        trs1=soup1.select(\"table#statisticsResultTable tbody tr\")\n",
    "\n",
    "        for tr1 in trs1:\n",
    "            tds=tr1.select(\"td\")\n",
    "            #username\n",
    "            usrn=tds[2].text.strip()\n",
    "            print(usrn)\n",
    "            #submit_time\n",
    "            submit_time=tds[5].text.strip()\n",
    "            #TimeSpent\n",
    "            timespent=0\n",
    "\n",
    "            sql='''UPDATE `edm`.`member_class` \n",
    "            SET `Submitted` = '{}',`SubmitTime` = '{}',`TimeSpent(h)` = {}\n",
    "            WHERE (`Username` = {} and `SectionName`='{}' );'''.format(\"已交\", submit_time, timespent, usrn, ques_na)\n",
    "            cursor=conn.cursor()\n",
    "            row=cursor.execute(sql)\n",
    "            conn.commit()\n",
    "            cursor.close()\n",
    "            print(\"=\"*50)\n",
    "driver.close()"
   ]
  },
  {
   "cell_type": "markdown",
   "metadata": {},
   "source": [
    "#### mix 跨年後"
   ]
  },
  {
   "cell_type": "code",
   "execution_count": null,
   "metadata": {
    "scrolled": true
   },
   "outputs": [],
   "source": [
    "'''\n",
    "待修改：\n",
    "ee-class 跨年後，會失去「作業繳交期限」前一年的「時間」資訊，僅保留日期。\n",
    "除了爬蟲資訊會錯誤，爬到的資料若將資料庫舊有資訊覆蓋，也會讓遲交資訊遺失。\n",
    "應該將繳交期限時間也儲存入資料庫，如期限有變更就覆蓋，但跨年後就不自動修改前一年的繳交期限資訊。\n",
    "'''\n",
    "conn=pymysql.connect(host=\"\", port=3306, user=\"\", passwd=\"\", db=\"\", charset=\"\")\n",
    "\n",
    "main=\"https://ncueeclass.ncu.edu.tw/course/4691\"\n",
    "options = webdriver.ChromeOptions()\n",
    "prefs = {'profile.default_content_settings.popups': 0, 'download.default_directory': \".\\\\downloaded\"}\n",
    "options.add_experimental_option('prefs', prefs)\n",
    "\n",
    "u=\"m946108005@tmu.edu.tw\"\n",
    "p=\"tjp3tjp3\"\n",
    "\n",
    "driver=webdriver.Chrome(\"D:/programming_useful_material/chromedriver.exe\",chrome_options=options)\n",
    "driver.get(main)\n",
    "#time.sleep(2)\n",
    "element_login=driver.find_element_by_link_text('Login')\n",
    "element_login.click()\n",
    "\n",
    "element_account=driver.find_element_by_xpath('//*[@id=\"account\"]/div/input')\n",
    "element_account.send_keys(u)\n",
    "element_password=driver.find_element_by_xpath('//*[@id=\"password\"]/div/div[1]/input')\n",
    "element_password.send_keys(p)\n",
    "element_send=driver.find_element_by_xpath('//*[@id=\"login_form\"]/div[6]/div/button')\n",
    "element_send.click()\n",
    "\n",
    "#####homework#####\n",
    "time.sleep(1)\n",
    "element_hw=driver.find_element_by_xpath('//*[@id=\"mbox-inline\"]/div/div[9]/ul/li[8]/a')\n",
    "element_hw.click()\n",
    "\n",
    "html=driver.page_source\n",
    "soup=BeautifulSoup(html, \"html.parser\")\n",
    "trs=soup.select(\"table#homeworkListTable tbody tr\")\n",
    "\n",
    "for tr in trs:\n",
    "    tds=tr.select(\"td\")\n",
    "    #hw_na\n",
    "    hw_na=tds[1].text.strip()\n",
    "    num=int(re.findall(\"[0-9]+\",hw_na.split(\"】\")[0])[0])\n",
    "    if num==15:\n",
    "        timing=\" 09:00:00\"\n",
    "    elif num==16:\n",
    "        timing=\" 11:20:00\"\n",
    "    else:\n",
    "        continue\n",
    "    #href\n",
    "    href=tds[3].select(\"a\")[0].get(\"href\")\n",
    "    #start_time\n",
    "    if tds[4].text !=\"-\":\n",
    "        start_time=str(time.gmtime().tm_year)+\"-\"+tds[4].text+\":00\"\n",
    "    elif tds[4].text ==\"-\":\n",
    "        start_time=\"\"\n",
    "    sql='''select `SectionTimeStart` from `edm`.`section` where `SectionName` like '%{}%' and `SectionTimeStart` is not null;\n",
    "    '''.format(re.search(\"[0-9]+\", hw_na).group())\n",
    "    cursor=conn.cursor()\n",
    "    cursor.execute(sql) \n",
    "    tt=cursor.fetchall()\n",
    "    cursor.close()    \n",
    "    if tt!=():\n",
    "        start_time=str(tt[0][0])\n",
    "    #end_time\n",
    "    if tds[5].text !=\"-\" and \":\" in tds[5].text: \n",
    "        end_time=str(time.gmtime().tm_year)+\"-\"+tds[5].text+\":00\"\n",
    "    if tds[5].text !=\"-\" and \":\" not in tds[5].text: \n",
    "        end_time=tds[5].text+timing\n",
    "    elif tds[5].text ==\"-\":\n",
    "        end_time=\"\"\n",
    "    #group_hw\n",
    "    if tds[2].select(\"span\")!=[]: group_hw=\"y\"\n",
    "    else: group_hw=\"n\"\n",
    "    \n",
    "    if group_hw==\"y\":\n",
    "        print(hw_na)\n",
    "        driver.get(\"https://ncueeclass.ncu.edu.tw\"+href)\n",
    "        \n",
    "        html=driver.page_source\n",
    "        soup=BeautifulSoup(html, \"html.parser\")\n",
    "        trs1=soup.select(\"table#submitList_table tbody tr\")\n",
    "        for tr1 in trs1:\n",
    "            tds=tr1.select(\"td\")\n",
    "            \n",
    "            #group\n",
    "            grp=tds[2].text.replace(\" \",\"\")[1]\n",
    "\n",
    "            #submit_time\n",
    "            if tds[5].text==\"-\":\n",
    "                submit_time=\"\"\n",
    "            else:\n",
    "                if tds[5].text.startswith(\"12\"):\n",
    "                    submit_time=\"2020\"+\"-\"+tds[5].text+\":00\"\n",
    "                elif tds[5].text.startswith(\"01\"):\n",
    "                    submit_time=str(time.gmtime().tm_year)+\"-\"+tds[5].text+\":00\"\n",
    "            #score\n",
    "            if tds[6].text.strip()!=\"-\":\n",
    "                score=int(tds[6].text.strip())\n",
    "            elif tds[6].text.strip()==\"-\":\n",
    "                score=\"\"\n",
    "            #TimeSpent\n",
    "            if start_time!=\"\" and submit_time!=\"\":\n",
    "                timespent=datetime.strptime(submit_time, \"%Y-%m-%d %H:%M:%S\")-datetime.strptime(start_time, \"%Y-%m-%d %H:%M:%S\")\n",
    "                timespent=(timespent.days*24)+(timespent.seconds/3600)\n",
    "            elif start_time==\"\" or submit_time==\"\":\n",
    "                timespent=0\n",
    "            \n",
    "            #submit_type\n",
    "            if end_time!=\"\" and submit_time!=\"\":\n",
    "                if datetime.strptime(end_time, \"%Y-%m-%d %H:%M:%S\") > datetime.strptime(submit_time, \"%Y-%m-%d %H:%M:%S\"):\n",
    "                    submit_type=\"已交\"\n",
    "                if datetime.strptime(end_time, \"%Y-%m-%d %H:%M:%S\") < datetime.strptime(submit_time, \"%Y-%m-%d %H:%M:%S\"):\n",
    "                    submit_type=\"遲交\"\n",
    "            elif end_time==\"\":\n",
    "                submit_type=\"已交\"        \n",
    "                \n",
    "            cursor=conn.cursor()\n",
    "            cursor.execute(\"select `Username` from `edm`.`member` where `Group`='{}';\".format(grp)) \n",
    "            section=cursor.fetchall()\n",
    "            cursor.close()\n",
    "            for user in section:\n",
    "                print(user[0])\n",
    "                sql='''UPDATE `edm`.`member_class` \n",
    "                SET `Submitted` = '{}',`SubmitTime` = '{}',`TimeSpent(h)` = {}  \n",
    "                WHERE (`Username` = {} and `SectionName`='{}' );'''.format(submit_type, submit_time, float(timespent), int(user[0]), hw_na)\n",
    "                cursor=conn.cursor()\n",
    "                row=cursor.execute(sql)\n",
    "                conn.commit()\n",
    "                cursor.close() \n",
    "                if score!=\"\":\n",
    "                    sql='''UPDATE `edm`.`member_class` \n",
    "                    SET `SectionScore` = {}  \n",
    "                    WHERE (`Username` = {} and `SectionName`='{}' );'''.format(int(score), int(user[0]), hw_na)\n",
    "                    cursor=conn.cursor()\n",
    "                    row=cursor.execute(sql)\n",
    "                    conn.commit()\n",
    "                    cursor.close()              \n",
    "                \n",
    "    elif group_hw==\"n\":\n",
    "        print(hw_na)\n",
    "        driver.get(\"https://ncueeclass.ncu.edu.tw\"+href)\n",
    "        \n",
    "        html=driver.page_source\n",
    "        soup=BeautifulSoup(html, \"html.parser\")\n",
    "        trs1=soup.select(\"table#submitList_table tbody tr\")\n",
    "        for tr1 in trs1:\n",
    "            tds=tr1.select(\"td\")\n",
    "            #username\n",
    "            user=tds[2].select(\"div.fs-hint\")[0].text           \n",
    "            #submit_time\n",
    "            if tds[4].text==\"-\":\n",
    "                submit_time=\"\"\n",
    "            else:\n",
    "                if tds[4].text.startswith(\"12\"):\n",
    "                    submit_time=\"2020\"+\"-\"+tds[4].text+\":00\"\n",
    "                elif tds[4].text.startswith(\"01\"):\n",
    "                    submit_time=str(time.gmtime().tm_year)+\"-\"+tds[4].text+\":00\"\n",
    "            #score\n",
    "            if tds[5].text.strip()!=\"-\":\n",
    "                score=int(tds[5].text.strip())\n",
    "            elif tds[5].text.strip()==\"-\":\n",
    "                score=\"\"\n",
    "            #TimeSpent\n",
    "            if start_time!=\"\" and submit_time!=\"\":\n",
    "                timespent=datetime.strptime(submit_time, \"%Y-%m-%d %H:%M:%S\")-datetime.strptime(start_time, \"%Y-%m-%d %H:%M:%S\")\n",
    "                timespent=round((timespent.days*24)+(timespent.seconds/3600), 3)\n",
    "            elif start_time==\"\" or submit_time==\"\":\n",
    "                timespent=0\n",
    "            #submit_type\n",
    "            if end_time!=\"\" and submit_time!=\"\":\n",
    "                if datetime.strptime(end_time, \"%Y-%m-%d %H:%M:%S\") > datetime.strptime(submit_time, \"%Y-%m-%d %H:%M:%S\"):\n",
    "                    submit_type=\"已交\"\n",
    "                if datetime.strptime(end_time, \"%Y-%m-%d %H:%M:%S\") < datetime.strptime(submit_time, \"%Y-%m-%d %H:%M:%S\"):\n",
    "                    submit_type=\"遲交\"\n",
    "            elif end_time==\"\":\n",
    "                submit_type=\"已交\"        \n",
    "            cursor=conn.cursor()\n",
    "            cursor.execute(\"select `SectionName` from `edm`.`section`;\") \n",
    "            sections=cursor.fetchall()\n",
    "            cursor.close()\n",
    "            for sec in sections:\n",
    "                if \"Prac\"  in sec[0] or \"Week\" in sec[0]:\n",
    "                    if re.findall(\"[0-9]+\",hw_na.split(\"】\")[0])[0] in sec[0]:\n",
    "                        print(user, sec[0])\n",
    "                        sql='''UPDATE `edm`.`member_class` \n",
    "                        SET `Submitted` = '{}',`SubmitTime` = '{}',`TimeSpent(h)` = {}  \n",
    "                        WHERE (`Username` = {} and `SectionName`='{}' );'''.format(submit_type, submit_time, timespent, int(user), sec[0])\n",
    "                        cursor=conn.cursor()\n",
    "                        row=cursor.execute(sql)\n",
    "                        conn.commit()\n",
    "                        cursor.close()\n",
    "                        if score!=\"\":\n",
    "                            sql='''UPDATE `edm`.`member_class` \n",
    "                            SET `SectionScore` = {} WHERE (`Username` = {} and `SectionName`='{}' );'''.format(score, int(user), sec[0])\n",
    "                            cursor=conn.cursor()\n",
    "                            row=cursor.execute(sql)\n",
    "                            conn.commit()\n",
    "                            cursor.close()\n",
    "                        \n",
    "#####test#####\n",
    "# driver.get(main)\n",
    "# time.sleep(1)\n",
    "# element_test=driver.find_element_by_xpath('//*[@id=\"mbox-inline\"]/div/div[9]/ul/li[9]/a')\n",
    "# element_test.click()\n",
    "\n",
    "# html=driver.page_source\n",
    "# soup=BeautifulSoup(html, \"html.parser\")\n",
    "# trs=soup.select(\"table#examListTable tbody tr\")\n",
    "\n",
    "# for tr in trs:\n",
    "#     tds=tr.select(\"td\")\n",
    "#     #test_na\n",
    "#     test_na=tds[1].text.strip()\n",
    "#     print(test_na)\n",
    "#     #href\n",
    "#     href=tds[3].select(\"a\")[0].get(\"href\")\n",
    "#     #test_yet\n",
    "#     test_yet=tds[3].text.strip()\n",
    "    \n",
    "#     if test_yet !=\"0\":\n",
    "#         cursor=conn.cursor()\n",
    "#         cursor.execute(\"select `SectionNumber` from `edm`.`section` where `NotebookName`='{}';\".format(test_na)) \n",
    "#         ScNb=cursor.fetchall()\n",
    "#         ScNb=int(ScNb[0][0])\n",
    "#         cursor.close()\n",
    "        \n",
    "#         driver.get(\"https://ncueeclass.ncu.edu.tw\"+href)        \n",
    "#         html1=driver.page_source\n",
    "#         soup1=BeautifulSoup(html1, \"html.parser\")\n",
    "#         trs1=soup1.select(\"table#highestScore-list tbody tr\")\n",
    "#         element_submit_info=driver.find_elements_by_xpath('//*[@id=\"highestScore-list\"]/tbody/tr/td[6]/div/a')\n",
    "\n",
    "#         for tr1 in trs1:\n",
    "#             tds=tr1.select(\"td\")\n",
    "#             #username\n",
    "#             usrn=tds[1].select(\"div.fs-hint\")[0].text.strip()\n",
    "#             print(usrn)\n",
    "#             #score\n",
    "#             score=tds[2].text.strip()\n",
    "#             print(score)\n",
    "#             #submit_info\n",
    "#             ind=trs1.index(tr1)\n",
    "#             element_submit_info[ind].click()\n",
    "#             time.sleep(2)\n",
    "#             html2=driver.page_source\n",
    "#             soup2=BeautifulSoup(html2, \"html.parser\")\n",
    "#             trs2=soup2.select(\"table#recordList tbody tr\")\n",
    "#             starttime=trs2[0].select(\"td\")[3].text\n",
    "#             endtime=trs2[-1].select(\"td\")[4].text\n",
    "#             print(starttime)\n",
    "#             print(endtime)\n",
    "#             element_close_submit_info=driver.find_element_by_xpath('//*[@id=\"ajaxMdModalId\"]/div/div/div[1]/button')\n",
    "#             element_close_submit_info.click()\n",
    "#             time.sleep(1)\n",
    "#             #TimeSpent\n",
    "#             timespent=datetime.strptime(endtime, \"%Y-%m-%d %H:%M:%S\")-datetime.strptime(starttime, \"%Y-%m-%d %H:%M:%S\")\n",
    "#             timespent=round((timespent.days*24)+(timespent.seconds/3600), 3)\n",
    "\n",
    "#             sql='''UPDATE `edm`.`member_class` \n",
    "#             SET `Submitted` = '{}',`SectionTimeStart` = '{}',`SubmitTime` = '{}',`TimeSpent(h)` = {},`SectionScore` = {}\n",
    "#             WHERE (`Username` = {} and `SectionNumber`={} );'''.format(\"已交\", starttime, endtime, timespent, score, usrn, ScNb)\n",
    "#             cursor=conn.cursor()\n",
    "#             row=cursor.execute(sql)\n",
    "#             conn.commit()\n",
    "#             cursor.close()\n",
    "#             print(\"=\"*50)\n",
    "\n",
    "#####questionaire#####\n",
    "driver.get(main)\n",
    "time.sleep(1)\n",
    "element_ques=driver.find_element_by_xpath('//*[@id=\"mbox-inline\"]/div/div[9]/ul/li[10]/a')\n",
    "element_ques.click()\n",
    "\n",
    "html=driver.page_source\n",
    "soup=BeautifulSoup(html, \"html.parser\")\n",
    "trs=soup.select(\"table#questionnaireListTable tbody tr\")\n",
    "\n",
    "for tr in trs:\n",
    "    tds=tr.select(\"td\")\n",
    "    #ques_na\n",
    "    ques_na=tds[1].text.strip()\n",
    "    print(ques_na)\n",
    "    if ques_na=='Survey of leaning motivation and background 學習動機及背景問卷':\n",
    "        continue\n",
    "    #href\n",
    "    href=tds[3].select(\"a\")[0].get(\"href\")\n",
    "    #limit_time\n",
    "    limit_time=datetime.strptime(str(datetime.now().year)+\"-\"+tds[2].text.strip()+\":00\",  \"%Y-%m-%d %H:%M:%S\")\n",
    "    \n",
    "    if datetime.now()>limit_time:\n",
    "        driver.get(\"https://ncueeclass.ncu.edu.tw\"+href)        \n",
    "        html1=driver.page_source\n",
    "        soup1=BeautifulSoup(html1, \"html.parser\")\n",
    "        trs1=soup1.select(\"table#statisticsResultTable tbody tr\")\n",
    "\n",
    "        for tr1 in trs1:\n",
    "            tds=tr1.select(\"td\")\n",
    "            #username\n",
    "            usrn=tds[2].text.strip()\n",
    "            print(usrn)\n",
    "            #submit_time\n",
    "            submit_time=tds[5].text.strip()\n",
    "            #TimeSpent\n",
    "            timespent=0\n",
    "\n",
    "            sql='''UPDATE `edm`.`member_class` \n",
    "            SET `Submitted` = '{}',`SubmitTime` = '{}',`TimeSpent(h)` = {}\n",
    "            WHERE (`Username` = {} and `SectionName`='{}' );'''.format(\"已交\", submit_time, timespent, usrn, ques_na)\n",
    "            cursor=conn.cursor()\n",
    "            row=cursor.execute(sql)\n",
    "            conn.commit()\n",
    "            cursor.close()\n",
    "            print(\"=\"*50)\n",
    "driver.close()"
   ]
  },
  {
   "cell_type": "markdown",
   "metadata": {},
   "source": [
    "### section final content "
   ]
  },
  {
   "cell_type": "code",
   "execution_count": null,
   "metadata": {},
   "outputs": [],
   "source": [
    "import pymysql\n",
    "import numpy as np\n",
    "import pandas as pd\n",
    "import re\n",
    "import os\n",
    "import copy\n",
    "from datetime import datetime, timedelta\n",
    "from bs4 import BeautifulSoup\n",
    "from selenium import webdriver\n",
    "import requests\n",
    "from urllib.request import urlretrieve\n",
    "#from urllib.parse import urlparse\n",
    "from urllib.request import urlopen\n",
    "pd.set_option('display.max_columns', None)\n",
    "pd.set_option('display.max_rows', None)"
   ]
  },
  {
   "cell_type": "code",
   "execution_count": null,
   "metadata": {},
   "outputs": [],
   "source": [
    "hw_list=os.listdir(\"./homework\")\n",
    "\n",
    "hw_list.remove(\"【Mid09】Midterm_Paper organization and report\")\n",
    "hw_list.remove(\"【Prac02】 Finding your own keywords for LA or EDM\")\n",
    "\n",
    "print(hw_list)"
   ]
  },
  {
   "cell_type": "code",
   "execution_count": null,
   "metadata": {},
   "outputs": [],
   "source": [
    "#字數不算\"\\n\"\n",
    "for hw in hw_list:\n",
    "    std_list=os.listdir(\"./homework/\"+hw)\n",
    "    std_list.remove('index.html')\n",
    "    print(\"==========【\",hw,\"】==========\")\n",
    "    \n",
    "    for std in std_list:\n",
    "        print(\"=====【\",std,\"】=====\")\n",
    "        week_assignments=os.listdir(\"./homework/\"+hw+\"/\"+std+\"/attach\")\n",
    "        \n",
    "        for assignment in week_assignments:\n",
    "            a=re.findall(\"【.+】\",assignment)[0]\n",
    "            print(\"###\",assignment,\"###\")\n",
    "            try:\n",
    "                html=open(\"./homework/\"+hw+\"/\"+std+\"/attach/\"+assignment, encoding=\"utf-8\")\n",
    "                x=html.read()\n",
    "                html.close()\n",
    "                x=BeautifulSoup(x, \"html.parser\")\n",
    "\n",
    "                xx=x.select(\"div#notebook-container\")[0].select(\"div.inner_cell\")\n",
    "                code=\"\"\n",
    "                remark=\"\"\n",
    "                for j in range(len(xx)):\n",
    "                    xx[j]=xx[j].text.replace(\"\\n\\n\", \"\").strip(\"\\n\")\n",
    "                while \"\\n\" in xx:\n",
    "                    xx.remove(\"\\n\")\n",
    "\n",
    "                total=\"\\n\".join(xx).replace(\"'\",'\"')\n",
    "                for j in xx:\n",
    "                    if \"¶\" in j:\n",
    "                        remark+=j+\"\\n\"\n",
    "                    elif re.findall(\"#.*[\\n]?\", j)!=[]:\n",
    "                        remark+=\"\".join(re.findall(\"#.*[\\n]?\", j))+\"\\n\"\n",
    "                        code+=\"\\n\".join(re.split(\"#.*[\\n]?\",j))+\"\\n\"\n",
    "                    else:\n",
    "                        code+=j+\"\\n\"\n",
    "                code=code.replace(\"'\",'\"')\n",
    "\n",
    "                while \"\\n\\n\" in code:\n",
    "                    code=code.replace(\"\\n\\n\", \"\\n\")\n",
    "\n",
    "                remark=remark.replace(\"'\",'\"')\n",
    "\n",
    "                sql='''UPDATE `edm`.`member_class` \n",
    "                SET `NotebookLength_final` = {},`NotebookContent_final` = '{}',\n",
    "                `CodeLength_final` = {},`CodeContent_final` = '{}',\n",
    "                `RemarkLength_final` = {},`RemarkContent_final` = '{}'\n",
    "                WHERE (`Username` = {} and `SectionName` like '%{}%');'''.format(len(total.replace(\"\\n\",\"\")), total, len(code.replace(\"\\n\",\"\")), code, len(remark.replace(\"\\n\",\"\")), remark, int(std[:9]), a )\n",
    "                cursor=conn.cursor()\n",
    "                row=cursor.execute(sql)\n",
    "                conn.commit()\n",
    "                cursor.close()\n",
    "\n",
    "                print(remark)\n",
    "                print(\"===\")\n",
    "                print(code)\n",
    "                print(\"====================\")           \n",
    "            except:\n",
    "                print(\"●【ERROR】●\")"
   ]
  },
  {
   "cell_type": "markdown",
   "metadata": {},
   "source": [
    "#### by file"
   ]
  },
  {
   "cell_type": "code",
   "execution_count": null,
   "metadata": {},
   "outputs": [],
   "source": [
    "std=int(input(\"請輸入學號\"))\n",
    "file=input(\"請輸入檔案路徑\")\n",
    "a=re.findall(\"【.+】\",file)[0]\n",
    "\n",
    "html=open(file, encoding=\"utf-8\")\n",
    "x=html.read()\n",
    "html.close()\n",
    "x=BeautifulSoup(x, \"html.parser\")\n",
    "\n",
    "xx=x.select(\"div#notebook-container\")[0].select(\"div.inner_cell\")\n",
    "code=\"\"\n",
    "remark=\"\"\n",
    "for j in range(len(xx)):\n",
    "    xx[j]=xx[j].text.replace(\"\\n\\n\", \"\").strip(\"\\n\")\n",
    "while \"\\n\" in xx:\n",
    "    xx.remove(\"\\n\")\n",
    "\n",
    "total=\"\\n\".join(xx).replace(\"'\",'\"')\n",
    "for j in xx:\n",
    "    if \"¶\" in j:\n",
    "        remark+=j+\"\\n\"\n",
    "    elif re.findall(\"#.*[\\n]?\", j)!=[]:\n",
    "        remark+=\"\".join(re.findall(\"#.*[\\n]?\", j))+\"\\n\"\n",
    "        code+=\"\\n\".join(re.split(\"#.*[\\n]?\",j))+\"\\n\"\n",
    "    else:\n",
    "        code+=j+\"\\n\"\n",
    "code=code.replace(\"'\",'\"')\n",
    "\n",
    "while \"\\n\\n\" in code:\n",
    "    code=code.replace(\"\\n\\n\", \"\\n\")\n",
    "\n",
    "remark=remark.replace(\"'\",'\"')\n",
    "\n",
    "sql='''UPDATE `edm`.`member_class` \n",
    "SET `NotebookLength_final` = {},`NotebookContent_final` = '{}',\n",
    "`CodeLength_final` = {},`CodeContent_final` = '{}',\n",
    "`RemarkLength_final` = {},`RemarkContent_final` = '{}'\n",
    "WHERE (`Username` = {} and `SectionName` like '%{}%');'''.format(len(total.replace(\"\\n\",\"\")), total, len(code.replace(\"\\n\",\"\")), code, len(remark.replace(\"\\n\",\"\")), remark, std, a )\n",
    "cursor=conn.cursor()\n",
    "row=cursor.execute(sql)\n",
    "conn.commit()\n",
    "cursor.close()\n",
    "\n",
    "print(remark)\n",
    "print(\"===\")\n",
    "print(code)\n",
    "print(\"====================\")           "
   ]
  },
  {
   "cell_type": "code",
   "execution_count": null,
   "metadata": {},
   "outputs": [],
   "source": []
  },
  {
   "cell_type": "markdown",
   "metadata": {},
   "source": [
    "### 更新EditTime_Inclass, BlankTime_Inclass, EditTime_Notinclass, EditDaysCt "
   ]
  },
  {
   "cell_type": "markdown",
   "metadata": {},
   "source": [
    "#### 找出課內/課外操作時間間隔之分佈"
   ]
  },
  {
   "cell_type": "code",
   "execution_count": null,
   "metadata": {},
   "outputs": [],
   "source": [
    "# #課內/課外時間練習操作間距時間差\n",
    "# import matplotlib.pyplot as plt\n",
    "# section=pd.read_excel(\"section.xlsx\")\n",
    "# date=list(set(section[\"Date\"][pd.notnull(section[\"Date\"])]))\n",
    "\n",
    "# cursor=conn.cursor()\n",
    "# cursor.execute(\"select `timestamp`,`Username` from `edm`.`edm_log`;\")\n",
    "# tms=cursor.fetchall()\n",
    "# cursor.close()\n",
    "# tms=list(tms)\n",
    "# io=[]\n",
    "# dt=[]\n",
    "# ur=[]\n",
    "# for i in range(len(tms)):\n",
    "#     day=\"-\".join(tms[i][0].split(\"-\")[:3])\n",
    "#     u=tms[i][1]\n",
    "#     tms[i]=\":\".join(tms[i][0].split(\":\")[:3])\n",
    "#     if day in date and int(tms[i].split(\"-\")[-1][:2])>=9 and int(tms[i].split(\"-\")[-1][:2])<12:        \n",
    "#         io.append(1)\n",
    "#         dt.append(day)\n",
    "#         ur.append(u)\n",
    "#     else:\n",
    "#         io.append(0)\n",
    "#         dt.append(day)\n",
    "#         ur.append(u)\n",
    "    \n",
    "# tms=list(map(lambda t: datetime.strptime(t, \"%Y-%m-%d-%H:%M:%S\"), tms))\n",
    "# t_df=pd.DataFrame({\"time\":tms, \"inclass\":io, \"date\":dt, \"user\": ur})\n",
    "\n",
    "# inclass_td=[]\n",
    "# outclass_td=[]\n",
    "# for d in date:\n",
    "#     print(d)\n",
    "#     t_df2=t_df[t_df[\"date\"]==d]\n",
    "#     users=list(set(t_df2[\"user\"]))\n",
    "#     for user in users:\n",
    "#         t_df3=t_df2[t_df2[\"user\"]==user]\n",
    "#         inclass_tm=list(t_df3[\"time\"][t_df3[\"inclass\"]==1])\n",
    "#         for i in range(1,len(inclass_tm)):\n",
    "#             t=(inclass_tm[i]-inclass_tm[i-1]).seconds\n",
    "#             inclass_td.append(t)\n",
    "# #             if t>1000:\n",
    "# #                 print(inclass_tm[i-1],\"~\",inclass_tm[i],\"==>\",t)\n",
    "#         outclass_tm=list(t_df3[\"time\"][t_df3[\"inclass\"]==0])\n",
    "#         for i in range(1,len(outclass_tm)):\n",
    "#             t=(outclass_tm[i]-outclass_tm[i-1]).seconds\n",
    "#             outclass_td.append(t)\n",
    "# #             if t>1000:\n",
    "# #                 print(outclass_tm[i-1],\"~\",outclass_tm[i],\"==>\",t)"
   ]
  },
  {
   "cell_type": "code",
   "execution_count": null,
   "metadata": {},
   "outputs": [],
   "source": [
    "# inclass_td_sr=pd.Series(inclass_td)\n",
    "# print(inclass_td_sr.describe())\n",
    "# iqr=inclass_td_sr.describe()[\"75%\"]-inclass_td_sr.describe()[\"25%\"]\n",
    "# print(\"===============\")\n",
    "# print(\"IQR=\",iqr)\n",
    "# inclass_uplimit=inclass_td_sr.describe()[\"75%\"]+(1.5*iqr)\n",
    "# print(\"Q3+1.5xIQR=\",inclass_uplimit)\n",
    "\n",
    "# plt.figure(figsize=(16,4))\n",
    "# plt.hist(inclass_td_sr[inclass_td_sr<1000], bins=1000)\n",
    "# plt.show()"
   ]
  },
  {
   "cell_type": "code",
   "execution_count": null,
   "metadata": {},
   "outputs": [],
   "source": [
    "# outclass_td_sr=pd.Series(outclass_td)\n",
    "# print(outclass_td_sr.describe())\n",
    "# iqr=outclass_td_sr.describe()[\"75%\"]-outclass_td_sr.describe()[\"25%\"]\n",
    "# print(\"===============\")\n",
    "# print(\"IQR=\",iqr)\n",
    "# outclass_uplimit=outclass_td_sr.describe()[\"75%\"]+(1.5*iqr)\n",
    "# print(\"Q3+1.5xIQR=\",outclass_uplimit)\n",
    "\n",
    "# plt.figure(figsize=(16,4))\n",
    "# plt.hist(outclass_td_sr[outclass_td_sr<1000], bins=1000)\n",
    "# plt.show()"
   ]
  },
  {
   "cell_type": "markdown",
   "metadata": {},
   "source": [
    "#### 計算EditTime_Inclass, BlankTime_Inclass, EditTime_Notinclass, EditDaysCt\n",
    "- inclass_td Q3+1.5xIQR = 93.0 / inclass_uplimit=300\n",
    "- outclass_td Q3+1.5xIQR = 69.5 / outclass_uplimit=300"
   ]
  },
  {
   "cell_type": "code",
   "execution_count": null,
   "metadata": {
    "scrolled": true
   },
   "outputs": [],
   "source": [
    "inclass_uplimit=300\n",
    "outclass_uplimit=300\n",
    "\n",
    "conn=pymysql.connect(host=\"\", port=3306, user=\"\", passwd=\"\", db=\"\", charset=\"\")\n",
    "\n",
    "\n",
    "from datetime import datetime, timedelta\n",
    "import matplotlib.pyplot as plt\n",
    "\n",
    "section=pd.read_excel(\"section.xlsx\")\n",
    "date=list(set(section[\"Date\"][pd.notnull(section[\"Date\"])]))\n",
    "\n",
    "cursor=conn.cursor()\n",
    "cursor.execute(\"select distinct `Username` from `edm_backup`.`member_class`;\")\n",
    "usrs=cursor.fetchall()\n",
    "cursor.close()\n",
    "usrs=list(usrs)\n",
    "for i in range(len(usrs)):\n",
    "    usrs[i]=usrs[i][0]\n",
    "\n",
    "for usr in usrs:\n",
    "    cursor=conn.cursor()\n",
    "    cursor.execute(\"select distinct `notebookName` from `edm_backup`.`edm_log` where `Username`='{}';\".format(usr))\n",
    "    nbs=cursor.fetchall()\n",
    "    cursor.close()\n",
    "    nbs=list(nbs)\n",
    "    for i in range(len(nbs)):\n",
    "        nbs[i]=nbs[i][0]\n",
    "    for nb in nbs:\n",
    "        cursor=conn.cursor()\n",
    "        cursor.execute(\"select `timestamp` from `edm_backup`.`edm_log` where `Username`='{}' and `notebookName`='{}';\".format(usr,nb))\n",
    "        tms=cursor.fetchall()\n",
    "        cursor.close()\n",
    "        \n",
    "        d=set()  #不重複日期\n",
    "        io=[]  #in class/ not in class\n",
    "        dt=[]\n",
    "        tms=list(tms)\n",
    "        for i in range(len(tms)):\n",
    "            day=\"-\".join(tms[i][0].split(\"-\")[:3])\n",
    "            d.add(day)\n",
    "            tms[i]=\":\".join(tms[i][0].split(\":\")[:3])\n",
    "            if day in date and int(tms[i].split(\"-\")[-1][:2])>=9 and int(tms[i].split(\"-\")[-1][:2])<12:        \n",
    "                io.append(1)\n",
    "                dt.append(day)\n",
    "            else:\n",
    "                io.append(0)\n",
    "                dt.append(day)\n",
    "        tms=list(map(lambda t: datetime.strptime(t, \"%Y-%m-%d-%H:%M:%S\"), tms))\n",
    "        t_df=pd.DataFrame({\"time\":tms, \"inclass\":io, \"date\":dt})        \n",
    "        d=list(d)\n",
    "        \n",
    "        inclass_td=[]\n",
    "        inclass_delay=[]  \n",
    "        for day in list(set(dt)):\n",
    "            t_df2=t_df[t_df[\"date\"]==day]\n",
    "            inclass_tm=list(t_df2[\"time\"][t_df2[\"inclass\"]==1])\n",
    "            for i in range(1,len(inclass_tm)):\n",
    "                t=(inclass_tm[i]-inclass_tm[i-1]).seconds\n",
    "                if t > inclass_uplimit:\n",
    "                    inclass_td.append(inclass_uplimit)\n",
    "                    inclass_delay.append(t-inclass_uplimit)\n",
    "                else:\n",
    "                    inclass_td.append(t)\n",
    "                \n",
    "        outclass_td=[]\n",
    "        for day in list(set(dt)):\n",
    "            t_df2=t_df[t_df[\"date\"]==day]\n",
    "            outclass_tm=list(t_df2[\"time\"][t_df2[\"inclass\"]==0])\n",
    "            for i in range(1,len(outclass_tm)):\n",
    "                t=(outclass_tm[i]-outclass_tm[i-1]).seconds\n",
    "                if t >outclass_uplimit:\n",
    "                    outclass_td.append(outclass_uplimit)\n",
    "                else:\n",
    "                    outclass_td.append(t)\n",
    "        \n",
    "        sql='''\n",
    "        UPDATE `edm_backup`.`member_class` \n",
    "        SET `EditTime_Inclass` = {}, `BlankTime_Inclass` = {}, `EditTime_Notinclass` = {}, `EditDaysCt` = {}\n",
    "        WHERE (`Username` ={} and `SectionName`='{}');\n",
    "        '''.format(sum(inclass_td), sum(inclass_delay), sum(outclass_td), len(d), usr, nb.split(\".ipynb\")[0])\n",
    "        cursor=conn.cursor()\n",
    "        row=cursor.execute(sql)\n",
    "        conn.commit()\n",
    "        cursor.close()\n",
    "        \n",
    "        print(usr)        \n",
    "        print(nb)\n",
    "        print(\"in class time: \",sum(inclass_td))\n",
    "        print(\"in class delay: \",sum(inclass_delay))\n",
    "        print(\"not in class time: \",sum(outclass_td))\n",
    "        print(\"閱讀日數:\", len(d))\n",
    "        print(\"================================\")\n"
   ]
  },
  {
   "cell_type": "code",
   "execution_count": null,
   "metadata": {},
   "outputs": [],
   "source": []
  },
  {
   "cell_type": "markdown",
   "metadata": {},
   "source": [
    "### copy-paste data"
   ]
  },
  {
   "cell_type": "code",
   "execution_count": null,
   "metadata": {
    "scrolled": true
   },
   "outputs": [],
   "source": [
    "conn=pymysql.connect(host=\"\", port=3306, user=\"\", passwd=\"\", db=\"\", charset=\"\")\n",
    "\n",
    "cursor=conn.cursor()\n",
    "cursor.execute(\"select distinct `Username` from `edm_backup`.`member_class`;\")\n",
    "usrs=cursor.fetchall()\n",
    "cursor.close()\n",
    "usrs=list(usrs)\n",
    "for i in range(len(usrs)):\n",
    "    usrs[i]=usrs[i][0]\n",
    "\n",
    "for usr in usrs:\n",
    "    cursor=conn.cursor()\n",
    "    cursor.execute(\"select distinct `notebookName` from `edm_backup`.`edm_log` where `Username`='{}';\".format(usr))\n",
    "    nbs=cursor.fetchall()\n",
    "    cursor.close()\n",
    "    nbs=list(nbs)\n",
    "    for i in range(len(nbs)):\n",
    "        nbs[i]=nbs[i][0]\n",
    "    for nb in nbs:\n",
    "        cursor=conn.cursor()\n",
    "        cursor.execute(\"select `event`, `text`,`cellId`,`CleanCode` from `edm_backup`.`edm_log` where `Username`='{}' and `notebookName`='{}';\".format(usr,nb))\n",
    "        data=cursor.fetchall()\n",
    "        cursor.close()\n",
    "        data=list(data)\n",
    "        event=[]\n",
    "        text=[]\n",
    "        cellId=[]\n",
    "        cleancode=[]\n",
    "        for i in data:\n",
    "            event.append(i[0])\n",
    "            text.append(i[1])\n",
    "            cellId.append(i[2])\n",
    "            cleancode.append(i[3]) \n",
    "        df=pd.DataFrame({\"event\":event, \"text\":text, \"cellId\":cellId, \"cleancode\":cleancode})\n",
    "        \n",
    "        #CopyCt \n",
    "        CopyCt =len(df[df[\"event\"]==\"code_copy\"])\n",
    "        CopyText=\"\".join(list(df[\"text\"][df[\"event\"]==\"code_copy\"]))\n",
    "        CopyTextLength=len(\"\".join(CopyText.split(\"\\n\")))\n",
    "        PasteCt =len(df[df[\"event\"]==\"code_paste\"])\n",
    "        PasteText=\"\".join(list(df[\"text\"][df[\"event\"]==\"code_paste\"]))\n",
    "        PasteTextLength=len(\"\".join(PasteText.split(\"\\n\")))\n",
    "        \n",
    "        df1=df[df[\"event\"]==\"code_paste\"]\n",
    "        #e=list(df1[\"event\"])\n",
    "        #t=list(df1[\"text\"])\n",
    "        copytext=\"\"\n",
    "        ExternalPasteCt=0\n",
    "        ExternalPasteText=\"\"\n",
    "        for i in df1.index:\n",
    "            previouscode=\" \".join(list(df.loc[:i,\"cleancode\"]))\n",
    "            if df1.loc[i,\"text\"] in previouscode:\n",
    "                ExternalPasteCt+=0\n",
    "            elif df1.loc[i,\"text\"] not in previouscode:\n",
    "                ExternalPasteCt+=1\n",
    "                ExternalPasteText+=df1.loc[i,\"text\"]+\"\\n\"\n",
    "        ExternalPasteLength=len(\"\".join(ExternalPasteText.split(\"\\n\")))\n",
    "        ExternalPasteText=ExternalPasteText.replace(\"'\",'\"')\n",
    "        \n",
    "        sql='''UPDATE `edm_backup`.`member_class` \n",
    "        SET `ExternalPasteCt` = {}, `ExternalPasteLength` = {}, `ExternalPasteText` = '{}', `CopyCt` = {}, `CopyTextLength` = {}, `PasteCt` = {}, `PasteTextLength` = {}\n",
    "        WHERE (`Username` ='{}' and `SectionName`='{}');\n",
    "        '''.format(ExternalPasteCt, ExternalPasteLength, ExternalPasteText, CopyCt, CopyTextLength, PasteCt, PasteTextLength, usr, nb.split(\".ipynb\")[0])\n",
    "        cursor=conn.cursor()\n",
    "        row=cursor.execute(sql)\n",
    "        conn.commit()\n",
    "        cursor.close() \n",
    "        \n",
    "        print(usr)        \n",
    "        print(nb)\n",
    "        print(\"CopyCt\", CopyCt)\n",
    "        print(\"CopyTextLength\", CopyTextLength)\n",
    "        print(\"PasteCt\", PasteCt)\n",
    "        print(\"PasteTextLength\", PasteTextLength)\n",
    "        print(\"ExternalPasteCt\", ExternalPasteCt)\n",
    "        print(\"ExternalPasteLength\", ExternalPasteLength)\n",
    "        print(\"ExternalPasteText\", ExternalPasteText)\n",
    "        print(\"================================\")        "
   ]
  },
  {
   "cell_type": "markdown",
   "metadata": {},
   "source": [
    "## calender"
   ]
  },
  {
   "cell_type": "code",
   "execution_count": null,
   "metadata": {},
   "outputs": [],
   "source": [
    "#沒有用\n",
    "\n",
    "# conn=pymysql.connect(host=\"\", port=3306, user=\"\", passwd=\"\", db=\"\", charset=\"\")\n",
    "# for i in range(124):\n",
    "#     x=str(datetime(2020,9,14)+timedelta(i))\n",
    "#     print(x)\n",
    "#     sql='''INSERT INTO `edm`.`calender` (`date`) VALUES ('{}')'''.format(x)\n",
    "#     cursor=conn.cursor()\n",
    "#     row=cursor.execute(sql)\n",
    "#     conn.commit()\n",
    "#     cursor.close()"
   ]
  },
  {
   "cell_type": "markdown",
   "metadata": {},
   "source": [
    "#  Training用data"
   ]
  },
  {
   "cell_type": "markdown",
   "metadata": {},
   "source": [
    "### feature from questionnaire"
   ]
  },
  {
   "cell_type": "code",
   "execution_count": null,
   "metadata": {},
   "outputs": [],
   "source": [
    "qs=pd.read_excel(\"pre-questionnaire.xlsx\",  sheet_name=\"clean (2)\")\n",
    "qs=qs[['id', 'wk_expr','non_py_expr','non_py_prof','py_expr','py_prof']]"
   ]
  },
  {
   "cell_type": "code",
   "execution_count": null,
   "metadata": {},
   "outputs": [],
   "source": [
    "d1={\"Yes\":1, \"No\":0}\n",
    "d2={\"Proficient\":3,\"Good\":2,\"Rough\":1}\n",
    "qs[\"wk_expr\"]=qs[\"wk_expr\"].map(d1)\n",
    "qs[\"non_py_expr\"]=qs[\"non_py_expr\"].map(d1)\n",
    "qs[\"py_expr\"]=qs[\"py_expr\"].map(d1)\n",
    "qs[\"non_py_prof\"]=qs[\"non_py_prof\"].map(d2)\n",
    "qs[\"py_prof\"]=qs[\"py_prof\"].map(d2)\n",
    "qs=qs.fillna(0)"
   ]
  },
  {
   "cell_type": "code",
   "execution_count": null,
   "metadata": {},
   "outputs": [],
   "source": [
    "ptsc=pd.read_excel(\"pre-test_memberscore.xlsx\")\n",
    "#ptsc.columns=ptsc.loc[0,:]\n",
    "#ptsc=ptsc.drop(0, axis=0)"
   ]
  },
  {
   "cell_type": "code",
   "execution_count": null,
   "metadata": {},
   "outputs": [],
   "source": [
    "ptsc=ptsc[[\"帳號\",\"成績\"]].rename(columns={\"帳號\":\"id\",\"成績\":\"pretest_score\"})\n",
    "\n",
    "qs[\"id\"]=qs[\"id\"].astype(\"int32\")\n",
    "ptsc[\"id\"]=ptsc[\"id\"].astype(\"int32\")\n",
    "\n",
    "qs=pd.merge(qs, ptsc, on=\"id\", how=\"left\")"
   ]
  },
  {
   "cell_type": "code",
   "execution_count": null,
   "metadata": {
    "scrolled": true
   },
   "outputs": [],
   "source": [
    "qs"
   ]
  },
  {
   "cell_type": "markdown",
   "metadata": {},
   "source": [
    "### quiz_score"
   ]
  },
  {
   "cell_type": "code",
   "execution_count": null,
   "metadata": {},
   "outputs": [],
   "source": [
    "# quiz1=pd.read_excel(\"quiz06_score.xlsx\", sheet_name=\"Quiz06\")\n",
    "# quiz2=pd.read_excel(\"quiz12_score.xlsx\")"
   ]
  },
  {
   "cell_type": "code",
   "execution_count": null,
   "metadata": {},
   "outputs": [],
   "source": [
    "# quiz=pd.merge(quiz1,quiz2[[\"帳號\",\"成績\"]], on=\"帳號\", how=\"left\").rename(columns={\"帳號\":\"Username\",\"成績\":\"Quiz12\"})"
   ]
  },
  {
   "cell_type": "code",
   "execution_count": null,
   "metadata": {
    "scrolled": true
   },
   "outputs": [],
   "source": [
    "# quiz"
   ]
  },
  {
   "cell_type": "code",
   "execution_count": null,
   "metadata": {
    "scrolled": true
   },
   "outputs": [],
   "source": [
    "# quiz2=pd.read_excel(\"quiz12.xlsx\", sheet_name=\"答題記錄 (2)\")\n",
    "# quiz2.columns=quiz2.loc[1,:]\n",
    "# quiz2=quiz2.drop([0,1], axis=0).reset_index(drop=True)\n",
    "# quiz2[\"帳號\"]=quiz2[\"帳號\"].astype(\"int32\")"
   ]
  },
  {
   "cell_type": "code",
   "execution_count": null,
   "metadata": {
    "scrolled": true
   },
   "outputs": [],
   "source": [
    "# quiz2[\"Quiz12_basic\"]=(quiz2.T[quiz2.T.index==\"basic\"].sum()/10)*100\n",
    "# quiz2[\"Quiz12_library\"]=(quiz2.T[quiz2.T.index==\"library\"].sum()/10)*100"
   ]
  },
  {
   "cell_type": "code",
   "execution_count": null,
   "metadata": {},
   "outputs": [],
   "source": [
    "# quiz=pd.merge(quiz,quiz2.drop([\"basic\",\"library\",\"成績\",\"姓名\"], axis=1).rename(columns={\"帳號\":\"Username\"}),on=\"Username\", how=\"left\")\n",
    "# quiz=quiz.drop(\"姓名\", axis=1)"
   ]
  },
  {
   "cell_type": "code",
   "execution_count": null,
   "metadata": {},
   "outputs": [],
   "source": [
    "# #Quiz06\n",
    "# Quiz06_group=[]\n",
    "# for i in list(quiz[\"Quiz06\"]):\n",
    "#     if i <60:\n",
    "#         Quiz06_group.append(\"C\")\n",
    "#     elif i>=60 and i<80:\n",
    "#         Quiz06_group.append(\"B\")\n",
    "#     elif i>=80:\n",
    "#         Quiz06_group.append(\"A\")\n",
    "# print(len(quiz[quiz[\"Quiz06\"]<60]))\n",
    "# print(len(quiz[(quiz[\"Quiz06\"]>=60)&(quiz[\"Quiz06\"]<80)]))\n",
    "# print(len(quiz[quiz[\"Quiz06\"]>=80]))"
   ]
  },
  {
   "cell_type": "code",
   "execution_count": null,
   "metadata": {},
   "outputs": [],
   "source": [
    "# #Quiz12\n",
    "# Quiz12_group=[]\n",
    "# for i in list(quiz[\"Quiz12\"]):\n",
    "#     if i <60:\n",
    "#         Quiz12_group.append(\"C\")\n",
    "#     elif i>=60 and i<80:\n",
    "#         Quiz12_group.append(\"B\")\n",
    "#     elif i>=80:\n",
    "#         Quiz12_group.append(\"A\")\n",
    "# print(len(quiz[quiz[\"Quiz12\"]<60]))\n",
    "# print(len(quiz[(quiz[\"Quiz12\"]>=60)&(quiz[\"Quiz12\"]<80)]))\n",
    "# print(len(quiz[quiz[\"Quiz12\"]>=80]))"
   ]
  },
  {
   "cell_type": "code",
   "execution_count": null,
   "metadata": {},
   "outputs": [],
   "source": [
    "# #Quiz12_basic\n",
    "# Quiz12basic_group=[]\n",
    "# for i in list(quiz[\"Quiz12_basic\"]):\n",
    "#     if i <60:\n",
    "#         Quiz12basic_group.append(\"C\")\n",
    "#     elif i>=60 and i<80:\n",
    "#         Quiz12basic_group.append(\"B\")\n",
    "#     elif i>=80:\n",
    "#         Quiz12basic_group.append(\"A\")\n",
    "# print(len(quiz[quiz[\"Quiz12_basic\"]<60]))\n",
    "# print(len(quiz[(quiz[\"Quiz12_basic\"]>=60)&(quiz[\"Quiz12_basic\"]<80)]))\n",
    "# print(len(quiz[quiz[\"Quiz12_basic\"]>=80]))"
   ]
  },
  {
   "cell_type": "code",
   "execution_count": null,
   "metadata": {},
   "outputs": [],
   "source": [
    "# #Quiz12_library\n",
    "# Quiz12library_group=[]\n",
    "# for i in list(quiz[\"Quiz12_library\"]):\n",
    "#     if i <60:\n",
    "#         Quiz12library_group.append(\"C\")\n",
    "#     elif i>=60 and i<80:\n",
    "#         Quiz12library_group.append(\"B\")\n",
    "#     elif i>=80:\n",
    "#         Quiz12library_group.append(\"A\")\n",
    "# print(len(quiz[quiz[\"Quiz12_library\"]<60]))\n",
    "# print(len(quiz[(quiz[\"Quiz12_library\"]>=60)&(quiz[\"Quiz12_library\"]<80)]))\n",
    "# print(len(quiz[quiz[\"Quiz12_library\"]>=80]))"
   ]
  },
  {
   "cell_type": "code",
   "execution_count": null,
   "metadata": {},
   "outputs": [],
   "source": [
    "# quiz[\"Quiz06_group\"]=Quiz06_group\n",
    "# quiz[\"Quiz12_group\"]=Quiz12_group\n",
    "# quiz[\"Quiz12basic_group\"]=Quiz12basic_group\n",
    "# quiz[\"Quiz12library_group\"]=Quiz12library_group"
   ]
  },
  {
   "cell_type": "code",
   "execution_count": null,
   "metadata": {},
   "outputs": [],
   "source": [
    "#quiz.to_excel(\"檢驗點成績.xlsx\")\n",
    "quiz=pd.read_excel(\"檢驗點成績.xlsx\")"
   ]
  },
  {
   "cell_type": "code",
   "execution_count": null,
   "metadata": {},
   "outputs": [],
   "source": [
    "quiz.head()"
   ]
  },
  {
   "cell_type": "markdown",
   "metadata": {},
   "source": [
    "### (不使用) final_sore (final部分改用老師給的未調整成績)"
   ]
  },
  {
   "cell_type": "code",
   "execution_count": null,
   "metadata": {},
   "outputs": [],
   "source": [
    "# practice_score=pd.read_excel(\"practice_score.xlsx\")\n",
    "# sc_datathon=practice_score[practice_score[\"SectionName\"]==\"【Pract16】Datathon\"]\n",
    "# sc_datathon=sc_datathon[[\"SectionName\",\"StudentId\",\"accomplish\"]].groupby([\"SectionName\",\"StudentId\"]).sum().reset_index(drop=False)\n",
    "\n",
    "# sc_datathon[\"datathon_ac_score\"]=(sc_datathon[\"accomplish\"]/8)*100\n",
    "# sc_datathon[\"StudentId\"]=sc_datathon[\"StudentId\"].astype(\"int32\")"
   ]
  },
  {
   "cell_type": "code",
   "execution_count": null,
   "metadata": {},
   "outputs": [],
   "source": [
    "# sc_datathon.head()"
   ]
  },
  {
   "cell_type": "code",
   "execution_count": null,
   "metadata": {},
   "outputs": [],
   "source": [
    "# fnsc=pd.read_excel(\"eeclass_score.xlsx\")\n",
    "# fnsc=fnsc[[\"帳號\",\"總成績\"]].rename(columns={\"帳號\":\"Username\",\"總成績\":\"final_score\"})\n",
    "# fnsc=fnsc.drop(32, axis=0)\n",
    "# fnsc[\"Username\"]=fnsc[\"Username\"].astype(\"int32\")"
   ]
  },
  {
   "cell_type": "code",
   "execution_count": null,
   "metadata": {},
   "outputs": [],
   "source": [
    "# fnsc.describe()"
   ]
  },
  {
   "cell_type": "code",
   "execution_count": null,
   "metadata": {},
   "outputs": [],
   "source": [
    "# fnsc.head()"
   ]
  },
  {
   "cell_type": "markdown",
   "metadata": {},
   "source": [
    "### member_week_inclass notebook"
   ]
  },
  {
   "cell_type": "code",
   "execution_count": null,
   "metadata": {},
   "outputs": [],
   "source": [
    "conn=pymysql.connect(host=\"\", port=3306, user=\"\", passwd=\"\", db=\"\", charset=\"\")\n",
    "\n",
    "li=\"Username SectionName SectionNumber Submitted SectionScore CodeLength_final RemarkLength_final EditTime_Inclass EditTime_Notinclass ExternalPasteLength CopyCt PasteCt\".split()\n",
    "sql='''\n",
    "select `{}` from `edm_backup`.`member_class` where `SectionType`='practice' or `SectionType`='lesson';\n",
    "'''.format(\"`,`\".join(li))\n",
    "cursor=conn.cursor()\n",
    "row=cursor.execute(sql)\n",
    "mwp=cursor.fetchall()\n",
    "cursor.close()\n",
    "\n",
    "df=pd.DataFrame()\n",
    "for i in range(len(mwp)):\n",
    "    dfx=pd.DataFrame(list(mwp[i])).T\n",
    "    df=pd.concat([df, dfx], axis=0)\n",
    "df.columns=li"
   ]
  },
  {
   "cell_type": "code",
   "execution_count": null,
   "metadata": {},
   "outputs": [],
   "source": [
    "df[\"No_submitted\"]=pd.isnull(df['Submitted'])\n",
    "df[\"Late_submitted\"]=df['Submitted']==\"遲交\"\n",
    "\n",
    "del df[\"Submitted\"]"
   ]
  },
  {
   "cell_type": "code",
   "execution_count": null,
   "metadata": {},
   "outputs": [],
   "source": [
    "df=df.reset_index(drop=True)"
   ]
  },
  {
   "cell_type": "code",
   "execution_count": null,
   "metadata": {},
   "outputs": [],
   "source": [
    "#ExecutionCt\n",
    "\n",
    "df[\"ExecutionCt\"]=0\n",
    "sns=list(set(df[\"SectionName\"]))\n",
    "uss=list(set(df[\"Username\"]))\n",
    "\n",
    "for sn in sns:\n",
    "    for us in uss:\n",
    "        sql='''\n",
    "        select count(*) from `edm_backup`.`edm_log` where `notebookName`='{}' and `Username`='{}' and `event`='code_execution';\n",
    "        '''.format(sn+\".ipynb\", us)\n",
    "        cursor=conn.cursor()\n",
    "        row=cursor.execute(sql)\n",
    "        c=cursor.fetchall()\n",
    "        cursor.close()\n",
    "        ind=df[(df[\"Username\"]==us)&(df[\"SectionName\"]==sn)].index[0]\n",
    "        df.loc[ind, \"ExecutionCt\"]=c[0][0]"
   ]
  },
  {
   "cell_type": "code",
   "execution_count": null,
   "metadata": {
    "scrolled": true
   },
   "outputs": [],
   "source": [
    "df.head()"
   ]
  },
  {
   "cell_type": "markdown",
   "metadata": {},
   "source": [
    "#### error系列"
   ]
  },
  {
   "cell_type": "code",
   "execution_count": null,
   "metadata": {},
   "outputs": [],
   "source": [
    "conn=pymysql.connect(host=\"\", port=3306, user=\"\", passwd=\"\", db=\"\", charset=\"\")\n",
    "sql='''\n",
    "select * from `edm_backup`.`error`;'''\n",
    "cursor=conn.cursor()\n",
    "rows=cursor.execute(sql)\n",
    "error=cursor.fetchall()\n",
    "cursor.close()\n",
    "li=\"error_id Username NotebookName KernelId CellId ErrorName ErrorValue Timestamp Timespent Trycount Solved WeekNumber SectionNumber\".split()\n",
    "df_error=pd.DataFrame()\n",
    "for i in range(len(error)):\n",
    "    dfx=pd.DataFrame(list(error[i])).T\n",
    "    df_error=pd.concat([df_error, dfx], axis=0)\n",
    "df_error.columns=li"
   ]
  },
  {
   "cell_type": "code",
   "execution_count": null,
   "metadata": {},
   "outputs": [],
   "source": [
    "df_error[\"SectionName\"]=list(map(lambda x: x.split(\".\")[0], list(df_error[\"NotebookName\"])))"
   ]
  },
  {
   "cell_type": "code",
   "execution_count": null,
   "metadata": {
    "scrolled": true
   },
   "outputs": [],
   "source": [
    "df_error.head(10)"
   ]
  },
  {
   "cell_type": "code",
   "execution_count": null,
   "metadata": {},
   "outputs": [],
   "source": [
    "section_list=list(set(df[\"SectionName\"]))\n",
    "\n",
    "df_error[\"InClassSection\"]=list(map(lambda x: 1 if x in section_list else 0, df_error[\"SectionName\"]))\n",
    "df_error_outclass=df_error[df_error[\"InClassSection\"]==0]\n",
    "\n",
    "print(\"error個數：\",len(df_error))\n",
    "print(\"非課內error個數：\",len(df_error_outclass))"
   ]
  },
  {
   "cell_type": "code",
   "execution_count": null,
   "metadata": {},
   "outputs": [],
   "source": [
    "li=\"SyntaxError NameError AttributeError TypeError KeyError ValueError IndentationError IndexError\".split()\n",
    "for i in li:\n",
    "    df[i+\"_Ct\"]=[0]*len(df)\n",
    "    df[i+\"_FailfixCt\"]=[0]*len(df)\n",
    "    df[i+\"_Fixtime\"]=[np.nan]*len(df)\n",
    "#     del df[i+\"_Failfixperc\"]"
   ]
  },
  {
   "cell_type": "code",
   "execution_count": null,
   "metadata": {},
   "outputs": [],
   "source": [
    "df.head(1)"
   ]
  },
  {
   "cell_type": "code",
   "execution_count": null,
   "metadata": {},
   "outputs": [],
   "source": [
    "df_error1=df_error[[\"SectionName\", \"Username\", \"ErrorName\",\"error_id\"]].groupby([\"SectionName\", \"Username\", \"ErrorName\"]).count()\n",
    "df_error1=df_error1.reset_index(drop=False)\n",
    "df_error1.head()"
   ]
  },
  {
   "cell_type": "code",
   "execution_count": null,
   "metadata": {},
   "outputs": [],
   "source": [
    "df_error2=df_error[[\"SectionName\", \"Username\", \"ErrorName\",\"Solved\"]].groupby([\"SectionName\", \"Username\", \"ErrorName\"]).sum()\n",
    "df_error2=df_error2.reset_index(drop=False)\n",
    "df_error2.head()"
   ]
  },
  {
   "cell_type": "code",
   "execution_count": null,
   "metadata": {
    "scrolled": true
   },
   "outputs": [],
   "source": [
    "df_error[\"Timespent\"]=list(map(lambda x: int(x), df_error[\"Timespent\"]))\n",
    "df_error3=df_error[df_error[\"Solved\"]==1]\n",
    "df_error3[\"Timespent\"]=list(map(lambda x: 7200 if x>7200 else x, df_error3[\"Timespent\"]))\n",
    "df_error3=df_error3[[\"SectionName\", \"Username\", \"ErrorName\",\"Timespent\"]].groupby([\"SectionName\", \"Username\", \"ErrorName\"]).mean()\n",
    "df_error3=df_error3.reset_index(drop=False)\n",
    "df_error3.head()"
   ]
  },
  {
   "cell_type": "code",
   "execution_count": null,
   "metadata": {},
   "outputs": [],
   "source": [
    "df_error1=pd.merge(df_error1, df_error2, on=[\"SectionName\",\"Username\",\"ErrorName\"], how=\"left\")\n",
    "df_error1=pd.merge(df_error1, df_error3, on=[\"SectionName\",\"Username\",\"ErrorName\"], how=\"left\")"
   ]
  },
  {
   "cell_type": "code",
   "execution_count": null,
   "metadata": {},
   "outputs": [],
   "source": [
    "# df_error1[\"failfixperc\"]=1-(df_error1[\"Solved\"]/df_error1[\"error_id\"])\n",
    "df_error1[\"failfixct\"]=df_error1[\"error_id\"]-df_error1[\"Solved\"]"
   ]
  },
  {
   "cell_type": "code",
   "execution_count": null,
   "metadata": {
    "scrolled": true
   },
   "outputs": [],
   "source": [
    "df_error1.head(30)"
   ]
  },
  {
   "cell_type": "code",
   "execution_count": null,
   "metadata": {},
   "outputs": [],
   "source": [
    "# sns=list(set(df[\"SectionName\"]))\n",
    "# uss=list(set(df[\"Username\"]))\n",
    "\n",
    "for er in li:\n",
    "    print(\"==============\"+er+\"===============\")\n",
    "    dfx=df_error1[df_error1[\"ErrorName\"]==er]\n",
    "    print(len(dfx))\n",
    "    for sn in sns:\n",
    "        print(\"==\"+sn+\"==\")\n",
    "        for us in uss:\n",
    "            dfx1=dfx[(dfx[\"SectionName\"]==sn)&(dfx[\"Username\"]==str(us))]\n",
    "            if len(dfx1)!=0:\n",
    "                ct=int(dfx1.loc[:,\"error_id\"])\n",
    "                fp=float(dfx1.loc[:,\"failfixct\"])\n",
    "                ts=float(dfx1.loc[:,\"Timespent\"])\n",
    "                ind=df[(df[\"SectionName\"]==sn)&(df[\"Username\"]==us)].index[0]\n",
    "                df.loc[ind, er+\"_Ct\"]=ct\n",
    "                df.loc[ind, er+\"_FailfixCt\"]=fp\n",
    "                df.loc[ind, er+\"_Fixtime\"]=ts\n",
    "                print(str(us)+\"-->\"+str(ct)+\", \"+str(fp)+\", \"+str(ts))"
   ]
  },
  {
   "cell_type": "code",
   "execution_count": null,
   "metadata": {},
   "outputs": [],
   "source": [
    "df_error4=df_error[df_error[\"Solved\"]==1]\n",
    "df_error4[\"Timespent\"]=list(map(lambda x: 7200 if x>7200 else x, df_error4[\"Timespent\"]))\n",
    "df_error4=df_error4[[\"SectionName\", \"Username\", \"Timespent\"]].groupby([\"SectionName\", \"Username\"]).sum()\n",
    "df_error4=df_error4.reset_index(drop=False)\n",
    "df_error4=df_error4.rename(columns={\"Timespent\":\"DebugTime\"})\n",
    "df_error4.head()"
   ]
  },
  {
   "cell_type": "code",
   "execution_count": null,
   "metadata": {},
   "outputs": [],
   "source": [
    "df=pd.merge(df, df_error4, on=[\"SectionName\",\"Username\"], how=\"left\")"
   ]
  },
  {
   "cell_type": "code",
   "execution_count": null,
   "metadata": {
    "scrolled": true
   },
   "outputs": [],
   "source": [
    "df.head(50)"
   ]
  },
  {
   "cell_type": "markdown",
   "metadata": {},
   "source": [
    "#### (不使用) pattern系列_from log "
   ]
  },
  {
   "cell_type": "code",
   "execution_count": null,
   "metadata": {},
   "outputs": [],
   "source": [
    "# import re\n",
    "# from tqdm import tqdm"
   ]
  },
  {
   "cell_type": "code",
   "execution_count": null,
   "metadata": {},
   "outputs": [],
   "source": [
    "# conn=pymysql.connect(host=\"\", port=3306, user=\"\", passwd=\"\", db=\"\", charset=\"\")\n",
    "\n",
    "# sql='''select `log_id`,`Username`,`notebookName`,`CleanCode` from `edm_backup`.`edm_log`;'''\n",
    "# cursor=conn.cursor()\n",
    "# row=cursor.execute(sql)\n",
    "# lg=cursor.fetchall()\n",
    "# cursor.close()"
   ]
  },
  {
   "cell_type": "code",
   "execution_count": null,
   "metadata": {},
   "outputs": [],
   "source": [
    "# Log_id=[]\n",
    "# Username=[]\n",
    "# NotebookName=[]\n",
    "# CleanCode=[]\n",
    "# for i in range(len(lg)):\n",
    "#     Log_id.append(lg[i][0])\n",
    "#     Username.append(lg[i][1])\n",
    "#     NotebookName.append(lg[i][2])\n",
    "#     CleanCode.append(lg[i][3])\n",
    "\n",
    "# df_logcd=pd.DataFrame({\"Log_id\":Log_id,\"Username\":Username,\"NotebookName\":NotebookName,\"CleanCode\":CleanCode})"
   ]
  },
  {
   "cell_type": "code",
   "execution_count": null,
   "metadata": {
    "scrolled": true
   },
   "outputs": [],
   "source": [
    "# df_logcd[\"CleanCode\"]=df_logcd[\"CleanCode\"].fillna(\"\")\n",
    "# df_logcd.head(30)"
   ]
  },
  {
   "cell_type": "code",
   "execution_count": null,
   "metadata": {
    "scrolled": true
   },
   "outputs": [],
   "source": [
    "# pattern_SimpleCondition_logct=[]\n",
    "# pattern_MultipleCondition_logct=[]\n",
    "# pattern_WhileIteration_logct=[]\n",
    "# pattern_ForInIteration_logct=[]\n",
    "# pattern_NestIteration_logct=[]\n",
    "# pattern_DefFunction_logct=[]\n",
    "\n",
    "# print(\"total:\", len(df_logcd))\n",
    "# for xxx in range(len(df_logcd)):\n",
    "#     print(xxx)\n",
    "#     x=list(df_logcd[\"CleanCode\"])[xxx]\n",
    "#     #MultipleCondition\n",
    "#     target=copy.deepcopy(x)\n",
    "#     mc=0\n",
    "#     for i in list(reversed(range(6))):\n",
    "#         #print(\"========\"+str(i)+\"========\")\n",
    "#         c=\"[ ]{%d}if.*:.*\\n([ ]{%d}.*\\n)+?([ ]{%d}elif.*:.*\\n)+?([ ]{%d}.*)([ ]{%d}else:.*\\n)+?([ ]{%d}.*)\"%(4*i, 4*i+4,4*i, 4*i+4,4*i, 4*i+4)\n",
    "#         c1=\"[ ]{%d}if.*:.*\\n([ ]{%d}.*\\n)+?([ ]{%d}elif.*:.*\\n)+?([ ]{%d}.*)\"%(4*i, 4*i+4,4*i, 4*i+4)\n",
    "#         c2=\"[ ]{%d}if.*:.*\\n([ ]{%d}.*\\n)+?([ ]{%d}else:.*\\n)+?([ ]{%d}.*)\"%(4*i, 4*i+4,4*i, 4*i+4)\n",
    "#         for j in re.finditer(c,target):\n",
    "#             target=target.replace(j.group(),\"\")\n",
    "#             mc+=1\n",
    "#         for j in re.finditer(c1,target):\n",
    "#             target=target.replace(j.group(),\"\")\n",
    "#             mc+=1\n",
    "#         for j in re.finditer(c2,target):\n",
    "#             target=target.replace(j.group(),\"\")\n",
    "#             mc+=1\n",
    "            \n",
    "#     #SimpleCondition\n",
    "#     c=\"if .+:.*\\n\"\n",
    "#     sc=len(list(re.finditer(c,target)))\n",
    "\n",
    "#     #WhileIteration\n",
    "#     c=\"while .+:.*\\n\"\n",
    "#     wi=len(list(re.finditer(c,x)))\n",
    "\n",
    "#     #ForInIteration\n",
    "#     c=\"for .+ in .+:.*\\n\"\n",
    "#     fi=len(list(re.finditer(c,x)))\n",
    "\n",
    "#     #NestIteration\n",
    "#     ni=0\n",
    "#     for i in range(6):\n",
    "#         #print(\"=======\"+str(i)+\"=======\")\n",
    "#         c=\"[ ]{%d}((while .+:)|(for .+ in .+:)|(if .+:)).*\\n([ ]{%d}.*\\n)+\"%(4*i, 4*i+4)\n",
    "#         for j in re.finditer(c,x):\n",
    "#             x1=j.group().replace(\"\\n\"+\" \"*(4*i), \"\\n\").strip()\n",
    "#             c1=\"((while .+:)|(for .+ in .+:|(if .+:))).*\\n([ ]{4}.*\\n)\"\n",
    "#             ni+=len(list(re.finditer(c1,x1)))\n",
    "                \n",
    "#     #DefFunction\n",
    "#     c=\"def .+\\(.*\\):\"\n",
    "#     fc=len(list(re.finditer(c,x)))\n",
    "    \n",
    "#     pattern_SimpleCondition_logct.append(sc)\n",
    "#     pattern_MultipleCondition_logct.append(mc)\n",
    "#     pattern_WhileIteration_logct.append(wi)\n",
    "#     pattern_ForInIteration_logct.append(fi)\n",
    "#     pattern_NestIteration_logct.append(ni)\n",
    "#     pattern_DefFunction_logct.append(fc)"
   ]
  },
  {
   "cell_type": "code",
   "execution_count": null,
   "metadata": {},
   "outputs": [],
   "source": [
    "# df_logcd[\"pattern_SimpleCondition_logct\"]=pattern_SimpleCondition_logct\n",
    "# df_logcd[\"pattern_MultipleCondition_logct\"]=pattern_MultipleCondition_logct\n",
    "# df_logcd[\"pattern_WhileIteration_logct\"]=pattern_WhileIteration_logct\n",
    "# df_logcd[\"pattern_ForInIteration_logct\"]=pattern_ForInIteration_logct\n",
    "# df_logcd[\"pattern_NestIteration_logct\"]=pattern_NestIteration_logct\n",
    "# df_logcd[\"pattern_DefFunction_logct\"]=pattern_DefFunction_logct"
   ]
  },
  {
   "cell_type": "code",
   "execution_count": null,
   "metadata": {
    "scrolled": true
   },
   "outputs": [],
   "source": [
    "# df_logcd.head(30)"
   ]
  },
  {
   "cell_type": "code",
   "execution_count": null,
   "metadata": {},
   "outputs": [],
   "source": [
    "# df_logcd[\"SectionName\"]=list(map(lambda x: x.split(\".\")[0], df_logcd[\"NotebookName\"]))\n",
    "# df_logcd1=df_logcd.groupby([\"Username\",\"SectionName\"]).sum().reset_index(drop=False)\n",
    "# del df_logcd1[\"Log_id\"]"
   ]
  },
  {
   "cell_type": "code",
   "execution_count": null,
   "metadata": {},
   "outputs": [],
   "source": [
    "# df[\"Username\"]=list(map(lambda x: str(x), df[\"Username\"]))\n",
    "# df=pd.merge(df, df_logcd1, on=[\"Username\",\"SectionName\"], how=\"left\")"
   ]
  },
  {
   "cell_type": "code",
   "execution_count": null,
   "metadata": {
    "scrolled": true
   },
   "outputs": [],
   "source": [
    "# df.head(100)"
   ]
  },
  {
   "cell_type": "markdown",
   "metadata": {},
   "source": [
    "#### pattern系列_from notebook"
   ]
  },
  {
   "cell_type": "code",
   "execution_count": null,
   "metadata": {},
   "outputs": [],
   "source": [
    "import re\n",
    "from tqdm import tqdm"
   ]
  },
  {
   "cell_type": "code",
   "execution_count": null,
   "metadata": {},
   "outputs": [],
   "source": [
    "#conn=pymysql.connect(host=\"\", port=3306, user=\"\", passwd=\"\", db=\"\", charset=\"\")\n",
    "conn=pymysql.connect(host=\"\", port=3306, user=\"\", passwd=\"\", db=\"\", charset=\"\")\n",
    "\n",
    "sql='''select `Username`,`SectionName`,`CodeContent_final` from `edm_backup`.`member_class` where SectionType='practice' or SectionType='lesson';'''\n",
    "cursor=conn.cursor()\n",
    "row=cursor.execute(sql)\n",
    "cc=cursor.fetchall()\n",
    "cursor.close()\n",
    "\n",
    "Username=[]\n",
    "SectionName=[]\n",
    "CodeContent_final=[]\n",
    "for i in range(len(cc)):\n",
    "    Username.append(cc[i][0])\n",
    "    SectionName.append(cc[i][1])\n",
    "    CodeContent_final.append(cc[i][2])\n",
    "\n",
    "df_sc=pd.DataFrame({\"Username\":Username,\"SectionName\":SectionName,\"CodeContent_final\":CodeContent_final})"
   ]
  },
  {
   "cell_type": "code",
   "execution_count": null,
   "metadata": {},
   "outputs": [],
   "source": [
    "df_sc[\"CodeContent_final\"]=df_sc[\"CodeContent_final\"].fillna(\"\")\n",
    "df_sc.head()"
   ]
  },
  {
   "cell_type": "code",
   "execution_count": null,
   "metadata": {},
   "outputs": [],
   "source": [
    "#df_sc.loc[98,\"CodeContent_final\"]"
   ]
  },
  {
   "cell_type": "code",
   "execution_count": null,
   "metadata": {},
   "outputs": [],
   "source": [
    "pattern_SimpleCondition_nbct=[]\n",
    "pattern_MultipleCondition_nbct=[]\n",
    "pattern_WhileIteration_nbct=[]\n",
    "pattern_ForInIteration_nbct=[]\n",
    "pattern_NestIteration_nbct=[]\n",
    "pattern_DefFunction_nbct=[]\n",
    "\n",
    "print(\"total:\", len(df_sc))\n",
    "for xxx in range(len(df_sc)):\n",
    "    print(xxx)\n",
    "    x=list(df_sc[\"CodeContent_final\"])[xxx]\n",
    "    \n",
    "    #MultipleCondition\n",
    "    target=copy.deepcopy(x)\n",
    "    mc=0\n",
    "    for i in list(reversed(range(6))):\n",
    "        #print(\"========\"+str(i)+\"========\")\n",
    "        c=\"[ ]{%d}if.*:.*\\n([ ]{%d}.*\\n)+?([ ]{%d}elif.*:.*\\n)+?([ ]{%d}.*)([ ]{%d}else:.*\\n)+?([ ]{%d}.*)\"%(4*i, 4*i+4,4*i, 4*i+4,4*i, 4*i+4)\n",
    "        c1=\"[ ]{%d}if.*:.*\\n([ ]{%d}.*\\n)+?([ ]{%d}elif.*:.*\\n)+?([ ]{%d}.*)\"%(4*i, 4*i+4,4*i, 4*i+4)\n",
    "        c2=\"[ ]{%d}if.*:.*\\n([ ]{%d}.*\\n)+?([ ]{%d}else:.*\\n)+?([ ]{%d}.*)\"%(4*i, 4*i+4,4*i, 4*i+4)\n",
    "        for j in re.finditer(c,target):\n",
    "            target=target.replace(j.group(),\"\")\n",
    "            mc+=1\n",
    "        for j in re.finditer(c1,target):\n",
    "            target=target.replace(j.group(),\"\")\n",
    "            mc+=1\n",
    "        for j in re.finditer(c2,target):\n",
    "            target=target.replace(j.group(),\"\")\n",
    "            mc+=1\n",
    "            \n",
    "    #SimpleCondition\n",
    "    c=\"if .+:.*\\n\"\n",
    "    sc=len(list(re.finditer(c,target)))\n",
    "\n",
    "    #WhileIteration\n",
    "    c=\"while .+:.*\\n\"\n",
    "    wi=len(list(re.finditer(c,x)))\n",
    "\n",
    "    #ForInIteration\n",
    "    c=\"for .+ in .+:.*\\n\"\n",
    "    fi=len(list(re.finditer(c,x)))\n",
    "\n",
    "    #NestIteration\n",
    "    ni=0\n",
    "    for i in range(6):\n",
    "        #print(\"=======\"+str(i)+\"=======\")\n",
    "        c=\"[ ]{%d}((while .+:)|(for .+ in .+:)|(if .+:)).*\\n([ ]{%d}.*\\n)+\"%(4*i, 4*i+4)\n",
    "        for j in re.finditer(c,x):\n",
    "            x1=j.group().replace(\"\\n\"+\" \"*(4*i), \"\\n\").strip()\n",
    "            c1=\"((while .+:)|(for .+ in .+:|(if .+:))).*\\n([ ]{4}.*\\n)\"\n",
    "            ni+=len(list(re.finditer(c1,x1)))\n",
    "                \n",
    "    #DefFunction\n",
    "    c=\"def .+\\(.*\\):\"\n",
    "    fc=len(list(re.finditer(c,x)))\n",
    "    \n",
    "    pattern_SimpleCondition_nbct.append(sc)\n",
    "    pattern_MultipleCondition_nbct.append(mc)\n",
    "    pattern_WhileIteration_nbct.append(wi)\n",
    "    pattern_ForInIteration_nbct.append(fi)\n",
    "    pattern_NestIteration_nbct.append(ni)\n",
    "    pattern_DefFunction_nbct.append(fc)"
   ]
  },
  {
   "cell_type": "code",
   "execution_count": null,
   "metadata": {},
   "outputs": [],
   "source": [
    "df_sc[\"pattern_SimpleCondition_nbct\"]=pattern_SimpleCondition_nbct\n",
    "df_sc[\"pattern_MultipleCondition_nbct\"]=pattern_MultipleCondition_nbct\n",
    "df_sc[\"pattern_WhileIteration_nbct\"]=pattern_WhileIteration_nbct\n",
    "df_sc[\"pattern_ForInIteration_nbct\"]=pattern_ForInIteration_nbct\n",
    "df_sc[\"pattern_NestIteration_nbct\"]=pattern_NestIteration_nbct\n",
    "df_sc[\"pattern_DefFunction_nbct\"]=pattern_DefFunction_nbct"
   ]
  },
  {
   "cell_type": "code",
   "execution_count": null,
   "metadata": {},
   "outputs": [],
   "source": [
    "df_sc[\"Username\"]=list(map(lambda x: str(x), df_sc[\"Username\"]))\n",
    "df[\"Username\"]=list(map(lambda x: str(x), df[\"Username\"]))"
   ]
  },
  {
   "cell_type": "code",
   "execution_count": null,
   "metadata": {},
   "outputs": [],
   "source": [
    "df=pd.merge(df, df_sc, on=[\"Username\",\"SectionName\"], how=\"left\")\n",
    "del df[\"CodeContent_final\"]"
   ]
  },
  {
   "cell_type": "code",
   "execution_count": null,
   "metadata": {
    "scrolled": true
   },
   "outputs": [],
   "source": [
    "df.head()"
   ]
  },
  {
   "cell_type": "markdown",
   "metadata": {},
   "source": [
    "#### (不使用) modulemethod系列_from log"
   ]
  },
  {
   "cell_type": "code",
   "execution_count": null,
   "metadata": {},
   "outputs": [],
   "source": [
    "# df_logcd=df_logcd[[\"Log_id\",\"Username\",\"NotebookName\",\"CleanCode\"]]\n",
    "# df_logcd.head()"
   ]
  },
  {
   "cell_type": "code",
   "execution_count": null,
   "metadata": {},
   "outputs": [],
   "source": [
    "# Username=[]\n",
    "# NotebookName=[]\n",
    "# Codemix=[]\n",
    "# for usr in list(set(df_logcd[\"Username\"])):\n",
    "#     df_logcdx=df_logcd[df_logcd[\"Username\"]==usr]\n",
    "#     for nb in list(set(df_logcdx[\"NotebookName\"])):\n",
    "#         df_logcdxx=df_logcdx[df_logcdx[\"NotebookName\"]==nb]\n",
    "#         cdmix=\"\\n\".join(list(df_logcdxx[\"CleanCode\"]))\n",
    "#         Username.append(usr)\n",
    "#         NotebookName.append(nb)\n",
    "#         Codemix.append(cdmix)\n",
    "# df_cdmix=pd.DataFrame({\"Username\":Username,\"NotebookName\":NotebookName,\"Codemix\":Codemix})"
   ]
  },
  {
   "cell_type": "code",
   "execution_count": null,
   "metadata": {},
   "outputs": [],
   "source": [
    "# Module=[]\n",
    "# Module_ct=[]\n",
    "# for cd in Codemix:\n",
    "#     m=[]\n",
    "\n",
    "#     r=\"import .+ as .+\"\n",
    "#     r1=\"import .+\"\n",
    "#     for i in re.finditer(r,cd):\n",
    "#         mm=i.group().replace(\"import \",\"\").split(\" as \")[0].split(\".\")[0]\n",
    "#         if mm not in m:\n",
    "#             m.append(mm)\n",
    "#         cd=cd.replace(i.group(),\"\")\n",
    "#     for i in re.finditer(r1,cd):\n",
    "#         mm=i.group().replace(\"import \",\"\")\n",
    "#         if \",\" in mm:\n",
    "#             mm=list(map(lambda x : x.strip(), mm.split(\",\")))\n",
    "#             for mmx in mm:\n",
    "#                 if mmx not in m:\n",
    "#                     m.append(mmx.split(\".\")[0])\n",
    "#         else:\n",
    "#             if mm not in m:\n",
    "#                 m.append(mm.split(\".\")[0].strip())\n",
    "#         m=list(set(m))\n",
    "#     Module_ct.append(len(m))\n",
    "#     Module.append(\" \".join(m))"
   ]
  },
  {
   "cell_type": "code",
   "execution_count": null,
   "metadata": {},
   "outputs": [],
   "source": [
    "# df_cdmix[\"Module_ct\"]=Module_ct\n",
    "# df_cdmix[\"Module\"]=Module"
   ]
  },
  {
   "cell_type": "code",
   "execution_count": null,
   "metadata": {
    "scrolled": true
   },
   "outputs": [],
   "source": [
    "# df_cdmix[\"SectionName\"]=list(map(lambda x: x.split(\".\")[0], df_cdmix[\"NotebookName\"]))"
   ]
  },
  {
   "cell_type": "code",
   "execution_count": null,
   "metadata": {},
   "outputs": [],
   "source": [
    "# df=pd.merge(df, df_cdmix[[\"Username\",\"SectionName\",\"Module_ct\",\"Module\"]], \n",
    "#             on=[\"Username\",\"SectionName\"], how=\"left\")"
   ]
  },
  {
   "cell_type": "code",
   "execution_count": null,
   "metadata": {},
   "outputs": [],
   "source": [
    "# modulemethod=[]\n",
    "# modulemethod.extend(dir(np.array([1,2,3])))\n",
    "# modulemethod.extend(dir(pd.DataFrame()))\n",
    "# modulemethod.extend(dir(pd.Series()))\n",
    "# modulemethod=list(set(modulemethod))"
   ]
  },
  {
   "cell_type": "code",
   "execution_count": null,
   "metadata": {},
   "outputs": [],
   "source": [
    "# len(modulemethod)"
   ]
  },
  {
   "cell_type": "code",
   "execution_count": null,
   "metadata": {
    "scrolled": true
   },
   "outputs": [],
   "source": [
    "# set(dir(np.array([1,2,3]))) & set(dir(pd.DataFrame()))"
   ]
  },
  {
   "cell_type": "code",
   "execution_count": null,
   "metadata": {
    "scrolled": true
   },
   "outputs": [],
   "source": [
    "# #不同套件中objects的方法會有重複，考量同名方法的功能差異不大，在此視為同一種方法。\n",
    "# modulemethod_ct=[]\n",
    "# modulemethod_log_usect=[]\n",
    "# modulemethod_log_use=[]\n",
    "\n",
    "# for cd in Codemix:\n",
    "#     mc=0\n",
    "#     mluc=0\n",
    "#     mlu=\"\"\n",
    "\n",
    "#     for mth in dir(np):\n",
    "#         if len(list(re.finditer(\"np\\.\"+mth,cd)))!=0:\n",
    "#             mc+=1\n",
    "#             mlu+=list(re.finditer(\"np\\.\"+mth,cd))[0].group()+\" \"\n",
    "#             mluc+=len(list(re.finditer(\"np\\.\"+mth, cd)))\n",
    "#     for mth in dir(pd):\n",
    "#         if len(list(re.finditer(\"pd\\.\"+mth,cd)))!=0:\n",
    "#             mc+=1\n",
    "#             mlu+=list(re.finditer(\"pd\\.\"+mth,cd))[0].group()+\" \"\n",
    "#             mluc+=len(list(re.finditer(\"pd\\.\"+mth,cd)))\n",
    "#     for mth in dir(plt):\n",
    "#         if len(list(re.finditer(\"((plt)|(pt))\\.\"+mth,cd)))!=0:\n",
    "#             mc+=1\n",
    "#             mlu+=list(re.finditer(\"((plt)|(pt))\\.\"+mth,cd))[0].group()+\" \"\n",
    "#             mluc+=len(list(re.finditer(\"((plt)|(pt))\\.\"+mth,cd)))\n",
    "#     for mth in modulemethod:\n",
    "#         if len(list(re.finditer(\"\\.\"+mth,cd)))!=0:\n",
    "#             mc+=1\n",
    "#             mlu+=list(re.finditer(\"\\.\"+mth,cd))[0].group()+\" \"\n",
    "#             mluc+=len(list(re.finditer(\"\\.\"+mth,cd)))\n",
    "#     modulemethod_ct.append(mc)\n",
    "#     modulemethod_log_usect.append(mluc)\n",
    "#     modulemethod_log_use.append(mlu)"
   ]
  },
  {
   "cell_type": "code",
   "execution_count": null,
   "metadata": {},
   "outputs": [],
   "source": [
    "# df_cdmix[\"modulemethod_ct\"]=modulemethod_ct\n",
    "# df_cdmix[\"modulemethod_log_usect\"]=modulemethod_log_usect\n",
    "# df_cdmix[\"modulemethod_log_use\"]=modulemethod_log_use"
   ]
  },
  {
   "cell_type": "code",
   "execution_count": null,
   "metadata": {
    "scrolled": true
   },
   "outputs": [],
   "source": [
    "# df_cdmix"
   ]
  },
  {
   "cell_type": "code",
   "execution_count": null,
   "metadata": {},
   "outputs": [],
   "source": [
    "# df=pd.merge(df, df_cdmix[[\"Username\",\"SectionName\",\"modulemethod_ct\",\"modulemethod_log_usect\",\"modulemethod_log_use\"]], \n",
    "#             on=[\"Username\",\"SectionName\"], how=\"left\")"
   ]
  },
  {
   "cell_type": "markdown",
   "metadata": {},
   "source": [
    "#### modulemethod系列_from notebook"
   ]
  },
  {
   "cell_type": "code",
   "execution_count": null,
   "metadata": {},
   "outputs": [],
   "source": [
    "modulemethod=[]\n",
    "modulemethod.extend(dir(np.array([1,2,3])))\n",
    "modulemethod.extend(dir(pd.DataFrame()))\n",
    "modulemethod.extend(dir(pd.Series()))\n",
    "modulemethod=list(set(modulemethod))"
   ]
  },
  {
   "cell_type": "code",
   "execution_count": null,
   "metadata": {},
   "outputs": [],
   "source": [
    "len(modulemethod)"
   ]
  },
  {
   "cell_type": "code",
   "execution_count": null,
   "metadata": {},
   "outputs": [],
   "source": [
    "Module=[]\n",
    "Module_ct=[]\n",
    "modulemethod_ct=[]\n",
    "modulemethod_nb_use=[]\n",
    "modulemethod_nb_usect=[]\n",
    "\n",
    "\n",
    "for cd in list(df_sc[\"CodeContent_final\"]):\n",
    "    mnuc=0\n",
    "    mnu=\"\"\n",
    "\n",
    "    for mth in dir(np):\n",
    "        if len(list(re.finditer(\"np\\.\"+mth,cd)))!=0:\n",
    "            mnu+=list(re.finditer(\"np\\.\"+mth,cd))[0].group()+\" \"\n",
    "            mnuc+=len(list(re.finditer(\"np\\.\"+mth, cd)))\n",
    "    for mth in dir(pd):\n",
    "        if len(list(re.finditer(\"pd\\.\"+mth,cd)))!=0:\n",
    "            mnu+=list(re.finditer(\"pd\\.\"+mth,cd))[0].group()+\" \"\n",
    "            mnuc+=len(list(re.finditer(\"pd\\.\"+mth,cd)))\n",
    "    for mth in dir(plt):\n",
    "        if len(list(re.finditer(\"((plt)|(pt))\\.\"+mth,cd)))!=0:\n",
    "            mnu+=list(re.finditer(\"((plt)|(pt))\\.\"+mth,cd))[0].group()+\" \"\n",
    "            mnuc+=len(list(re.finditer(\"((plt)|(pt))\\.\"+mth,cd)))\n",
    "    for mth in modulemethod:\n",
    "        if len(list(re.finditer(\"\\.\"+mth,cd)))!=0:\n",
    "            mnu+=list(re.finditer(\"\\.\"+mth,cd))[0].group()+\" \"\n",
    "            mnuc+=len(list(re.finditer(\"\\.\"+mth,cd)))\n",
    "    \n",
    "    modulemethod_ct.append(len(mnu.split()))\n",
    "    modulemethod_nb_usect.append(mnuc)\n",
    "    modulemethod_nb_use.append(mnu)\n",
    "    \n",
    "    m=[]\n",
    "    r=\"import .+ as .+\"\n",
    "    r1=\"import .+\"\n",
    "    for i in re.finditer(r,cd):\n",
    "        mm=i.group().replace(\"import \",\"\").split(\" as \")[0].split(\".\")[0]\n",
    "        if mm not in m:\n",
    "            m.append(mm)\n",
    "        cd=cd.replace(i.group(),\"\")\n",
    "    for i in re.finditer(r1,cd):\n",
    "        mm=i.group().replace(\"import \",\"\")\n",
    "        if \",\" in mm:\n",
    "            mm=list(map(lambda x : x.strip(), mm.split(\",\")))\n",
    "            for mmx in mm:\n",
    "                if mmx not in m:\n",
    "                    m.append(mmx.split(\".\")[0])\n",
    "        else:\n",
    "            if mm not in m:\n",
    "                m.append(mm.split(\".\")[0].strip())\n",
    "        m=list(set(m))\n",
    "    Module_ct.append(len(m))\n",
    "    Module.append(\" \".join(m))"
   ]
  },
  {
   "cell_type": "code",
   "execution_count": null,
   "metadata": {},
   "outputs": [],
   "source": [
    "df_sc[\"modulemethod_nb_usect\"]=modulemethod_nb_usect\n",
    "df_sc[\"modulemethod_nb_use\"]=modulemethod_nb_use\n",
    "df_sc[\"modulemethod_ct\"]=modulemethod_ct\n",
    "df_sc[\"Module_ct\"]=Module_ct\n",
    "df_sc[\"Module\"]=Module"
   ]
  },
  {
   "cell_type": "code",
   "execution_count": null,
   "metadata": {
    "scrolled": true
   },
   "outputs": [],
   "source": [
    "df=pd.merge(df, df_sc[[\"Username\",\"SectionName\",\n",
    "                       \"modulemethod_nb_usect\",\"modulemethod_nb_use\",\"modulemethod_ct\",\n",
    "                      \"Module_ct\",\"Module\"]], on=[\"Username\",\"SectionName\"], how=\"left\")"
   ]
  },
  {
   "cell_type": "code",
   "execution_count": null,
   "metadata": {
    "scrolled": true
   },
   "outputs": [],
   "source": [
    "list(df.columns)"
   ]
  },
  {
   "cell_type": "markdown",
   "metadata": {},
   "source": [
    "#### (不使用) basicmethod系列_from log"
   ]
  },
  {
   "cell_type": "code",
   "execution_count": null,
   "metadata": {},
   "outputs": [],
   "source": [
    "# #str(), int(), float(), list(), tuple(), dict(), set()\n",
    "# basicmethod=[]\n",
    "# basicmethod.extend(dir(str()))\n",
    "# basicmethod.extend(dir(int()))\n",
    "# basicmethod.extend(dir(float()))\n",
    "# basicmethod.extend(dir(list()))\n",
    "# basicmethod.extend(dir(tuple()))\n",
    "# basicmethod.extend(dir(dict()))\n",
    "# basicmethod.extend(dir(set()))\n",
    "# basicmethod=list(set(basicmethod))"
   ]
  },
  {
   "cell_type": "code",
   "execution_count": null,
   "metadata": {},
   "outputs": [],
   "source": [
    "# basicmethod"
   ]
  },
  {
   "cell_type": "code",
   "execution_count": null,
   "metadata": {},
   "outputs": [],
   "source": [
    "# basicmethod_ct=[]\n",
    "# basicmethod_log_usect=[]\n",
    "# basicmethod_log_use=[]\n",
    "\n",
    "# for cd in Codemix:\n",
    "#     mc=0\n",
    "#     mluc=0\n",
    "#     mlu=\"\"\n",
    "#     for mth in basicmethod:\n",
    "#         if len(list(re.finditer(\"\\.\"+mth,cd)))!=0:\n",
    "#             mc+=1\n",
    "#             mlu+=list(re.finditer(\"\\.\"+mth,cd))[0].group()+\" \"\n",
    "#             mluc+=len(list(re.finditer(\"\\.\"+mth,cd)))\n",
    "#     basicmethod_ct.append(mc)\n",
    "#     basicmethod_log_usect.append(mluc)\n",
    "#     basicmethod_log_use.append(mlu)"
   ]
  },
  {
   "cell_type": "code",
   "execution_count": null,
   "metadata": {},
   "outputs": [],
   "source": [
    "# df_cdmix[\"basicmethod_ct\"]=basicmethod_ct\n",
    "# df_cdmix[\"basicmethod_log_usect\"]=basicmethod_log_usect\n",
    "# df_cdmix[\"basicmethod_log_use\"]=basicmethod_log_use"
   ]
  },
  {
   "cell_type": "code",
   "execution_count": null,
   "metadata": {},
   "outputs": [],
   "source": [
    "# df_cdmix.head()"
   ]
  },
  {
   "cell_type": "code",
   "execution_count": null,
   "metadata": {},
   "outputs": [],
   "source": [
    "# df=pd.merge(df, df_cdmix[[\"Username\",\"SectionName\",\"basicmethod_ct\",\"basicmethod_log_usect\",\"basicmethod_log_use\"]], \n",
    "#             on=[\"Username\",\"SectionName\"], how=\"left\")"
   ]
  },
  {
   "cell_type": "markdown",
   "metadata": {},
   "source": [
    "#### basicmethod系列_from notebook"
   ]
  },
  {
   "cell_type": "code",
   "execution_count": null,
   "metadata": {},
   "outputs": [],
   "source": [
    "#str(), int(), float(), list(), tuple(), dict(), set()\n",
    "basicmethod=[]\n",
    "basicmethod.extend(dir(str()))\n",
    "basicmethod.extend(dir(int()))\n",
    "basicmethod.extend(dir(float()))\n",
    "basicmethod.extend(dir(list()))\n",
    "basicmethod.extend(dir(tuple()))\n",
    "basicmethod.extend(dir(dict()))\n",
    "basicmethod.extend(dir(set()))\n",
    "basicmethod=list(set(basicmethod))"
   ]
  },
  {
   "cell_type": "code",
   "execution_count": null,
   "metadata": {},
   "outputs": [],
   "source": [
    "basicmethod_ct=[]\n",
    "basicmethod_nb_use=[]\n",
    "basicmethod_nb_usect=[]\n",
    "\n",
    "for cd in list(df_sc[\"CodeContent_final\"]):\n",
    "    mnuc=0\n",
    "    mnu=\"\"\n",
    "    for mth in basicmethod:\n",
    "        if len(list(re.finditer(\"\\.\"+mth,cd)))!=0:\n",
    "            mnu+=list(re.finditer(\"\\.\"+mth,cd))[0].group()+\" \"\n",
    "            mnuc+=len(list(re.finditer(\"\\.\"+mth,cd)))\n",
    "    basicmethod_ct.append(len(mnu.split()))\n",
    "    basicmethod_nb_usect.append(mnuc)\n",
    "    basicmethod_nb_use.append(mnu)"
   ]
  },
  {
   "cell_type": "code",
   "execution_count": null,
   "metadata": {},
   "outputs": [],
   "source": [
    "df_sc[\"basicmethod_ct\"]=basicmethod_ct\n",
    "df_sc[\"basicmethod_nb_usect\"]=basicmethod_nb_usect\n",
    "df_sc[\"basicmethod_nb_use\"]=basicmethod_nb_use"
   ]
  },
  {
   "cell_type": "code",
   "execution_count": null,
   "metadata": {},
   "outputs": [],
   "source": [
    "df=pd.merge(df, df_sc[[\"Username\",\"SectionName\",\"basicmethod_nb_usect\",\"basicmethod_nb_use\",\"basicmethod_ct\"]], \n",
    "            on=[\"Username\",\"SectionName\"], how=\"left\")"
   ]
  },
  {
   "cell_type": "code",
   "execution_count": null,
   "metadata": {
    "scrolled": true
   },
   "outputs": [],
   "source": [
    "list(df.columns)"
   ]
  },
  {
   "cell_type": "markdown",
   "metadata": {},
   "source": [
    "#### 累計系列"
   ]
  },
  {
   "cell_type": "code",
   "execution_count": null,
   "metadata": {},
   "outputs": [],
   "source": [
    "df=df.sort_values([\"Username\",\"SectionNumber\"]).reset_index(drop=True)"
   ]
  },
  {
   "cell_type": "code",
   "execution_count": null,
   "metadata": {
    "scrolled": true
   },
   "outputs": [],
   "source": [
    "df[\"Grand_Module_ct\"]=[0]*len(df)\n",
    "df[\"Grand_modulemethod_ct\"]=[0]*len(df)\n",
    "\n",
    "for usr in list(set(df[\"Username\"])):\n",
    "    print(usr)\n",
    "    dfx=df[df[\"Username\"]==usr]\n",
    "    mm=[]\n",
    "    m=[]\n",
    "    for i in dfx.index:\n",
    "        m.extend(df.loc[i,\"Module\"].split())\n",
    "        mm.extend(df.loc[i,\"modulemethod_nb_use\"].split())\n",
    "        df.loc[i,\"Grand_Module_ct\"]=len(set(m))\n",
    "        df.loc[i,\"Grand_modulemethod_ct\"]=len(set(mm))"
   ]
  },
  {
   "cell_type": "code",
   "execution_count": null,
   "metadata": {
    "scrolled": true
   },
   "outputs": [],
   "source": [
    "df[\"RemarkLength_final\"]=df[\"RemarkLength_final\"].fillna(0)\n",
    "df[\"Grand_RemarkLength\"]=[0]*len(df)\n",
    "\n",
    "for usr in list(set(df[\"Username\"])):\n",
    "    print(usr)\n",
    "    dfx=df[df[\"Username\"]==usr]\n",
    "    rm=0\n",
    "    for i in dfx.index:\n",
    "        rm+=df.loc[i,\"RemarkLength_final\"]\n",
    "        df.loc[i,\"Grand_RemarkLength\"]=rm"
   ]
  },
  {
   "cell_type": "code",
   "execution_count": null,
   "metadata": {
    "scrolled": true
   },
   "outputs": [],
   "source": [
    "df[\"Grand_basicmethod_ct\"]=[0]*len(df)\n",
    "\n",
    "for usr in list(set(df[\"Username\"])):\n",
    "    print(usr)\n",
    "    dfx=df[df[\"Username\"]==usr]\n",
    "    bm=[]\n",
    "    for i in dfx.index:\n",
    "        bm.extend(df.loc[i,\"basicmethod_nb_use\"].split())\n",
    "        df.loc[i,\"Grand_basicmethod_ct\"]=len(set(bm))"
   ]
  },
  {
   "cell_type": "markdown",
   "metadata": {},
   "source": [
    "#### 其他"
   ]
  },
  {
   "cell_type": "code",
   "execution_count": null,
   "metadata": {},
   "outputs": [],
   "source": [
    "# #WeekNumber\n",
    "\n",
    "sc=pd.read_excel(\"section.xlsx\")\n",
    "d={}\n",
    "for i in sc.index:\n",
    "    d.update({sc.loc[i,\"SectionName\"]:sc.loc[i,\"WeekNumber\"]})\n",
    "\n",
    "df[\"WeekNumber\"]=df[\"SectionName\"].map(d)"
   ]
  },
  {
   "cell_type": "code",
   "execution_count": null,
   "metadata": {
    "scrolled": true
   },
   "outputs": [],
   "source": [
    "# list(df.columns)"
   ]
  },
  {
   "cell_type": "code",
   "execution_count": null,
   "metadata": {},
   "outputs": [],
   "source": [
    "df[\"Username\"]=df[\"Username\"].astype(\"int32\")\n",
    "df=pd.merge(df, qs, left_on=\"Username\", right_on=\"id\", how=\"left\").drop(\"id\", axis=1)"
   ]
  },
  {
   "cell_type": "code",
   "execution_count": null,
   "metadata": {
    "scrolled": true
   },
   "outputs": [],
   "source": [
    "list(df.columns)"
   ]
  },
  {
   "cell_type": "code",
   "execution_count": null,
   "metadata": {},
   "outputs": [],
   "source": [
    "df.to_excel(\"member_section_trainingdata.xlsx\")\n",
    "# df=pd.read_excel(\"member_section_trainingdata.xlsx\")\n",
    "# if \"Unnamed: 0\" in df.columns:\n",
    "#     df=df.drop(\"Unnamed: 0\", axis=1)"
   ]
  },
  {
   "cell_type": "markdown",
   "metadata": {},
   "source": [
    "#### 週次合併版本"
   ]
  },
  {
   "cell_type": "code",
   "execution_count": null,
   "metadata": {
    "scrolled": true
   },
   "outputs": [],
   "source": [
    "df[\"Module\"]=df[\"Module\"].fillna(\"\")\n",
    "df[\"modulemethod_nb_use\"]=df[\"modulemethod_nb_use\"].fillna(\"\")\n",
    "df[\"basicmethod_nb_use\"]=df[\"basicmethod_nb_use\"].fillna(\"\")"
   ]
  },
  {
   "cell_type": "code",
   "execution_count": null,
   "metadata": {},
   "outputs": [],
   "source": [
    "df1=df[['Username', 'WeekNumber','Module','Module_ct',\n",
    "        'modulemethod_ct','modulemethod_nb_use',\n",
    "        'basicmethod_ct','basicmethod_nb_use']]\n",
    "df1.head()"
   ]
  },
  {
   "cell_type": "code",
   "execution_count": null,
   "metadata": {},
   "outputs": [],
   "source": [
    "Username=[]\n",
    "WeekNumber=[]\n",
    "Module=[]\n",
    "Module_ct=[]\n",
    "Modulemethod_use=[]\n",
    "Modulemethod_ct=[]\n",
    "Basicmethod_use=[]\n",
    "Basicmethod_ct=[]\n",
    "Grand_Module_ct=[]\n",
    "Grand_modulemethod_ct=[]\n",
    "Grand_basicmethod_ct=[]\n",
    "\n",
    "for usr in list(set(df1[\"Username\"])):\n",
    "    df1x=df1[df1[\"Username\"]==usr]\n",
    "    grand_m=0\n",
    "    grand_mm=0\n",
    "    grand_bm=0\n",
    "    for wk in list(set(df1x[\"WeekNumber\"])):\n",
    "        df1xx=df1x[df1x[\"WeekNumber\"]==wk]\n",
    "        module=list(set(\" \".join(list(df1xx[\"Module\"])).split()))\n",
    "        modulemethod_use=list(set(\" \".join(list(df1xx[\"modulemethod_nb_use\"])).split()))\n",
    "        basicmethod_use=list(set(\" \".join(list(df1xx[\"basicmethod_nb_use\"])).split()))\n",
    "        grand_m+=len(module)\n",
    "        grand_mm+=len(modulemethod_use)\n",
    "        grand_bm+=len(basicmethod_use)\n",
    "        \n",
    "        Username.append(usr)\n",
    "        WeekNumber.append(wk)\n",
    "        Module.append(\" \".join(module))\n",
    "        Module_ct.append(len(module))\n",
    "        Modulemethod_use.append(\" \".join(modulemethod_use))\n",
    "        Modulemethod_ct.append(len(modulemethod_use))\n",
    "        Basicmethod_use.append(\" \".join(basicmethod_use))\n",
    "        Basicmethod_ct.append(len(basicmethod_use))\n",
    "        Grand_Module_ct.append(grand_m)\n",
    "        Grand_modulemethod_ct.append(grand_mm)\n",
    "        Grand_basicmethod_ct.append(grand_bm)\n",
    "\n",
    "df1=pd.DataFrame({\n",
    "    \"Username\":Username,\n",
    "    \"WeekNumber\":WeekNumber,\n",
    "    \"Module\":Module,\n",
    "    \"Module_ct\":Module_ct,\n",
    "    \"Grand_Module_ct\":Grand_Module_ct,\n",
    "    \"Modulemethod_use\":Modulemethod_use,\n",
    "    \"Modulemethod_ct\":Modulemethod_ct,\n",
    "    \"Grand_modulemethod_ct\":Grand_modulemethod_ct,\n",
    "    \"Basicmethod_use\":Basicmethod_use,\n",
    "    \"Basicmethod_ct\":Basicmethod_ct,\n",
    "    \"Grand_basicmethod_ct\":Grand_basicmethod_ct})"
   ]
  },
  {
   "cell_type": "code",
   "execution_count": null,
   "metadata": {
    "scrolled": true
   },
   "outputs": [],
   "source": [
    "df1.head()"
   ]
  },
  {
   "cell_type": "code",
   "execution_count": null,
   "metadata": {},
   "outputs": [],
   "source": [
    "sc=pd.read_excel(\"section.xlsx\")\n",
    "d={}\n",
    "for i in sc.index:\n",
    "    d.update({sc.loc[i,\"SectionName\"]:sc.loc[i,\"WeekNumber\"]})\n",
    "\n",
    "df_error[\"WeekNumber\"]=df_error[\"SectionName\"].map(d)"
   ]
  },
  {
   "cell_type": "code",
   "execution_count": null,
   "metadata": {},
   "outputs": [],
   "source": [
    "#df_error[\"Timespent\"]=df_error[\"Timespent\"].astype(\"int32\")\n",
    "\n",
    "df_error3=df_error[df_error[\"Solved\"]==1]\n",
    "df_error3[\"Timespent\"]=list(map(lambda x: 7200 if x>7200 else x, df_error3[\"Timespent\"]))\n",
    "df_error3=df_error3[[\"WeekNumber\", \"Username\", \"ErrorName\",\"Timespent\"]].groupby([\"WeekNumber\", \"Username\", \"ErrorName\"]).mean()\n",
    "df_error3=df_error3.reset_index(drop=False)\n",
    "df_error3.head()"
   ]
  },
  {
   "cell_type": "code",
   "execution_count": null,
   "metadata": {},
   "outputs": [],
   "source": [
    "sns=list(set(df[\"SectionName\"]))\n",
    "uss=list(set(df[\"Username\"]))\n",
    "\n",
    "df2=df[['Username', 'WeekNumber']].drop_duplicates(keep=\"last\").reset_index(drop=True)\n",
    "li=\"SyntaxError NameError AttributeError TypeError KeyError ValueError IndentationError IndexError\".split()\n",
    "week_list=list(set(df_error3[\"WeekNumber\"]))\n",
    "for i in li:\n",
    "    df2[i+\"_Fixtime\"]=[np.nan]*len(df2)\n",
    "for er in li:\n",
    "    print(\"==============\"+er+\"===============\")\n",
    "    dfx=df_error3[df_error3[\"ErrorName\"]==er]\n",
    "    for wk in week_list:\n",
    "        print(\"==\"+str(wk)+\"==\")\n",
    "        for us in uss:\n",
    "            dfx1=dfx[(dfx[\"WeekNumber\"]==wk)&(dfx[\"Username\"]==str(us))]\n",
    "            if len(dfx1)!=0:\n",
    "                ts=float(dfx1.loc[:,\"Timespent\"])\n",
    "                ind=df2[(df2[\"WeekNumber\"]==wk)&(df2[\"Username\"]==us)].index[0]\n",
    "                df2.loc[ind, er+\"_Fixtime\"]=ts"
   ]
  },
  {
   "cell_type": "code",
   "execution_count": null,
   "metadata": {
    "scrolled": true
   },
   "outputs": [],
   "source": [
    "df2.head()"
   ]
  },
  {
   "cell_type": "code",
   "execution_count": null,
   "metadata": {},
   "outputs": [],
   "source": [
    "#.sum()\n",
    "df[\"CodeLength_final\"]=df[\"CodeLength_final\"].fillna(0).astype(\"int32\")\n",
    "df['SectionScore']=df['SectionScore'].fillna(0).astype(\"int32\")\n",
    "df[\"CopyCt\"]=df[\"CopyCt\"].fillna(0).astype(\"int32\")\n",
    "df[\"EditTime_Inclass\"]=df[\"EditTime_Inclass\"].fillna(0).astype(\"int32\")\n",
    "df[\"EditTime_Notinclass\"]=df[\"EditTime_Notinclass\"].fillna(0).astype(\"int32\")\n",
    "df[\"ExternalPasteLength\"]=df[\"ExternalPasteLength\"].fillna(0).astype(\"int32\")\n",
    "df[\"PasteCt\"]=df[\"PasteCt\"].fillna(0).astype(\"int32\")\n",
    "\n",
    "df3=df[['Username',\n",
    " 'WeekNumber',\n",
    " 'CodeLength_final',\n",
    " 'RemarkLength_final',\n",
    " 'Grand_RemarkLength',\n",
    " 'EditTime_Inclass', 'EditTime_Notinclass',\n",
    " 'ExternalPasteLength',\n",
    " 'ExecutionCt', 'CopyCt', 'PasteCt',\n",
    " 'No_submitted', 'Late_submitted',\n",
    " 'SyntaxError_Ct', 'NameError_Ct', 'AttributeError_Ct', 'TypeError_Ct',\n",
    " 'KeyError_Ct', 'ValueError_Ct','IndentationError_Ct', 'IndexError_Ct',\n",
    " 'SyntaxError_FailfixCt', 'NameError_FailfixCt', 'AttributeError_FailfixCt', 'TypeError_FailfixCt',\n",
    " 'KeyError_FailfixCt', 'ValueError_FailfixCt', 'IndentationError_FailfixCt', 'IndexError_FailfixCt',\n",
    " 'pattern_SimpleCondition_nbct', 'pattern_MultipleCondition_nbct', 'pattern_WhileIteration_nbct',\n",
    " 'pattern_ForInIteration_nbct', 'pattern_NestIteration_nbct', 'pattern_DefFunction_nbct',\n",
    " 'modulemethod_nb_usect','basicmethod_nb_usect','DebugTime'    \n",
    "       ]].groupby(['Username', 'WeekNumber']).sum().reset_index(drop=False)"
   ]
  },
  {
   "cell_type": "code",
   "execution_count": null,
   "metadata": {},
   "outputs": [],
   "source": [
    "df4=df[['Username', 'WeekNumber', 'SectionScore']].groupby(['Username', 'WeekNumber']).mean().reset_index(drop=False)"
   ]
  },
  {
   "cell_type": "code",
   "execution_count": null,
   "metadata": {},
   "outputs": [],
   "source": [
    "df1=pd.merge(df1, df2, on=['Username','WeekNumber'], how=\"left\")\n",
    "df1=pd.merge(df1, df3, on=['Username','WeekNumber'], how=\"left\")\n",
    "df1=pd.merge(df1, df4, on=['Username','WeekNumber'], how=\"left\")\n",
    "df1=pd.merge(df1, qs, left_on=['Username'], right_on=[\"id\"], how=\"left\").drop(\"id\", axis=1)"
   ]
  },
  {
   "cell_type": "code",
   "execution_count": null,
   "metadata": {
    "scrolled": true
   },
   "outputs": [],
   "source": [
    "set(list(df.columns))-set(list(df1.columns))"
   ]
  },
  {
   "cell_type": "code",
   "execution_count": null,
   "metadata": {
    "scrolled": true
   },
   "outputs": [],
   "source": [
    "for usr in list(set(df1[\"Username\"])):\n",
    "    print(usr)\n",
    "    dfx=df1[df1[\"Username\"]==usr]\n",
    "    rm=0\n",
    "    for i in dfx.index:\n",
    "        rm+=df1.loc[i,\"RemarkLength_final\"]\n",
    "        df1.loc[i,\"Grand_RemarkLength\"]=rm"
   ]
  },
  {
   "cell_type": "code",
   "execution_count": null,
   "metadata": {
    "scrolled": true
   },
   "outputs": [],
   "source": [
    "list(df1.columns)"
   ]
  },
  {
   "cell_type": "code",
   "execution_count": null,
   "metadata": {
    "scrolled": true
   },
   "outputs": [],
   "source": [
    "df1=df1[['Username',\n",
    " 'WeekNumber',\n",
    " 'SectionScore',\n",
    " 'Module',\n",
    " 'Module_ct',\n",
    " 'Grand_Module_ct',\n",
    " 'Modulemethod_use',\n",
    " 'Modulemethod_ct',\n",
    " 'Grand_modulemethod_ct',\n",
    " 'modulemethod_nb_usect',\n",
    " 'Basicmethod_use',\n",
    " 'Basicmethod_ct',\n",
    " 'Grand_basicmethod_ct',\n",
    " 'basicmethod_nb_usect',\n",
    " 'SyntaxError_Fixtime',\n",
    " 'NameError_Fixtime',\n",
    " 'AttributeError_Fixtime',\n",
    " 'TypeError_Fixtime',\n",
    " 'KeyError_Fixtime',\n",
    " 'ValueError_Fixtime',\n",
    " 'IndentationError_Fixtime',\n",
    " 'IndexError_Fixtime',\n",
    " 'CodeLength_final',\n",
    " 'RemarkLength_final',\n",
    " 'Grand_RemarkLength',\n",
    " 'EditTime_Inclass',\n",
    " 'EditTime_Notinclass',\n",
    " 'DebugTime',\n",
    " 'ExternalPasteLength',\n",
    " 'ExecutionCt',\n",
    " 'CopyCt',\n",
    " 'PasteCt',\n",
    " 'No_submitted',\n",
    " 'Late_submitted',\n",
    " 'SyntaxError_Ct',\n",
    " 'NameError_Ct',\n",
    " 'AttributeError_Ct',\n",
    " 'TypeError_Ct',\n",
    " 'KeyError_Ct',\n",
    " 'ValueError_Ct',\n",
    " 'IndentationError_Ct',\n",
    " 'IndexError_Ct',\n",
    " 'SyntaxError_FailfixCt',\n",
    " 'NameError_FailfixCt',\n",
    " 'AttributeError_FailfixCt',\n",
    " 'TypeError_FailfixCt',\n",
    " 'KeyError_FailfixCt',\n",
    " 'ValueError_FailfixCt',\n",
    " 'IndentationError_FailfixCt',\n",
    " 'IndexError_FailfixCt',\n",
    " 'pattern_SimpleCondition_nbct',\n",
    " 'pattern_MultipleCondition_nbct',\n",
    " 'pattern_WhileIteration_nbct',\n",
    " 'pattern_ForInIteration_nbct',\n",
    " 'pattern_NestIteration_nbct',\n",
    " 'pattern_DefFunction_nbct',\n",
    " 'wk_expr',\n",
    " 'non_py_expr',\n",
    " 'non_py_prof',\n",
    " 'py_expr',\n",
    " 'py_prof',\n",
    " 'pretest_score']]"
   ]
  },
  {
   "cell_type": "code",
   "execution_count": null,
   "metadata": {
    "scrolled": true
   },
   "outputs": [],
   "source": [
    "df1.shape"
   ]
  },
  {
   "cell_type": "code",
   "execution_count": null,
   "metadata": {
    "scrolled": true
   },
   "outputs": [],
   "source": [
    "df1.head()"
   ]
  },
  {
   "cell_type": "code",
   "execution_count": null,
   "metadata": {},
   "outputs": [],
   "source": [
    "df1.to_excel(\"member_weeknb_trainingdata.xlsx\")"
   ]
  },
  {
   "cell_type": "markdown",
   "metadata": {},
   "source": [
    "### member_semester_inclass notebook"
   ]
  },
  {
   "cell_type": "code",
   "execution_count": null,
   "metadata": {},
   "outputs": [],
   "source": [
    "df2=df1[['Username','Module', 'Modulemethod_use', 'Basicmethod_use']]\n",
    "df2.head()"
   ]
  },
  {
   "cell_type": "code",
   "execution_count": null,
   "metadata": {},
   "outputs": [],
   "source": [
    "Username=[]\n",
    "Module=[]\n",
    "Module_ct=[]\n",
    "Modulemethod_use=[]\n",
    "Modulemethod_ct=[]\n",
    "Basicmethod_use=[]\n",
    "Basicmethod_ct=[]\n",
    "\n",
    "for usr in list(set(df2[\"Username\"])):\n",
    "    df1x=df2[df2[\"Username\"]==usr]\n",
    "\n",
    "    module=list(set(\" \".join(list(df1x[\"Module\"])).split()))\n",
    "    modulemethod_use=list(set(\" \".join(list(df1x[\"Modulemethod_use\"])).split()))\n",
    "    basicmethod_use=list(set(\" \".join(list(df1x[\"Basicmethod_use\"])).split()))\n",
    "\n",
    "    Username.append(usr)\n",
    "    Module.append(\" \".join(module))\n",
    "    Module_ct.append(len(module))\n",
    "    Modulemethod_use.append(\" \".join(modulemethod_use))\n",
    "    Modulemethod_ct.append(len(modulemethod_use))\n",
    "    Basicmethod_use.append(\" \".join(basicmethod_use))\n",
    "    Basicmethod_ct.append(len(basicmethod_use))\n",
    "\n",
    "df2=pd.DataFrame({\n",
    "    \"Username\":Username,\n",
    "    \"Module\":Module,\n",
    "    \"Module_ct\":Module_ct,\n",
    "    \"Modulemethod_use\":Modulemethod_use,\n",
    "    \"Modulemethod_ct\":Modulemethod_ct,\n",
    "    \"Basicmethod_use\":Basicmethod_use,\n",
    "    \"Basicmethod_ct\":Basicmethod_ct})"
   ]
  },
  {
   "cell_type": "code",
   "execution_count": null,
   "metadata": {},
   "outputs": [],
   "source": [
    "df2.head()"
   ]
  },
  {
   "cell_type": "code",
   "execution_count": null,
   "metadata": {},
   "outputs": [],
   "source": [
    "df_error3=df_error[(df_error[\"Solved\"]==1)&(df_error[\"InClassSection\"]==1)]\n",
    "df_error3[\"Timespent\"]=list(map(lambda x: 7200 if x>7200 else x, df_error3[\"Timespent\"]))\n",
    "df_error3=df_error3[[\"Username\", \"ErrorName\",\"Timespent\"]].groupby([\"Username\", \"ErrorName\"]).mean()\n",
    "df_error3=df_error3.reset_index(drop=False)\n",
    "df_error3.head()"
   ]
  },
  {
   "cell_type": "code",
   "execution_count": null,
   "metadata": {},
   "outputs": [],
   "source": [
    "df3=df[['Username']].drop_duplicates(keep=\"last\").reset_index(drop=True)\n",
    "li=\"SyntaxError NameError AttributeError TypeError KeyError ValueError IndentationError IndexError\".split()\n",
    "for i in li:\n",
    "    df3[i+\"_Fixtime\"]=[np.nan]*len(df2)\n",
    "for er in li:\n",
    "    print(\"==============\"+er+\"===============\")\n",
    "    dfx=df_error3[df_error3[\"ErrorName\"]==er]\n",
    "    for us in uss:\n",
    "        dfx1=dfx[dfx[\"Username\"]==str(us)]\n",
    "        if len(dfx1)!=0:\n",
    "            ts=float(dfx1.loc[:,\"Timespent\"])\n",
    "            ind=df3[df3[\"Username\"]==us].index[0]\n",
    "            df3.loc[ind, er+\"_Fixtime\"]=ts"
   ]
  },
  {
   "cell_type": "code",
   "execution_count": null,
   "metadata": {},
   "outputs": [],
   "source": [
    "df3.head()"
   ]
  },
  {
   "cell_type": "code",
   "execution_count": null,
   "metadata": {},
   "outputs": [],
   "source": [
    "#.sum()\n",
    "df4=df1[['Username',\n",
    " 'CodeLength_final',\n",
    " 'RemarkLength_final',\n",
    " 'EditTime_Inclass', 'EditTime_Notinclass','DebugTime',\n",
    " 'ExternalPasteLength',\n",
    " 'ExecutionCt', 'CopyCt', 'PasteCt',\n",
    " 'No_submitted', 'Late_submitted',\n",
    " 'SyntaxError_Ct', 'NameError_Ct', 'AttributeError_Ct', 'TypeError_Ct',\n",
    " 'KeyError_Ct', 'ValueError_Ct','IndentationError_Ct', 'IndexError_Ct',\n",
    " 'SyntaxError_FailfixCt', 'NameError_FailfixCt', 'AttributeError_FailfixCt', 'TypeError_FailfixCt',\n",
    " 'KeyError_FailfixCt', 'ValueError_FailfixCt', 'IndentationError_FailfixCt', 'IndexError_FailfixCt',\n",
    " 'pattern_SimpleCondition_nbct', 'pattern_MultipleCondition_nbct', 'pattern_WhileIteration_nbct',\n",
    " 'pattern_ForInIteration_nbct', 'pattern_NestIteration_nbct', 'pattern_DefFunction_nbct',\n",
    " 'modulemethod_nb_usect','basicmethod_nb_usect'  \n",
    "       ]].groupby(['Username']).sum().reset_index(drop=False)"
   ]
  },
  {
   "cell_type": "code",
   "execution_count": null,
   "metadata": {},
   "outputs": [],
   "source": [
    "df5=df1[['Username', 'SectionScore']].groupby(['Username']).mean().reset_index(drop=False)"
   ]
  },
  {
   "cell_type": "code",
   "execution_count": null,
   "metadata": {},
   "outputs": [],
   "source": [
    "df2=pd.merge(df2, df3, on=['Username'], how=\"left\")\n",
    "df2=pd.merge(df2, df4, on=['Username'], how=\"left\")\n",
    "df2=pd.merge(df2, df5, on=['Username'], how=\"left\")\n",
    "df2=pd.merge(df2, qs, left_on=['Username'], right_on=[\"id\"], how=\"left\").drop(\"id\", axis=1)"
   ]
  },
  {
   "cell_type": "code",
   "execution_count": null,
   "metadata": {},
   "outputs": [],
   "source": [
    "set(list(df1.columns))-set(list(df2.columns))"
   ]
  },
  {
   "cell_type": "code",
   "execution_count": null,
   "metadata": {
    "scrolled": true
   },
   "outputs": [],
   "source": [
    "# df2[\"Username\"]=df2[\"Username\"].astype(\"int32\")\n",
    "# df2=pd.merge(df2, fnsc, on=\"Username\", how=\"left\")#加入datathon成績做為可能的target\n",
    "# df2=pd.merge(df2, sc_datathon[[\"StudentId\",\"datathon_ac_score\"]], left_on=\"Username\", right_on=\"StudentId\", how=\"left\").drop(\"StudentId\", axis=1)"
   ]
  },
  {
   "cell_type": "code",
   "execution_count": null,
   "metadata": {
    "scrolled": true
   },
   "outputs": [],
   "source": [
    "df2"
   ]
  },
  {
   "cell_type": "code",
   "execution_count": null,
   "metadata": {},
   "outputs": [],
   "source": [
    "df2.to_excel(\"member_semesternb_trainingdata.xlsx\")"
   ]
  },
  {
   "cell_type": "markdown",
   "metadata": {},
   "source": [
    "### member_datathon_inclass notebook"
   ]
  },
  {
   "cell_type": "code",
   "execution_count": null,
   "metadata": {},
   "outputs": [],
   "source": [
    "df_datathon=df[df[\"SectionName\"]==\"【Pract16】Datathon\"].reset_index(drop=True)"
   ]
  },
  {
   "cell_type": "code",
   "execution_count": null,
   "metadata": {},
   "outputs": [],
   "source": [
    "df_datathon.head()"
   ]
  },
  {
   "cell_type": "code",
   "execution_count": null,
   "metadata": {},
   "outputs": [],
   "source": [
    "# practice_score=pd.read_excel(\"practice_score.xlsx\")\n",
    "# sc_datathon=practice_score[practice_score[\"SectionName\"]==\"【Pract16】Datathon\"]\n",
    "# sc_datathon=sc_datathon[[\"SectionName\",\"StudentId\",\"accomplish\"]].groupby([\"SectionName\",\"StudentId\"]).sum().reset_index(drop=False)\n",
    "\n",
    "# sc_datathon[\"datathon_ac_score\"]=(sc_datathon[\"accomplish\"]/8)*100\n",
    "# sc_datathon[\"StudentId\"]=sc_datathon[\"StudentId\"].astype(\"int32\")"
   ]
  },
  {
   "cell_type": "code",
   "execution_count": null,
   "metadata": {
    "scrolled": true
   },
   "outputs": [],
   "source": [
    "# df_datathon[\"Username\"]=df_datathon[\"Username\"].astype(\"int32\")\n",
    "# df_datathon=pd.merge(df_datathon, sc_datathon, left_on=[\"Username\",\"SectionName\"], right_on=[\"StudentId\",\"SectionName\"], how=\"left\")"
   ]
  },
  {
   "cell_type": "code",
   "execution_count": null,
   "metadata": {},
   "outputs": [],
   "source": [
    "# df_datathon[\"Username\"]=df_datathon[\"Username\"].astype(\"int32\")\n",
    "# df_datathon=pd.merge(df_datathon, qs, left_on=\"Username\", right_on=\"id\", how=\"left\").drop(\"id\", axis=1)"
   ]
  },
  {
   "cell_type": "code",
   "execution_count": null,
   "metadata": {},
   "outputs": [],
   "source": [
    "df_datathon.to_excel(\"member_datathon_trainingdata.xlsx\")"
   ]
  },
  {
   "cell_type": "markdown",
   "metadata": {},
   "source": [
    "### member_week_log"
   ]
  },
  {
   "cell_type": "markdown",
   "metadata": {},
   "source": [
    "#### error系列"
   ]
  },
  {
   "cell_type": "code",
   "execution_count": null,
   "metadata": {
    "scrolled": true
   },
   "outputs": [],
   "source": [
    "df_error=df_error.reset_index(drop=True)"
   ]
  },
  {
   "cell_type": "code",
   "execution_count": null,
   "metadata": {},
   "outputs": [],
   "source": [
    "df_error.head()"
   ]
  },
  {
   "cell_type": "code",
   "execution_count": null,
   "metadata": {},
   "outputs": [],
   "source": [
    "s=((1, datetime(2020, 9, 16, 0, 0)),\n",
    " (2, datetime(2020, 9, 23, 0, 0)),\n",
    " (3, datetime(2020, 9, 30, 0, 0)),\n",
    " (4, datetime(2020, 10, 7, 0, 0)),\n",
    " (5, datetime(2020, 10, 14, 0, 0)),\n",
    " (6, datetime(2020, 10, 21, 0, 0)),\n",
    " (7, datetime(2020, 10, 28, 0, 0)),\n",
    " (8, datetime(2020, 11, 4, 0, 0)),\n",
    " (9, datetime(2020, 11, 11, 0, 0)),\n",
    " (11, datetime(2020, 11, 25, 0, 0)),\n",
    " (12, datetime(2020, 12, 2, 0, 0)),\n",
    " (13, datetime(2020, 12, 9, 0, 0)),\n",
    " (14, datetime(2020, 12, 16, 0, 0)),\n",
    " (15, datetime(2020, 12, 23, 0, 0)),\n",
    " (16, datetime(2020, 12, 30, 0, 0)))\n",
    "\n",
    "weeknumber=[]\n",
    "for i in range(len(df_error)):\n",
    "    week=0\n",
    "    for j,k in s:\n",
    "        if df_error.loc[i,\"Timestamp\"]>k:\n",
    "            week=j\n",
    "    weeknumber.append(week)\n",
    "df_error[\"WeekNumber\"]=weeknumber"
   ]
  },
  {
   "cell_type": "code",
   "execution_count": null,
   "metadata": {
    "scrolled": true
   },
   "outputs": [],
   "source": [
    "#df_error[df_error[\"NotebookName\"]=='DKT.ipynb']"
   ]
  },
  {
   "cell_type": "code",
   "execution_count": null,
   "metadata": {},
   "outputs": [],
   "source": [
    "df_error1=df_error[[\"WeekNumber\", \"Username\", \"ErrorName\",\"error_id\"]].groupby([\"WeekNumber\", \"Username\", \"ErrorName\"]).count()\n",
    "df_error1=df_error1.reset_index(drop=False)\n",
    "#df_error1.head()"
   ]
  },
  {
   "cell_type": "code",
   "execution_count": null,
   "metadata": {},
   "outputs": [],
   "source": [
    "df_error2=df_error[[\"WeekNumber\", \"Username\", \"ErrorName\",\"Solved\"]].groupby([\"WeekNumber\", \"Username\", \"ErrorName\"]).sum()\n",
    "df_error2=df_error2.reset_index(drop=False)\n",
    "#df_error2.head()"
   ]
  },
  {
   "cell_type": "code",
   "execution_count": null,
   "metadata": {},
   "outputs": [],
   "source": [
    "df_error3=df_error[df_error[\"Solved\"]==1]\n",
    "df_error3[\"Timespent\"]=list(map(lambda x: 7200 if x>7200 else x, df_error3[\"Timespent\"]))\n",
    "df_error3=df_error3[[\"WeekNumber\", \"Username\", \"ErrorName\",\"Timespent\"]].groupby([\"WeekNumber\", \"Username\", \"ErrorName\"]).mean()\n",
    "df_error3=df_error3.reset_index(drop=False)\n",
    "#df_error3.head()"
   ]
  },
  {
   "cell_type": "code",
   "execution_count": null,
   "metadata": {},
   "outputs": [],
   "source": [
    "df_error1=pd.merge(df_error1, df_error2, on=[\"WeekNumber\",\"Username\",\"ErrorName\"], how=\"left\")\n",
    "df_error1=pd.merge(df_error1, df_error3, on=[\"WeekNumber\",\"Username\",\"ErrorName\"], how=\"left\")"
   ]
  },
  {
   "cell_type": "code",
   "execution_count": null,
   "metadata": {},
   "outputs": [],
   "source": [
    "df_error1[\"failfixct\"]=df_error1[\"error_id\"]-df_error1[\"Solved\"]"
   ]
  },
  {
   "cell_type": "code",
   "execution_count": null,
   "metadata": {},
   "outputs": [],
   "source": [
    "df_error1.describe()"
   ]
  },
  {
   "cell_type": "code",
   "execution_count": null,
   "metadata": {},
   "outputs": [],
   "source": [
    "df_error4=df_error[df_error[\"Solved\"]==1]\n",
    "df_error4[\"Timespent\"]=list(map(lambda x: 7200 if x>7200 else x, df_error4[\"Timespent\"]))\n",
    "df_error4=df_error4[[\"WeekNumber\", \"Username\",\"Timespent\"]].groupby([\"WeekNumber\", \"Username\"]).sum()\n",
    "df_error4=df_error4.reset_index(drop=False)\n",
    "df_error4=df_error4.rename(columns={\"Timespent\":\"DebugTime\"})"
   ]
  },
  {
   "cell_type": "code",
   "execution_count": null,
   "metadata": {},
   "outputs": [],
   "source": [
    "Username=list(set(df_error1[\"Username\"])-{\"lairuilin\",\"jimgo\",\"laitest\",\"susan\",\"hch\"})\n",
    "WeekNumber=list(set(df_error1[\"WeekNumber\"]))\n",
    "\n",
    "df_log=pd.DataFrame()\n",
    "for usr in Username:\n",
    "    dfx=pd.DataFrame({\"Username\":[usr]*len(WeekNumber),\"WeekNumber\":WeekNumber})\n",
    "    df_log=pd.concat([df_log, dfx], axis=0)\n",
    "df_log=df_log.reset_index(drop=True)"
   ]
  },
  {
   "cell_type": "code",
   "execution_count": null,
   "metadata": {},
   "outputs": [],
   "source": [
    "li=\"SyntaxError NameError AttributeError TypeError KeyError ValueError IndentationError IndexError\".split()\n",
    "for i in li:\n",
    "    df_log[i+\"_Ct\"]=[0]*len(df_log)\n",
    "    df_log[i+\"_FailfixCt\"]=[0]*len(df_log)\n",
    "    df_log[i+\"_Fixtime\"]=[np.nan]*len(df_log)"
   ]
  },
  {
   "cell_type": "code",
   "execution_count": null,
   "metadata": {},
   "outputs": [],
   "source": [
    "for er in li:\n",
    "    print(\"==============\"+er+\"===============\")\n",
    "    dfx=df_error1[df_error1[\"ErrorName\"]==er]\n",
    "    print(len(dfx))\n",
    "    for wk in WeekNumber:\n",
    "        print(\"==\"+str(wk)+\"==\")\n",
    "        for usr in Username:\n",
    "            dfx1=dfx[(dfx[\"WeekNumber\"]==wk)&(dfx[\"Username\"]==usr)]\n",
    "            if len(dfx1)!=0:\n",
    "                ct=int(dfx1.loc[:,\"error_id\"])\n",
    "                fp=float(dfx1.loc[:,\"failfixct\"])\n",
    "                ts=float(dfx1.loc[:,\"Timespent\"])\n",
    "                ind=df_log[(df_log[\"WeekNumber\"]==wk)&(df_log[\"Username\"]==usr)].index[0]\n",
    "                df_log.loc[ind, er+\"_Ct\"]=ct\n",
    "                df_log.loc[ind, er+\"_FailfixCt\"]=fp\n",
    "                df_log.loc[ind, er+\"_Fixtime\"]=ts\n",
    "                print(str(usr)+\"-->\"+str(ct)+\", \"+str(fp)+\", \"+str(ts))"
   ]
  },
  {
   "cell_type": "code",
   "execution_count": null,
   "metadata": {},
   "outputs": [],
   "source": [
    "df_log=pd.merge(df_log, df_error4, on=[\"WeekNumber\",\"Username\"], how=\"left\")"
   ]
  },
  {
   "cell_type": "code",
   "execution_count": null,
   "metadata": {},
   "outputs": [],
   "source": [
    "df_log.describe()"
   ]
  },
  {
   "cell_type": "markdown",
   "metadata": {},
   "source": [
    "#### pattern系列"
   ]
  },
  {
   "cell_type": "code",
   "execution_count": null,
   "metadata": {},
   "outputs": [],
   "source": [
    "conn=pymysql.connect(host=\"\", port=3306, user=\"\", passwd=\"\", db=\"\", charset=\"\")\n",
    "sql='''select `log_id`,`Username`,`notebookName`,`event`,`text`,`CleanCode`,`timestamp`from `edm_backup`.`edm_log`;'''\n",
    "cursor=conn.cursor()\n",
    "row=cursor.execute(sql)\n",
    "lg=cursor.fetchall()\n",
    "cursor.close()\n",
    "\n",
    "Log_id=[]\n",
    "Username=[]\n",
    "NotebookName=[]\n",
    "Event=[]\n",
    "Text=[]\n",
    "CleanCode=[]\n",
    "Timestamp=[]\n",
    "\n",
    "for i in range(len(lg)):\n",
    "    Log_id.append(lg[i][0])\n",
    "    Username.append(lg[i][1])\n",
    "    NotebookName.append(lg[i][2])\n",
    "    Event.append(lg[i][3])\n",
    "    Text.append(lg[i][4])\n",
    "    CleanCode.append(lg[i][5])\n",
    "    Timestamp.append(lg[i][6])\n",
    "    \n",
    "df_logcd=pd.DataFrame({\"Log_id\":Log_id,\"Username\":Username,\"NotebookName\":NotebookName,\"Event\":Event,\"Text\":Text,\"CleanCode\":CleanCode,\"Timestamp\":Timestamp})"
   ]
  },
  {
   "cell_type": "code",
   "execution_count": null,
   "metadata": {
    "scrolled": true
   },
   "outputs": [],
   "source": [
    "df_logcd[\"CleanCode\"]=df_logcd[\"CleanCode\"].fillna(\"\")\n",
    "df_logcd.Timestamp=list(map(lambda x: datetime.strptime(\":\".join(x.split(\":\")[:-1]), \"%Y-%m-%d-%H:%M:%S\"), df_logcd.Timestamp))\n",
    "df_logcd.head(30)"
   ]
  },
  {
   "cell_type": "code",
   "execution_count": null,
   "metadata": {},
   "outputs": [],
   "source": [
    "s=((1, datetime(2020, 9, 16, 0, 0)),\n",
    " (2, datetime(2020, 9, 23, 0, 0)),\n",
    " (3, datetime(2020, 9, 30, 0, 0)),\n",
    " (4, datetime(2020, 10, 7, 0, 0)),\n",
    " (5, datetime(2020, 10, 14, 0, 0)),\n",
    " (6, datetime(2020, 10, 21, 0, 0)),\n",
    " (7, datetime(2020, 10, 28, 0, 0)),\n",
    " (8, datetime(2020, 11, 4, 0, 0)),\n",
    " (9, datetime(2020, 11, 11, 0, 0)),\n",
    " (11, datetime(2020, 11, 25, 0, 0)),\n",
    " (12, datetime(2020, 12, 2, 0, 0)),\n",
    " (13, datetime(2020, 12, 9, 0, 0)),\n",
    " (14, datetime(2020, 12, 16, 0, 0)),\n",
    " (15, datetime(2020, 12, 23, 0, 0)),\n",
    " (16, datetime(2020, 12, 30, 0, 0)))\n",
    "\n",
    "weeknumber=[]\n",
    "for i in range(len(df_logcd)):\n",
    "    week=0\n",
    "    for j,k in s:\n",
    "        if df_logcd.loc[i,\"Timestamp\"]>k:\n",
    "            week=j\n",
    "    weeknumber.append(week)\n",
    "df_logcd[\"WeekNumber\"]=weeknumber"
   ]
  },
  {
   "cell_type": "code",
   "execution_count": null,
   "metadata": {
    "scrolled": true
   },
   "outputs": [],
   "source": [
    "pattern_SimpleCondition_logct=[]\n",
    "pattern_MultipleCondition_logct=[]\n",
    "pattern_WhileIteration_logct=[]\n",
    "pattern_ForInIteration_logct=[]\n",
    "pattern_NestIteration_logct=[]\n",
    "pattern_DefFunction_logct=[]\n",
    "\n",
    "print(\"total:\", len(df_logcd))\n",
    "for xxx in range(len(df_logcd)):\n",
    "    print(xxx)\n",
    "    x=list(df_logcd[\"CleanCode\"])[xxx]\n",
    "    #MultipleCondition\n",
    "    target=copy.deepcopy(x)\n",
    "    mc=0\n",
    "    for i in list(reversed(range(6))):\n",
    "        #print(\"========\"+str(i)+\"========\")\n",
    "        c=\"[ ]{%d}if.*:.*\\n([ ]{%d}.*\\n)+?([ ]{%d}elif.*:.*\\n)+?([ ]{%d}.*)([ ]{%d}else:.*\\n)+?([ ]{%d}.*)\"%(4*i, 4*i+4,4*i, 4*i+4,4*i, 4*i+4)\n",
    "        c1=\"[ ]{%d}if.*:.*\\n([ ]{%d}.*\\n)+?([ ]{%d}elif.*:.*\\n)+?([ ]{%d}.*)\"%(4*i, 4*i+4,4*i, 4*i+4)\n",
    "        c2=\"[ ]{%d}if.*:.*\\n([ ]{%d}.*\\n)+?([ ]{%d}else:.*\\n)+?([ ]{%d}.*)\"%(4*i, 4*i+4,4*i, 4*i+4)\n",
    "        for j in re.finditer(c,target):\n",
    "            target=target.replace(j.group(),\"\")\n",
    "            mc+=1\n",
    "        for j in re.finditer(c1,target):\n",
    "            target=target.replace(j.group(),\"\")\n",
    "            mc+=1\n",
    "        for j in re.finditer(c2,target):\n",
    "            target=target.replace(j.group(),\"\")\n",
    "            mc+=1\n",
    "            \n",
    "    #SimpleCondition\n",
    "    c=\"if .+:.*\\n\"\n",
    "    sc=len(list(re.finditer(c,target)))\n",
    "\n",
    "    #WhileIteration\n",
    "    c=\"while .+:.*\\n\"\n",
    "    wi=len(list(re.finditer(c,x)))\n",
    "\n",
    "    #ForInIteration\n",
    "    c=\"for .+ in .+:.*\\n\"\n",
    "    fi=len(list(re.finditer(c,x)))\n",
    "\n",
    "    #NestIteration\n",
    "    ni=0\n",
    "    for i in range(6):\n",
    "        #print(\"=======\"+str(i)+\"=======\")\n",
    "        c=\"[ ]{%d}((while .+:)|(for .+ in .+:)|(if .+:)).*\\n([ ]{%d}.*\\n)+\"%(4*i, 4*i+4)\n",
    "        for j in re.finditer(c,x):\n",
    "            x1=j.group().replace(\"\\n\"+\" \"*(4*i), \"\\n\").strip()\n",
    "            c1=\"((while .+:)|(for .+ in .+:|(if .+:))).*\\n([ ]{4}.*\\n)\"\n",
    "            ni+=len(list(re.finditer(c1,x1)))\n",
    "                \n",
    "    #DefFunction\n",
    "    c=\"def .+\\(.*\\):\"\n",
    "    fc=len(list(re.finditer(c,x)))\n",
    "    \n",
    "    pattern_SimpleCondition_logct.append(sc)\n",
    "    pattern_MultipleCondition_logct.append(mc)\n",
    "    pattern_WhileIteration_logct.append(wi)\n",
    "    pattern_ForInIteration_logct.append(fi)\n",
    "    pattern_NestIteration_logct.append(ni)\n",
    "    pattern_DefFunction_logct.append(fc)"
   ]
  },
  {
   "cell_type": "code",
   "execution_count": null,
   "metadata": {},
   "outputs": [],
   "source": [
    "df_logcd[\"pattern_SimpleCondition_logct\"]=pattern_SimpleCondition_logct\n",
    "df_logcd[\"pattern_MultipleCondition_logct\"]=pattern_MultipleCondition_logct\n",
    "df_logcd[\"pattern_WhileIteration_logct\"]=pattern_WhileIteration_logct\n",
    "df_logcd[\"pattern_ForInIteration_logct\"]=pattern_ForInIteration_logct\n",
    "df_logcd[\"pattern_NestIteration_logct\"]=pattern_NestIteration_logct\n",
    "df_logcd[\"pattern_DefFunction_logct\"]=pattern_DefFunction_logct"
   ]
  },
  {
   "cell_type": "code",
   "execution_count": null,
   "metadata": {},
   "outputs": [],
   "source": [
    "df_logcd1=df_logcd.groupby([\"Username\",\"WeekNumber\"]).sum().reset_index(drop=False)\n",
    "del df_logcd1[\"Log_id\"]"
   ]
  },
  {
   "cell_type": "code",
   "execution_count": null,
   "metadata": {},
   "outputs": [],
   "source": [
    "df_logcd.head(1)"
   ]
  },
  {
   "cell_type": "code",
   "execution_count": null,
   "metadata": {},
   "outputs": [],
   "source": [
    "df_logcd1.head(1)"
   ]
  },
  {
   "cell_type": "code",
   "execution_count": null,
   "metadata": {},
   "outputs": [],
   "source": [
    "df_log.head(1)"
   ]
  },
  {
   "cell_type": "code",
   "execution_count": null,
   "metadata": {},
   "outputs": [],
   "source": [
    "df_log=pd.merge(df_log, df_logcd1, on=[\"Username\",\"WeekNumber\"], how=\"left\")"
   ]
  },
  {
   "cell_type": "markdown",
   "metadata": {},
   "source": [
    "#### copy/ paste/ execution\n"
   ]
  },
  {
   "cell_type": "code",
   "execution_count": null,
   "metadata": {},
   "outputs": [],
   "source": [
    "df_logcd[\"Text\"]=df_logcd[\"Text\"].fillna(\"\")\n",
    "\n",
    "Username=[]\n",
    "WeekNumber=[]\n",
    "Codemix=[]\n",
    "CopyCt=[]\n",
    "PasteCt=[]\n",
    "ExecutionCt=[]\n",
    "ExternalPasteLength=[]\n",
    "\n",
    "for usr in list(set(df_logcd[\"Username\"])):\n",
    "    df_logcdx=df_logcd[(df_logcd[\"Username\"]==usr)]\n",
    "    print(\"=====\",usr,\"=====\")\n",
    "    for wk in list(set(df_logcdx[\"WeekNumber\"])):\n",
    "        df_logcdxx=df_logcdx[df_logcdx[\"WeekNumber\"]==wk]\n",
    "        print(wk, len(df_logcdxx))\n",
    "        df_logcdxx_ex=df_logcdxx[df_logcdxx[\"Event\"]==\"code_execution\"]\n",
    "        df_logcdxx_cp=df_logcdxx[df_logcdxx[\"Event\"]==\"code_copy\"]\n",
    "        df_logcdxx_ps=df_logcdxx[df_logcdxx[\"Event\"]==\"code_paste\"]\n",
    "        \n",
    "        cdmix=\"\\n\".join(list(df_logcdxx_ex[\"CleanCode\"]))\n",
    "        copy_ct=len(df_logcdxx_cp)\n",
    "        paste_ct=len(df_logcdxx_ps)\n",
    "        execution_ct=len(df_logcdxx_ex)\n",
    "        \n",
    "        ex_paste=\"\"\n",
    "        #copycode=\"\".join(list(df_logcdxx_cp[\"Text\"]))\n",
    "        for ind in df_logcdxx_ps.index:\n",
    "            tx=df_logcdxx_ps.loc[ind, \"Text\"]\n",
    "            previouscode=\" \".join(list(df_logcdxx.loc[:ind, \"CleanCode\"]))\n",
    "            if tx not in previouscode:\n",
    "                ex_paste+=tx\n",
    "        \n",
    "        Username.append(usr)\n",
    "        WeekNumber.append(wk)\n",
    "        Codemix.append(cdmix)\n",
    "        CopyCt.append(copy_ct)\n",
    "        PasteCt.append(paste_ct)\n",
    "        ExecutionCt.append(execution_ct)\n",
    "        ExternalPasteLength.append(len(ex_paste))\n",
    "\n",
    "df_cdmix=pd.DataFrame({\n",
    "    \"Username\":Username,\n",
    "    \"WeekNumber\":WeekNumber,\n",
    "    \"Codemix\":Codemix,\n",
    "    \"CopyCt\":CopyCt,\n",
    "    \"PasteCt\":PasteCt,\n",
    "    \"ExecutionCt\":ExecutionCt,\n",
    "    \"ExternalPasteLength\":ExternalPasteLength})"
   ]
  },
  {
   "cell_type": "markdown",
   "metadata": {},
   "source": [
    "#### module/ modulemethod/ basicmethod"
   ]
  },
  {
   "cell_type": "code",
   "execution_count": null,
   "metadata": {},
   "outputs": [],
   "source": [
    "Module=[]\n",
    "Module_ct=[]\n",
    "modulemethod_ct=[]\n",
    "modulemethod_log_usect=[]\n",
    "modulemethod_log_use=[]\n",
    "basicmethod_ct=[]\n",
    "basicmethod_log_usect=[]\n",
    "basicmethod_log_use=[]\n",
    "\n",
    "for cd in Codemix:\n",
    "    m=[]\n",
    "    mc=0\n",
    "    mluc=0\n",
    "    mlu=\"\"\n",
    "    bmc=0\n",
    "    bmluc=0\n",
    "    bmlu=\"\"\n",
    "\n",
    "    for mth in dir(np):\n",
    "        if len(list(re.finditer(\"np\\.\"+mth,cd)))!=0:\n",
    "            mc+=1\n",
    "            mlu+=list(re.finditer(\"np\\.\"+mth,cd))[0].group()+\" \"\n",
    "            mluc+=len(list(re.finditer(\"np\\.\"+mth, cd)))\n",
    "    for mth in dir(pd):\n",
    "        if len(list(re.finditer(\"pd\\.\"+mth,cd)))!=0:\n",
    "            mc+=1\n",
    "            mlu+=list(re.finditer(\"pd\\.\"+mth,cd))[0].group()+\" \"\n",
    "            mluc+=len(list(re.finditer(\"pd\\.\"+mth,cd)))\n",
    "    for mth in dir(plt):\n",
    "        if len(list(re.finditer(\"((plt)|(pt))\\.\"+mth,cd)))!=0:\n",
    "            mc+=1\n",
    "            mlu+=list(re.finditer(\"((plt)|(pt))\\.\"+mth,cd))[0].group()+\" \"\n",
    "            mluc+=len(list(re.finditer(\"((plt)|(pt))\\.\"+mth,cd)))\n",
    "    for mth in modulemethod:\n",
    "        if len(list(re.finditer(\"\\.\"+mth,cd)))!=0:\n",
    "            mc+=1\n",
    "            mlu+=list(re.finditer(\"\\.\"+mth,cd))[0].group()+\" \"\n",
    "            mluc+=len(list(re.finditer(\"\\.\"+mth,cd)))\n",
    "    modulemethod_ct.append(mc)\n",
    "    modulemethod_log_usect.append(mluc)\n",
    "    modulemethod_log_use.append(mlu)\n",
    "    \n",
    "    for mth in basicmethod:\n",
    "        if len(list(re.finditer(\"\\.\"+mth,cd)))!=0:\n",
    "            bmc+=1\n",
    "            bmlu+=list(re.finditer(\"\\.\"+mth,cd))[0].group()+\" \"\n",
    "            bmluc+=len(list(re.finditer(\"\\.\"+mth,cd)))\n",
    "    basicmethod_ct.append(bmc)\n",
    "    basicmethod_log_usect.append(bmluc)\n",
    "    basicmethod_log_use.append(bmlu)    \n",
    "    \n",
    "    r=\"import .+ as .+\"\n",
    "    r1=\"import .+\"\n",
    "    for i in re.finditer(r,cd):\n",
    "        mm=i.group().replace(\"import \",\"\").split(\" as \")[0].split(\".\")[0]\n",
    "        if mm not in m:\n",
    "            m.append(mm)\n",
    "        cd=cd.replace(i.group(),\"\")\n",
    "    for i in re.finditer(r1,cd):\n",
    "        mm=i.group().replace(\"import \",\"\")\n",
    "        if \",\" in mm:\n",
    "            mm=list(map(lambda x : x.strip(), mm.split(\",\")))\n",
    "            for mmx in mm:\n",
    "                if mmx not in m:\n",
    "                    m.append(mmx.split(\".\")[0])\n",
    "        else:\n",
    "            if mm not in m:\n",
    "                m.append(mm.split(\".\")[0].strip())\n",
    "    m=list(set(m))\n",
    "    Module_ct.append(len(m))\n",
    "    Module.append(\" \".join(m))\n",
    "\n",
    "    \n",
    "df_cdmix[\"modulemethod_ct\"]=modulemethod_ct\n",
    "df_cdmix[\"modulemethod_log_usect\"]=modulemethod_log_usect\n",
    "df_cdmix[\"modulemethod_log_use\"]=modulemethod_log_use\n",
    "df_cdmix[\"Module_ct\"]=Module_ct\n",
    "df_cdmix[\"Module\"]=Module\n",
    "df_cdmix[\"basicmethod_ct\"]=basicmethod_ct\n",
    "df_cdmix[\"basicmethod_log_usect\"]=basicmethod_log_usect\n",
    "df_cdmix[\"basicmethod_log_use\"]=basicmethod_log_use"
   ]
  },
  {
   "cell_type": "code",
   "execution_count": null,
   "metadata": {
    "scrolled": true
   },
   "outputs": [],
   "source": [
    "df_cdmix.head()"
   ]
  },
  {
   "cell_type": "code",
   "execution_count": null,
   "metadata": {
    "scrolled": true
   },
   "outputs": [],
   "source": [
    "df_log=pd.merge(df_log, df_cdmix, on=[\"Username\",\"WeekNumber\"], how=\"left\")"
   ]
  },
  {
   "cell_type": "code",
   "execution_count": null,
   "metadata": {},
   "outputs": [],
   "source": [
    "df_log.head()"
   ]
  },
  {
   "cell_type": "markdown",
   "metadata": {},
   "source": [
    "#### weekly grand total"
   ]
  },
  {
   "cell_type": "code",
   "execution_count": null,
   "metadata": {
    "scrolled": true
   },
   "outputs": [],
   "source": [
    "df_log=df_log.sort_values([\"Username\",\"WeekNumber\"]).reset_index(drop=True)\n",
    "\n",
    "df_log[\"Module\"]=df_log[\"Module\"].fillna(\"\")\n",
    "df_log[\"modulemethod_log_use\"]=df_log[\"modulemethod_log_use\"].fillna(\"\")\n",
    "df_log[\"basicmethod_log_use\"]=df_log[\"basicmethod_log_use\"].fillna(\"\")\n",
    "\n",
    "df_log[\"Grand_Module_ct\"]=[0]*len(df_log)\n",
    "df_log[\"Grand_modulemethod_ct\"]=[0]*len(df_log)\n",
    "df_log[\"Grand_basicmethod_ct\"]=[0]*len(df_log)\n",
    "\n",
    "for usr in list(set(df_log[\"Username\"])):\n",
    "    print(usr)\n",
    "    dfx=df_log[df_log[\"Username\"]==usr]\n",
    "    mm=[]\n",
    "    m=[]\n",
    "    rm=0\n",
    "    bm=[]\n",
    "    for i in dfx.index:\n",
    "        m.extend(df_log.loc[i,\"Module\"].split())\n",
    "        mm.extend(df_log.loc[i,\"modulemethod_log_use\"].split())\n",
    "        bm.extend(df_log.loc[i,\"basicmethod_log_use\"].split())\n",
    "        df_log.loc[i,\"Grand_Module_ct\"]=len(set(m))\n",
    "        df_log.loc[i,\"Grand_modulemethod_ct\"]=len(set(mm))\n",
    "        df_log.loc[i,\"Grand_basicmethod_ct\"]=len(set(bm))"
   ]
  },
  {
   "cell_type": "markdown",
   "metadata": {},
   "source": [
    "#### timespent"
   ]
  },
  {
   "cell_type": "code",
   "execution_count": null,
   "metadata": {},
   "outputs": [],
   "source": [
    "conn=pymysql.connect(host=\"\", port=3306, user=\"\", passwd=\"\", db=\"\", charset=\"\")\n",
    "select `Username`,`notebookName`,`event`,`kernelId`,`timestamp`from `edm_backup`.`edm_log`;'''\n",
    "cursor=conn.cursor()\n",
    "row=cursor.execute(sql)\n",
    "lg=cursor.fetchall()\n",
    "cursor.close()\n",
    "\n",
    "Username=[]\n",
    "NotebookName=[]\n",
    "Event=[]\n",
    "KernelId=[]\n",
    "Timestamp=[]\n",
    "\n",
    "for i in range(len(lg)):\n",
    "    Username.append(lg[i][0])\n",
    "    NotebookName.append(lg[i][1])\n",
    "    Event.append(lg[i][2])\n",
    "    KernelId.append(lg[i][3])\n",
    "    Timestamp.append(lg[i][4])\n",
    "    \n",
    "df_logtm=pd.DataFrame({\"Username\":Username,\n",
    "                       \"NotebookName\":NotebookName,\n",
    "                       \"Event\":Event,\n",
    "                       \"KernelId\":KernelId,\n",
    "                       \"Timestamp\":Timestamp})\n",
    "\n",
    "df_logtm.Timestamp=list(map(lambda x: datetime.strptime(\":\".join(x.split(\":\")[:-1]), \"%Y-%m-%d-%H:%M:%S\"), df_logtm.Timestamp))"
   ]
  },
  {
   "cell_type": "code",
   "execution_count": null,
   "metadata": {},
   "outputs": [],
   "source": [
    "Username=[]\n",
    "Kernal=[]\n",
    "Timestamp=[]\n",
    "Timespent=[]\n",
    "\n",
    "usr_list=list(set(df_logtm[\"Username\"]))\n",
    "df_logtm=df_logtm.sort_values(\"Timestamp\", ascending=True)\n",
    "for usr in usr_list:\n",
    "    df_logtmx=df_logtm[df_logtm[\"Username\"]==usr]\n",
    "    kernal_list=list(set(df_logtmx[\"KernelId\"]))\n",
    "    for kernal in kernal_list:\n",
    "        df_logtmxx=df_logtmx[df_logtmx[\"KernelId\"]==kernal].reset_index(drop=True)\n",
    "        for i in range(1,len(df_logtmxx)):\n",
    "            Username.append(usr)\n",
    "            Kernal.append(kernal)\n",
    "            Timestamp.append(df_logtmxx.loc[i,\"Timestamp\"])\n",
    "            Timespent.append((df_logtmxx.loc[i,\"Timestamp\"]-df_logtmxx.loc[i-1,\"Timestamp\"]).seconds)\n",
    "df_tspent=pd.DataFrame({\"Username\":Username,\"KernelId\":Kernal,\"Timestamp\":Timestamp,\"Timespent\":Timespent})"
   ]
  },
  {
   "cell_type": "code",
   "execution_count": null,
   "metadata": {},
   "outputs": [],
   "source": [
    "# IQRx15=(pd.Series(Timespent).describe()[\"75%\"]-pd.Series(Timespent).describe()[\"25%\"])*1.5\n",
    "# uplimit=pd.Series(Timespent).describe()[\"50%\"]+IQRx15\n",
    "uplimit=300\n",
    "Timespent_ad=list(map(lambda x: uplimit if x>uplimit else x, Timespent))\n",
    "df_tspent[\"Timespent_ad\"]=Timespent_ad"
   ]
  },
  {
   "cell_type": "code",
   "execution_count": null,
   "metadata": {},
   "outputs": [],
   "source": [
    "s=((1, datetime(2020, 9, 16, 0, 0)),\n",
    " (2, datetime(2020, 9, 23, 0, 0)),\n",
    " (3, datetime(2020, 9, 30, 0, 0)),\n",
    " (4, datetime(2020, 10, 7, 0, 0)),\n",
    " (5, datetime(2020, 10, 14, 0, 0)),\n",
    " (6, datetime(2020, 10, 21, 0, 0)),\n",
    " (7, datetime(2020, 10, 28, 0, 0)),\n",
    " (8, datetime(2020, 11, 4, 0, 0)),\n",
    " (9, datetime(2020, 11, 11, 0, 0)),\n",
    " (11, datetime(2020, 11, 25, 0, 0)),\n",
    " (12, datetime(2020, 12, 2, 0, 0)),\n",
    " (13, datetime(2020, 12, 9, 0, 0)),\n",
    " (14, datetime(2020, 12, 16, 0, 0)),\n",
    " (15, datetime(2020, 12, 23, 0, 0)),\n",
    " (16, datetime(2020, 12, 30, 0, 0)))\n",
    "\n",
    "weeknumber=[]\n",
    "for i in range(len(df_tspent)):\n",
    "    week=0\n",
    "    for j,k in s:\n",
    "        if df_tspent.loc[i,\"Timestamp\"]>k:\n",
    "            week=j\n",
    "    weeknumber.append(week)\n",
    "df_tspent[\"WeekNumber\"]=weeknumber"
   ]
  },
  {
   "cell_type": "code",
   "execution_count": null,
   "metadata": {
    "scrolled": true
   },
   "outputs": [],
   "source": [
    "df_tspent.iloc[100:150]"
   ]
  },
  {
   "cell_type": "code",
   "execution_count": null,
   "metadata": {},
   "outputs": [],
   "source": [
    "df_tspent.to_excel(\"member_log_tmspent.xlsx\")"
   ]
  },
  {
   "cell_type": "code",
   "execution_count": null,
   "metadata": {},
   "outputs": [],
   "source": [
    "df_tspent_wk=df_tspent[[\"Username\",\"WeekNumber\",\"Timespent_ad\"]].groupby([\"WeekNumber\",\"Username\"]).sum().reset_index(drop=False)"
   ]
  },
  {
   "cell_type": "code",
   "execution_count": null,
   "metadata": {},
   "outputs": [],
   "source": [
    "df_log=pd.merge(df_log, df_tspent_wk, on=[\"Username\",\"WeekNumber\"], how=\"left\")"
   ]
  },
  {
   "cell_type": "code",
   "execution_count": null,
   "metadata": {
    "scrolled": true
   },
   "outputs": [],
   "source": [
    "list(df_log.columns)"
   ]
  },
  {
   "cell_type": "code",
   "execution_count": null,
   "metadata": {},
   "outputs": [],
   "source": [
    "df_log.to_excel(\"member_weeklog_trainingdata.xlsx\")"
   ]
  },
  {
   "cell_type": "markdown",
   "metadata": {},
   "source": [
    "### member_semester_log"
   ]
  },
  {
   "cell_type": "code",
   "execution_count": null,
   "metadata": {},
   "outputs": [],
   "source": [
    "df_log.head()"
   ]
  },
  {
   "cell_type": "code",
   "execution_count": null,
   "metadata": {},
   "outputs": [],
   "source": [
    "df2=df_log[['Username','Module', 'modulemethod_log_use', 'basicmethod_log_use']]\n",
    "df2.head()"
   ]
  },
  {
   "cell_type": "code",
   "execution_count": null,
   "metadata": {},
   "outputs": [],
   "source": [
    "Username=[]\n",
    "Module=[]\n",
    "Module_ct=[]\n",
    "Modulemethod_use=[]\n",
    "Modulemethod_ct=[]\n",
    "Basicmethod_use=[]\n",
    "Basicmethod_ct=[]\n",
    "\n",
    "for usr in list(set(df2[\"Username\"])):\n",
    "    df1x=df2[df2[\"Username\"]==usr]\n",
    "\n",
    "    module=list(set(\" \".join(list(df1x[\"Module\"])).split()))\n",
    "    modulemethod_use=list(set(\" \".join(list(df1x[\"modulemethod_log_use\"])).split()))\n",
    "    basicmethod_use=list(set(\" \".join(list(df1x[\"basicmethod_log_use\"])).split()))\n",
    "\n",
    "    Username.append(usr)\n",
    "    Module.append(\" \".join(module))\n",
    "    Module_ct.append(len(module))\n",
    "    Modulemethod_use.append(\" \".join(modulemethod_use))\n",
    "    Modulemethod_ct.append(len(modulemethod_use))\n",
    "    Basicmethod_use.append(\" \".join(basicmethod_use))\n",
    "    Basicmethod_ct.append(len(basicmethod_use))\n",
    "\n",
    "df2=pd.DataFrame({\n",
    "    \"Username\":Username,\n",
    "    \"Module\":Module,\n",
    "    \"Module_ct\":Module_ct,\n",
    "    \"Modulemethod_use\":Modulemethod_use,\n",
    "    \"Modulemethod_ct\":Modulemethod_ct,\n",
    "    \"Basicmethod_use\":Basicmethod_use,\n",
    "    \"Basicmethod_ct\":Basicmethod_ct})"
   ]
  },
  {
   "cell_type": "code",
   "execution_count": null,
   "metadata": {},
   "outputs": [],
   "source": [
    "df_error3=df_error[df_error[\"Solved\"]==1]\n",
    "df_error3[\"Timespent\"]=list(map(lambda x: 7200 if x>7200 else x, df_error3[\"Timespent\"]))\n",
    "df_error3=df_error3[[\"Username\", \"ErrorName\",\"Timespent\"]].groupby([\"Username\", \"ErrorName\"]).mean()\n",
    "df_error3=df_error3.reset_index(drop=False)\n",
    "df_error3.head()"
   ]
  },
  {
   "cell_type": "code",
   "execution_count": null,
   "metadata": {},
   "outputs": [],
   "source": [
    "df3=df[['Username']].drop_duplicates(keep=\"last\").reset_index(drop=True)\n",
    "li=\"SyntaxError NameError AttributeError TypeError KeyError ValueError IndentationError IndexError\".split()\n",
    "for i in li:\n",
    "    df3[i+\"_Fixtime\"]=[np.nan]*len(df3)\n",
    "for er in li:\n",
    "    print(\"==============\"+er+\"===============\")\n",
    "    dfx=df_error3[df_error3[\"ErrorName\"]==er]\n",
    "    for us in uss:\n",
    "        dfx1=dfx[dfx[\"Username\"]==str(us)]\n",
    "        if len(dfx1)!=0:\n",
    "            ts=float(dfx1.loc[:,\"Timespent\"])\n",
    "            ind=df3[df3[\"Username\"]==us].index[0]\n",
    "            df3.loc[ind, er+\"_Fixtime\"]=ts"
   ]
  },
  {
   "cell_type": "code",
   "execution_count": null,
   "metadata": {},
   "outputs": [],
   "source": [
    "#.sum()\n",
    "df4=df_log[['Username',\n",
    " 'SyntaxError_Ct',\n",
    " 'NameError_Ct',\n",
    " 'AttributeError_Ct',\n",
    " 'TypeError_Ct',\n",
    " 'KeyError_Ct',\n",
    " 'ValueError_Ct',\n",
    " 'IndentationError_Ct',\n",
    " 'IndexError_Ct',\n",
    " 'SyntaxError_FailfixCt',\n",
    " 'NameError_FailfixCt',\n",
    " 'AttributeError_FailfixCt',\n",
    " 'TypeError_FailfixCt',\n",
    " 'KeyError_FailfixCt',\n",
    " 'ValueError_FailfixCt',\n",
    " 'IndentationError_FailfixCt',\n",
    " 'IndexError_FailfixCt',\n",
    " 'pattern_SimpleCondition_logct',\n",
    " 'pattern_MultipleCondition_logct',\n",
    " 'pattern_WhileIteration_logct',\n",
    " 'pattern_ForInIteration_logct',\n",
    " 'pattern_NestIteration_logct',\n",
    " 'pattern_DefFunction_logct',\n",
    " 'CopyCt',\n",
    " 'PasteCt',\n",
    " 'ExecutionCt',\n",
    " 'ExternalPasteLength',\n",
    " 'modulemethod_log_usect',\n",
    " 'basicmethod_log_usect',\n",
    " 'Timespent_ad',\n",
    " 'DebugTime'\n",
    "           ]].groupby(['Username']).sum().reset_index(drop=False)"
   ]
  },
  {
   "cell_type": "code",
   "execution_count": null,
   "metadata": {},
   "outputs": [],
   "source": [
    "df2[\"Username\"]=df2[\"Username\"].astype(\"int32\")\n",
    "df3[\"Username\"]=df3[\"Username\"].astype(\"int32\")\n",
    "df4[\"Username\"]=df4[\"Username\"].astype(\"int32\")\n",
    "\n",
    "df2=pd.merge(df2, df3, on=['Username'], how=\"left\")\n",
    "df2=pd.merge(df2, df4, on=['Username'], how=\"left\")"
   ]
  },
  {
   "cell_type": "code",
   "execution_count": null,
   "metadata": {},
   "outputs": [],
   "source": [
    "set(list(df_log.columns))-set(list(df2.columns))"
   ]
  },
  {
   "cell_type": "code",
   "execution_count": null,
   "metadata": {},
   "outputs": [],
   "source": [
    "df2=pd.merge(df2, qs, left_on=\"Username\", right_on=\"id\", how=\"left\").drop(\"id\", axis=1)\n",
    "# df2[\"Username\"]=df2[\"Username\"].astype(\"int32\")\n",
    "# df2=pd.merge(df2, fnsc, on=\"Username\", how=\"left\")"
   ]
  },
  {
   "cell_type": "code",
   "execution_count": null,
   "metadata": {},
   "outputs": [],
   "source": [
    "df2.shape"
   ]
  },
  {
   "cell_type": "code",
   "execution_count": null,
   "metadata": {},
   "outputs": [],
   "source": [
    "df2.to_excel(\"member_semesterlog_trainingdata.xlsx\")"
   ]
  },
  {
   "cell_type": "markdown",
   "metadata": {},
   "source": [
    "### member_checkpoint_log"
   ]
  },
  {
   "cell_type": "markdown",
   "metadata": {},
   "source": [
    "#### before week6"
   ]
  },
  {
   "cell_type": "code",
   "execution_count": null,
   "metadata": {},
   "outputs": [],
   "source": [
    "df_logx=df_log[df_log[\"WeekNumber\"]<=5]"
   ]
  },
  {
   "cell_type": "code",
   "execution_count": null,
   "metadata": {},
   "outputs": [],
   "source": [
    "df2x=df_logx[['Username','Module', 'modulemethod_log_use', 'basicmethod_log_use']]\n",
    "\n",
    "Username=[]\n",
    "Module=[]\n",
    "Module_ct=[]\n",
    "Modulemethod_use=[]\n",
    "Modulemethod_ct=[]\n",
    "Basicmethod_use=[]\n",
    "Basicmethod_ct=[]\n",
    "\n",
    "for usr in list(set(df2x[\"Username\"])):\n",
    "    df1x=df2x[df2x[\"Username\"]==usr]\n",
    "\n",
    "    module=list(set(\" \".join(list(df1x[\"Module\"])).split()))\n",
    "    modulemethod_use=list(set(\" \".join(list(df1x[\"modulemethod_log_use\"])).split()))\n",
    "    basicmethod_use=list(set(\" \".join(list(df1x[\"basicmethod_log_use\"])).split()))\n",
    "\n",
    "    Username.append(usr)\n",
    "    Module.append(\" \".join(module))\n",
    "    Module_ct.append(len(module))\n",
    "    Modulemethod_use.append(\" \".join(modulemethod_use))\n",
    "    Modulemethod_ct.append(len(modulemethod_use))\n",
    "    Basicmethod_use.append(\" \".join(basicmethod_use))\n",
    "    Basicmethod_ct.append(len(basicmethod_use))\n",
    "\n",
    "df2x=pd.DataFrame({\n",
    "    \"Username\":Username,\n",
    "    \"Module\":Module,\n",
    "    \"Module_ct\":Module_ct,\n",
    "    \"Modulemethod_use\":Modulemethod_use,\n",
    "    \"Modulemethod_ct\":Modulemethod_ct,\n",
    "    \"Basicmethod_use\":Basicmethod_use,\n",
    "    \"Basicmethod_ct\":Basicmethod_ct})"
   ]
  },
  {
   "cell_type": "code",
   "execution_count": null,
   "metadata": {},
   "outputs": [],
   "source": [
    "df_error3=df_error[(df_error[\"Solved\"]==1)&(df_error[\"WeekNumber\"]<=5)]\n",
    "df_error3[\"Timespent\"]=list(map(lambda x: 7200 if x>7200 else x, df_error3[\"Timespent\"]))\n",
    "df_error3=df_error3[[\"Username\", \"ErrorName\",\"Timespent\"]].groupby([\"Username\", \"ErrorName\"]).mean()\n",
    "df_error3=df_error3.reset_index(drop=False)\n",
    "df_error3.head()\n",
    "\n",
    "df3x=df[['Username']].drop_duplicates(keep=\"last\").reset_index(drop=True)\n",
    "li=\"SyntaxError NameError AttributeError TypeError KeyError ValueError IndentationError IndexError\".split()\n",
    "for i in li:\n",
    "    df3x[i+\"_Fixtime\"]=[np.nan]*len(df3x)\n",
    "for er in li:\n",
    "    print(\"==============\"+er+\"===============\")\n",
    "    dfx=df_error3[df_error3[\"ErrorName\"]==er]\n",
    "    for us in uss:\n",
    "        dfx1=dfx[dfx[\"Username\"]==str(us)]\n",
    "        if len(dfx1)!=0:\n",
    "            ts=float(dfx1.loc[:,\"Timespent\"])\n",
    "            ind=df3x[df3x[\"Username\"]==us].index[0]\n",
    "            df3x.loc[ind, er+\"_Fixtime\"]=ts"
   ]
  },
  {
   "cell_type": "code",
   "execution_count": null,
   "metadata": {},
   "outputs": [],
   "source": [
    "df4x=df_logx[['Username',\n",
    " 'SyntaxError_Ct',\n",
    " 'NameError_Ct',\n",
    " 'AttributeError_Ct',\n",
    " 'TypeError_Ct',\n",
    " 'KeyError_Ct',\n",
    " 'ValueError_Ct',\n",
    " 'IndentationError_Ct',\n",
    " 'IndexError_Ct',\n",
    " 'SyntaxError_FailfixCt',\n",
    " 'NameError_FailfixCt',\n",
    " 'AttributeError_FailfixCt',\n",
    " 'TypeError_FailfixCt',\n",
    " 'KeyError_FailfixCt',\n",
    " 'ValueError_FailfixCt',\n",
    " 'IndentationError_FailfixCt',\n",
    " 'IndexError_FailfixCt',\n",
    " 'pattern_SimpleCondition_logct',\n",
    " 'pattern_MultipleCondition_logct',\n",
    " 'pattern_WhileIteration_logct',\n",
    " 'pattern_ForInIteration_logct',\n",
    " 'pattern_NestIteration_logct',\n",
    " 'pattern_DefFunction_logct',\n",
    " 'CopyCt',\n",
    " 'PasteCt',\n",
    " 'ExecutionCt',\n",
    " 'ExternalPasteLength',\n",
    " 'modulemethod_log_usect',\n",
    " 'basicmethod_log_usect',\n",
    " 'Timespent_ad',\n",
    " 'DebugTime']].groupby(['Username']).sum().reset_index(drop=False)"
   ]
  },
  {
   "cell_type": "code",
   "execution_count": null,
   "metadata": {},
   "outputs": [],
   "source": [
    "df2x['Username']=df2x['Username'].astype(\"int32\")\n",
    "df3x['Username']=df3x['Username'].astype(\"int32\")\n",
    "df4x['Username']=df4x['Username'].astype(\"int32\")\n",
    "\n",
    "df2x=pd.merge(df2x, df3x, on=['Username'], how=\"left\")\n",
    "df2x=pd.merge(df2x, df4x, on=['Username'], how=\"left\")"
   ]
  },
  {
   "cell_type": "code",
   "execution_count": null,
   "metadata": {},
   "outputs": [],
   "source": [
    "df2x=pd.merge(df2x, qs, left_on=\"Username\", right_on=\"id\", how=\"left\").drop(\"id\", axis=1)\n",
    "# df2x[\"Username\"]=df2x[\"Username\"].astype(\"int32\")\n",
    "# df2x=pd.merge(df2x, quiz[[\"Username\",\"Quiz06\",\"Quiz06_group\"]], on=\"Username\", how=\"left\")"
   ]
  },
  {
   "cell_type": "code",
   "execution_count": null,
   "metadata": {},
   "outputs": [],
   "source": [
    "df2x.to_excel(\"member_week06bflog_trainingdata.xlsx\")"
   ]
  },
  {
   "cell_type": "markdown",
   "metadata": {},
   "source": [
    "#### before week12"
   ]
  },
  {
   "cell_type": "code",
   "execution_count": null,
   "metadata": {},
   "outputs": [],
   "source": [
    "df_logx=df_log[df_log[\"WeekNumber\"]<=11]\n",
    "\n",
    "df2x=df_logx[['Username','Module', 'modulemethod_log_use', 'basicmethod_log_use']]\n",
    "\n",
    "Username=[]\n",
    "Module=[]\n",
    "Module_ct=[]\n",
    "Modulemethod_use=[]\n",
    "Modulemethod_ct=[]\n",
    "Basicmethod_use=[]\n",
    "Basicmethod_ct=[]\n",
    "\n",
    "for usr in list(set(df2x[\"Username\"])):\n",
    "    df1x=df2x[df2x[\"Username\"]==usr]\n",
    "\n",
    "    module=list(set(\" \".join(list(df1x[\"Module\"])).split()))\n",
    "    modulemethod_use=list(set(\" \".join(list(df1x[\"modulemethod_log_use\"])).split()))\n",
    "    basicmethod_use=list(set(\" \".join(list(df1x[\"basicmethod_log_use\"])).split()))\n",
    "\n",
    "    Username.append(usr)\n",
    "    Module.append(\" \".join(module))\n",
    "    Module_ct.append(len(module))\n",
    "    Modulemethod_use.append(\" \".join(modulemethod_use))\n",
    "    Modulemethod_ct.append(len(modulemethod_use))\n",
    "    Basicmethod_use.append(\" \".join(basicmethod_use))\n",
    "    Basicmethod_ct.append(len(basicmethod_use))\n",
    "\n",
    "df2x=pd.DataFrame({\n",
    "    \"Username\":Username,\n",
    "    \"Module\":Module,\n",
    "    \"Module_ct\":Module_ct,\n",
    "    \"Modulemethod_use\":Modulemethod_use,\n",
    "    \"Modulemethod_ct\":Modulemethod_ct,\n",
    "    \"Basicmethod_use\":Basicmethod_use,\n",
    "    \"Basicmethod_ct\":Basicmethod_ct})\n",
    "\n",
    "df_error3=df_error[(df_error[\"Solved\"]==1)&(df_error[\"WeekNumber\"]<=11)]\n",
    "df_error3[\"Timespent\"]=list(map(lambda x: 7200 if x>7200 else x, df_error3[\"Timespent\"]))\n",
    "df_error3=df_error3[[\"Username\", \"ErrorName\",\"Timespent\"]].groupby([\"Username\", \"ErrorName\"]).mean()\n",
    "df_error3=df_error3.reset_index(drop=False)\n",
    "df_error3.head()\n",
    "\n",
    "df3x=df[['Username']].drop_duplicates(keep=\"last\").reset_index(drop=True)\n",
    "li=\"SyntaxError NameError AttributeError TypeError KeyError ValueError IndentationError IndexError\".split()\n",
    "for i in li:\n",
    "    df3x[i+\"_Fixtime\"]=[np.nan]*len(df3x)\n",
    "for er in li:\n",
    "    print(\"==============\"+er+\"===============\")\n",
    "    dfx=df_error3[df_error3[\"ErrorName\"]==er]\n",
    "    for us in uss:\n",
    "        dfx1=dfx[dfx[\"Username\"]==str(us)]\n",
    "        if len(dfx1)!=0:\n",
    "            ts=float(dfx1.loc[:,\"Timespent\"])\n",
    "            ind=df3x[df3x[\"Username\"]==us].index[0]\n",
    "            df3x.loc[ind, er+\"_Fixtime\"]=ts\n",
    "\n",
    "df4x=df_logx[['Username',\n",
    " 'SyntaxError_Ct', 'NameError_Ct', 'AttributeError_Ct', 'TypeError_Ct',\n",
    " 'KeyError_Ct', 'ValueError_Ct', 'IndentationError_Ct', 'IndexError_Ct',\n",
    " 'SyntaxError_FailfixCt', 'NameError_FailfixCt', 'AttributeError_FailfixCt', 'TypeError_FailfixCt',\n",
    " 'KeyError_FailfixCt', 'ValueError_FailfixCt', 'IndentationError_FailfixCt', 'IndexError_FailfixCt',\n",
    " 'pattern_SimpleCondition_logct', 'pattern_MultipleCondition_logct', 'pattern_WhileIteration_logct',\n",
    " 'pattern_ForInIteration_logct', 'pattern_NestIteration_logct', 'pattern_DefFunction_logct',\n",
    " 'CopyCt',\n",
    " 'PasteCt',\n",
    " 'ExecutionCt',\n",
    " 'ExternalPasteLength',\n",
    " 'modulemethod_log_usect',\n",
    " 'basicmethod_log_usect',\n",
    " 'Timespent_ad',\n",
    " 'DebugTime']].groupby(['Username']).sum().reset_index(drop=False)\n",
    "\n",
    "df2x['Username']=df2x['Username'].astype(\"int32\")\n",
    "df3x['Username']=df3x['Username'].astype(\"int32\")\n",
    "df4x['Username']=df4x['Username'].astype(\"int32\")\n",
    "df2x=pd.merge(df2x, df3x, on=['Username'], how=\"left\")\n",
    "df2x=pd.merge(df2x, df4x, on=['Username'], how=\"left\")\n",
    "\n",
    "df2x=pd.merge(df2x, qs, left_on=\"Username\", right_on=\"id\", how=\"left\").drop(\"id\", axis=1)\n",
    "# df2x[\"Username\"]=df2x[\"Username\"].astype(\"int32\")\n",
    "# df2x=pd.merge(df2x, quiz, on=\"Username\", how=\"left\")\n",
    "\n",
    "#df2x=df2x.drop([\"Quiz06\",\"Quiz06_group\"], axis=1)\n",
    "df2x.to_excel(\"member_week12bflog_trainingdata.xlsx\")"
   ]
  },
  {
   "cell_type": "markdown",
   "metadata": {},
   "source": [
    "#### before week16"
   ]
  },
  {
   "cell_type": "code",
   "execution_count": null,
   "metadata": {},
   "outputs": [],
   "source": [
    "df_logx=df_log[df_log[\"WeekNumber\"]<=15]\n",
    "\n",
    "df2x=df_logx[['Username','Module', 'modulemethod_log_use', 'basicmethod_log_use']]\n",
    "\n",
    "Username=[]\n",
    "Module=[]\n",
    "Module_ct=[]\n",
    "Modulemethod_use=[]\n",
    "Modulemethod_ct=[]\n",
    "Basicmethod_use=[]\n",
    "Basicmethod_ct=[]\n",
    "\n",
    "for usr in list(set(df2x[\"Username\"])):\n",
    "    df1x=df2x[df2x[\"Username\"]==usr]\n",
    "\n",
    "    module=list(set(\" \".join(list(df1x[\"Module\"])).split()))\n",
    "    modulemethod_use=list(set(\" \".join(list(df1x[\"modulemethod_log_use\"])).split()))\n",
    "    basicmethod_use=list(set(\" \".join(list(df1x[\"basicmethod_log_use\"])).split()))\n",
    "\n",
    "    Username.append(usr)\n",
    "    Module.append(\" \".join(module))\n",
    "    Module_ct.append(len(module))\n",
    "    Modulemethod_use.append(\" \".join(modulemethod_use))\n",
    "    Modulemethod_ct.append(len(modulemethod_use))\n",
    "    Basicmethod_use.append(\" \".join(basicmethod_use))\n",
    "    Basicmethod_ct.append(len(basicmethod_use))\n",
    "\n",
    "df2x=pd.DataFrame({\n",
    "    \"Username\":Username,\n",
    "    \"Module\":Module,\n",
    "    \"Module_ct\":Module_ct,\n",
    "    \"Modulemethod_use\":Modulemethod_use,\n",
    "    \"Modulemethod_ct\":Modulemethod_ct,\n",
    "    \"Basicmethod_use\":Basicmethod_use,\n",
    "    \"Basicmethod_ct\":Basicmethod_ct})\n",
    "\n",
    "df_error3=df_error[(df_error[\"Solved\"]==1)&(df_error[\"WeekNumber\"]<=15)]\n",
    "df_error3[\"Timespent\"]=list(map(lambda x: 7200 if x>7200 else x, df_error3[\"Timespent\"]))\n",
    "df_error3=df_error3[[\"Username\", \"ErrorName\",\"Timespent\"]].groupby([\"Username\", \"ErrorName\"]).mean()\n",
    "df_error3=df_error3.reset_index(drop=False)\n",
    "df_error3.head()\n",
    "\n",
    "df3x=df[['Username']].drop_duplicates(keep=\"last\").reset_index(drop=True)\n",
    "li=\"SyntaxError NameError AttributeError TypeError KeyError ValueError IndentationError IndexError\".split()\n",
    "for i in li:\n",
    "    df3x[i+\"_Fixtime\"]=[np.nan]*len(df3x)\n",
    "for er in li:\n",
    "    print(\"==============\"+er+\"===============\")\n",
    "    dfx=df_error3[df_error3[\"ErrorName\"]==er]\n",
    "    for us in uss:\n",
    "        dfx1=dfx[dfx[\"Username\"]==str(us)]\n",
    "        if len(dfx1)!=0:\n",
    "            ts=float(dfx1.loc[:,\"Timespent\"])\n",
    "            ind=df3x[df3x[\"Username\"]==us].index[0]\n",
    "            df3x.loc[ind, er+\"_Fixtime\"]=ts\n",
    "\n",
    "df4x=df_logx[['Username',\n",
    " 'SyntaxError_Ct', 'NameError_Ct', 'AttributeError_Ct', 'TypeError_Ct',\n",
    " 'KeyError_Ct', 'ValueError_Ct', 'IndentationError_Ct', 'IndexError_Ct',\n",
    " 'SyntaxError_FailfixCt', 'NameError_FailfixCt', 'AttributeError_FailfixCt', 'TypeError_FailfixCt',\n",
    " 'KeyError_FailfixCt', 'ValueError_FailfixCt', 'IndentationError_FailfixCt', 'IndexError_FailfixCt',\n",
    " 'pattern_SimpleCondition_logct', 'pattern_MultipleCondition_logct', 'pattern_WhileIteration_logct',\n",
    " 'pattern_ForInIteration_logct', 'pattern_NestIteration_logct', 'pattern_DefFunction_logct',\n",
    " 'CopyCt',\n",
    " 'PasteCt',\n",
    " 'ExecutionCt',\n",
    " 'ExternalPasteLength',\n",
    " 'modulemethod_log_usect',\n",
    " 'basicmethod_log_usect',\n",
    " 'Timespent_ad',\n",
    " 'DebugTime']].groupby(['Username']).sum().reset_index(drop=False)\n",
    "\n",
    "df2x['Username']=df2x['Username'].astype(\"int32\")\n",
    "df3x['Username']=df3x['Username'].astype(\"int32\")\n",
    "df4x['Username']=df4x['Username'].astype(\"int32\")\n",
    "df2x=pd.merge(df2x, df3x, on=['Username'], how=\"left\")\n",
    "df2x=pd.merge(df2x, df4x, on=['Username'], how=\"left\")\n",
    "\n",
    "df2x=pd.merge(df2x, qs, left_on=\"Username\", right_on=\"id\", how=\"left\").drop(\"id\", axis=1)\n",
    "# df2x[\"Username\"]=df2x[\"Username\"].astype(\"int32\")\n",
    "# df2x=pd.merge(df2x, quiz, on=\"Username\", how=\"left\")\n",
    "\n",
    "#df2x=df2x.drop([\"Quiz06\",\"Quiz06_group\"], axis=1)\n",
    "df2x.to_excel(\"member_week16bflog_trainingdata.xlsx\")"
   ]
  },
  {
   "cell_type": "markdown",
   "metadata": {},
   "source": [
    "#### week6~week11"
   ]
  },
  {
   "cell_type": "code",
   "execution_count": null,
   "metadata": {},
   "outputs": [],
   "source": [
    "df_logx=df_log[(df_log[\"WeekNumber\"]<=11)&(df_log[\"WeekNumber\"]>5)]\n",
    "\n",
    "df2x=df_logx[['Username','Module', 'modulemethod_log_use', 'basicmethod_log_use']]\n",
    "\n",
    "Username=[]\n",
    "Module=[]\n",
    "Module_ct=[]\n",
    "Modulemethod_use=[]\n",
    "Modulemethod_ct=[]\n",
    "Basicmethod_use=[]\n",
    "Basicmethod_ct=[]\n",
    "\n",
    "for usr in list(set(df2x[\"Username\"])):\n",
    "    df1x=df2x[df2x[\"Username\"]==usr]\n",
    "\n",
    "    module=list(set(\" \".join(list(df1x[\"Module\"])).split()))\n",
    "    modulemethod_use=list(set(\" \".join(list(df1x[\"modulemethod_log_use\"])).split()))\n",
    "    basicmethod_use=list(set(\" \".join(list(df1x[\"basicmethod_log_use\"])).split()))\n",
    "\n",
    "    Username.append(usr)\n",
    "    Module.append(\" \".join(module))\n",
    "    Module_ct.append(len(module))\n",
    "    Modulemethod_use.append(\" \".join(modulemethod_use))\n",
    "    Modulemethod_ct.append(len(modulemethod_use))\n",
    "    Basicmethod_use.append(\" \".join(basicmethod_use))\n",
    "    Basicmethod_ct.append(len(basicmethod_use))\n",
    "\n",
    "df2x=pd.DataFrame({\n",
    "    \"Username\":Username,\n",
    "    \"Module\":Module,\n",
    "    \"Module_ct\":Module_ct,\n",
    "    \"Modulemethod_use\":Modulemethod_use,\n",
    "    \"Modulemethod_ct\":Modulemethod_ct,\n",
    "    \"Basicmethod_use\":Basicmethod_use,\n",
    "    \"Basicmethod_ct\":Basicmethod_ct})\n",
    "\n",
    "df_error3=df_error[(df_error[\"Solved\"]==1)&(df_error[\"WeekNumber\"]>5)&(df_error[\"WeekNumber\"]<=11)]\n",
    "df_error3[\"Timespent\"]=list(map(lambda x: 7200 if x>7200 else x, df_error3[\"Timespent\"]))\n",
    "df_error3=df_error3[[\"Username\", \"ErrorName\",\"Timespent\"]].groupby([\"Username\", \"ErrorName\"]).mean()\n",
    "df_error3=df_error3.reset_index(drop=False)\n",
    "df_error3.head()\n",
    "\n",
    "df3x=df[['Username']].drop_duplicates(keep=\"last\").reset_index(drop=True)\n",
    "li=\"SyntaxError NameError AttributeError TypeError KeyError ValueError IndentationError IndexError\".split()\n",
    "for i in li:\n",
    "    df3x[i+\"_Fixtime\"]=[np.nan]*len(df3x)\n",
    "for er in li:\n",
    "    print(\"==============\"+er+\"===============\")\n",
    "    dfx=df_error3[df_error3[\"ErrorName\"]==er]\n",
    "    for us in uss:\n",
    "        dfx1=dfx[dfx[\"Username\"]==str(us)]\n",
    "        if len(dfx1)!=0:\n",
    "            ts=float(dfx1.loc[:,\"Timespent\"])\n",
    "            ind=df3x[df3x[\"Username\"]==us].index[0]\n",
    "            df3x.loc[ind, er+\"_Fixtime\"]=ts\n",
    "\n",
    "df4x=df_logx[['Username',\n",
    " 'SyntaxError_Ct', 'NameError_Ct', 'AttributeError_Ct', 'TypeError_Ct',\n",
    " 'KeyError_Ct', 'ValueError_Ct', 'IndentationError_Ct', 'IndexError_Ct',\n",
    " 'SyntaxError_FailfixCt', 'NameError_FailfixCt', 'AttributeError_FailfixCt', 'TypeError_FailfixCt',\n",
    " 'KeyError_FailfixCt', 'ValueError_FailfixCt', 'IndentationError_FailfixCt', 'IndexError_FailfixCt',\n",
    " 'pattern_SimpleCondition_logct', 'pattern_MultipleCondition_logct', 'pattern_WhileIteration_logct',\n",
    " 'pattern_ForInIteration_logct', 'pattern_NestIteration_logct', 'pattern_DefFunction_logct',\n",
    " 'CopyCt',\n",
    " 'PasteCt',\n",
    " 'ExecutionCt',\n",
    " 'ExternalPasteLength',\n",
    " 'modulemethod_log_usect',\n",
    " 'basicmethod_log_usect',\n",
    " 'Timespent_ad',\n",
    " 'DebugTime']].groupby(['Username']).sum().reset_index(drop=False)\n",
    "\n",
    "df2x['Username']=df2x['Username'].astype(\"int32\")\n",
    "df3x['Username']=df3x['Username'].astype(\"int32\")\n",
    "df4x['Username']=df4x['Username'].astype(\"int32\")\n",
    "df2x=pd.merge(df2x, df3x, on=['Username'], how=\"left\")\n",
    "df2x=pd.merge(df2x, df4x, on=['Username'], how=\"left\")\n",
    "\n",
    "df2x=pd.merge(df2x, qs, left_on=\"Username\", right_on=\"id\", how=\"left\").drop(\"id\", axis=1)\n",
    "# df2x[\"Username\"]=df2x[\"Username\"].astype(\"int32\")\n",
    "# df2x=pd.merge(df2x, quiz, on=\"Username\", how=\"left\")\n",
    "\n",
    "#df2x=df2x.drop([\"Quiz06\",\"Quiz06_group\"], axis=1)\n",
    "df2x.to_excel(\"member_week6to11log_trainingdata.xlsx\")"
   ]
  },
  {
   "cell_type": "markdown",
   "metadata": {},
   "source": [
    "#### week12~week15"
   ]
  },
  {
   "cell_type": "code",
   "execution_count": null,
   "metadata": {},
   "outputs": [],
   "source": [
    "df_logx=df_log[(df_log[\"WeekNumber\"]<=15)&(df_log[\"WeekNumber\"]>11)]\n",
    "\n",
    "df2x=df_logx[['Username','Module', 'modulemethod_log_use', 'basicmethod_log_use']]\n",
    "\n",
    "Username=[]\n",
    "Module=[]\n",
    "Module_ct=[]\n",
    "Modulemethod_use=[]\n",
    "Modulemethod_ct=[]\n",
    "Basicmethod_use=[]\n",
    "Basicmethod_ct=[]\n",
    "\n",
    "for usr in list(set(df2x[\"Username\"])):\n",
    "    df1x=df2x[df2x[\"Username\"]==usr]\n",
    "\n",
    "    module=list(set(\" \".join(list(df1x[\"Module\"])).split()))\n",
    "    modulemethod_use=list(set(\" \".join(list(df1x[\"modulemethod_log_use\"])).split()))\n",
    "    basicmethod_use=list(set(\" \".join(list(df1x[\"basicmethod_log_use\"])).split()))\n",
    "\n",
    "    Username.append(usr)\n",
    "    Module.append(\" \".join(module))\n",
    "    Module_ct.append(len(module))\n",
    "    Modulemethod_use.append(\" \".join(modulemethod_use))\n",
    "    Modulemethod_ct.append(len(modulemethod_use))\n",
    "    Basicmethod_use.append(\" \".join(basicmethod_use))\n",
    "    Basicmethod_ct.append(len(basicmethod_use))\n",
    "\n",
    "df2x=pd.DataFrame({\n",
    "    \"Username\":Username,\n",
    "    \"Module\":Module,\n",
    "    \"Module_ct\":Module_ct,\n",
    "    \"Modulemethod_use\":Modulemethod_use,\n",
    "    \"Modulemethod_ct\":Modulemethod_ct,\n",
    "    \"Basicmethod_use\":Basicmethod_use,\n",
    "    \"Basicmethod_ct\":Basicmethod_ct})\n",
    "\n",
    "df_error3=df_error[(df_error[\"Solved\"]==1)&(df_error[\"WeekNumber\"]>11)&(df_error[\"WeekNumber\"]<=15)]\n",
    "df_error3[\"Timespent\"]=list(map(lambda x: 7200 if x>7200 else x, df_error3[\"Timespent\"]))\n",
    "df_error3=df_error3[[\"Username\", \"ErrorName\",\"Timespent\"]].groupby([\"Username\", \"ErrorName\"]).mean()\n",
    "df_error3=df_error3.reset_index(drop=False)\n",
    "df_error3.head()\n",
    "\n",
    "df3x=df[['Username']].drop_duplicates(keep=\"last\").reset_index(drop=True)\n",
    "li=\"SyntaxError NameError AttributeError TypeError KeyError ValueError IndentationError IndexError\".split()\n",
    "for i in li:\n",
    "    df3x[i+\"_Fixtime\"]=[np.nan]*len(df3x)\n",
    "for er in li:\n",
    "    print(\"==============\"+er+\"===============\")\n",
    "    dfx=df_error3[df_error3[\"ErrorName\"]==er]\n",
    "    for us in uss:\n",
    "        dfx1=dfx[dfx[\"Username\"]==str(us)]\n",
    "        if len(dfx1)!=0:\n",
    "            ts=float(dfx1.loc[:,\"Timespent\"])\n",
    "            ind=df3x[df3x[\"Username\"]==us].index[0]\n",
    "            df3x.loc[ind, er+\"_Fixtime\"]=ts\n",
    "\n",
    "df4x=df_logx[['Username',\n",
    " 'SyntaxError_Ct', 'NameError_Ct', 'AttributeError_Ct', 'TypeError_Ct',\n",
    " 'KeyError_Ct', 'ValueError_Ct', 'IndentationError_Ct', 'IndexError_Ct',\n",
    " 'SyntaxError_FailfixCt', 'NameError_FailfixCt', 'AttributeError_FailfixCt', 'TypeError_FailfixCt',\n",
    " 'KeyError_FailfixCt', 'ValueError_FailfixCt', 'IndentationError_FailfixCt', 'IndexError_FailfixCt',\n",
    " 'pattern_SimpleCondition_logct', 'pattern_MultipleCondition_logct', 'pattern_WhileIteration_logct',\n",
    " 'pattern_ForInIteration_logct', 'pattern_NestIteration_logct', 'pattern_DefFunction_logct',\n",
    " 'CopyCt',\n",
    " 'PasteCt',\n",
    " 'ExecutionCt',\n",
    " 'ExternalPasteLength',\n",
    " 'modulemethod_log_usect',\n",
    " 'basicmethod_log_usect',\n",
    " 'Timespent_ad',\n",
    " 'DebugTime']].groupby(['Username']).sum().reset_index(drop=False)\n",
    "\n",
    "df2x['Username']=df2x['Username'].astype(\"int32\")\n",
    "df3x['Username']=df3x['Username'].astype(\"int32\")\n",
    "df4x['Username']=df4x['Username'].astype(\"int32\")\n",
    "df2x=pd.merge(df2x, df3x, on=['Username'], how=\"left\")\n",
    "df2x=pd.merge(df2x, df4x, on=['Username'], how=\"left\")\n",
    "\n",
    "df2x=pd.merge(df2x, qs, left_on=\"Username\", right_on=\"id\", how=\"left\").drop(\"id\", axis=1)\n",
    "# df2x[\"Username\"]=df2x[\"Username\"].astype(\"int32\")\n",
    "# df2x=pd.merge(df2x, quiz, on=\"Username\", how=\"left\")\n",
    "\n",
    "#df2x=df2x.drop([\"Quiz06\",\"Quiz06_group\"], axis=1)\n",
    "df2x.to_excel(\"member_week12to15log_trainingdata.xlsx\")"
   ]
  },
  {
   "cell_type": "code",
   "execution_count": null,
   "metadata": {},
   "outputs": [],
   "source": []
  },
  {
   "cell_type": "code",
   "execution_count": null,
   "metadata": {},
   "outputs": [],
   "source": []
  },
  {
   "cell_type": "code",
   "execution_count": null,
   "metadata": {},
   "outputs": [],
   "source": []
  },
  {
   "cell_type": "code",
   "execution_count": null,
   "metadata": {},
   "outputs": [],
   "source": []
  },
  {
   "cell_type": "markdown",
   "metadata": {},
   "source": [
    "# data backup"
   ]
  },
  {
   "cell_type": "code",
   "execution_count": null,
   "metadata": {},
   "outputs": [],
   "source": [
    "import time\n",
    "import datetime\n",
    "import pymysql\n",
    "import numpy as np\n",
    "import pandas as pd\n",
    "import re\n",
    "import os\n",
    "import copy\n",
    "from datetime import datetime, timedelta\n",
    "\n",
    "conn=pymysql.connect(host=\"\", port=3306, user=\"\", passwd=\"\", db=\"\", charset=\"\")\n",
    "cursor=conn.cursor()\n",
    "cursor.execute(\"select * from `edm`.`edm_log` ;\") \n",
    "edm_log=cursor.fetchall()\n",
    "cursor.close()\n",
    "x= open(\"backup_edm_log.txt\",\"w\",encoding=\"utf-8\")\n",
    "x.write(str(edm_log))\n",
    "x.close\n",
    "\n",
    "cursor=conn.cursor()\n",
    "cursor.execute(\"select * from `edm`.`implementation` ;\") \n",
    "implementation=cursor.fetchall()\n",
    "cursor.close()\n",
    "x= open(\"backup_implementation.txt\",\"w\",encoding=\"utf-8\")\n",
    "x.write(str(implementation))\n",
    "x.close\n",
    "\n",
    "cursor=conn.cursor()\n",
    "cursor.execute(\"select * from `edm`.`member_class` ;\") \n",
    "member_class=cursor.fetchall()\n",
    "cursor.close()\n",
    "x= open(\"backup_member_class.txt\",\"w\",encoding=\"utf-8\")\n",
    "x.write(str(member_class))\n",
    "x.close\n",
    "\n",
    "cursor=conn.cursor()\n",
    "cursor.execute(\"select * from `edm`.`pre-q` ;\") \n",
    "preq=cursor.fetchall()\n",
    "cursor.close()\n",
    "x= open(\"backup_pre_q.txt\",\"w\",encoding=\"utf-8\")\n",
    "x.write(str(preq))\n",
    "x.close\n",
    "\n",
    "cursor=conn.cursor()\n",
    "cursor.execute(\"select * from `edm`.`section` ;\") \n",
    "section=cursor.fetchall()\n",
    "cursor.close()\n",
    "x= open(\"backup_section.txt\",\"w\",encoding=\"utf-8\")\n",
    "x.write(str(section))\n",
    "x.close\n",
    "\n",
    "cursor=conn.cursor()\n",
    "cursor.execute(\"select * from `edm`.`member` ;\") \n",
    "member=cursor.fetchall()\n",
    "cursor.close()\n",
    "x= open(\"backup_member.txt\",\"w\",encoding=\"utf-8\")\n",
    "x.write(str(member))\n",
    "x.close\n",
    "\n",
    "conn.close()"
   ]
  },
  {
   "cell_type": "markdown",
   "metadata": {},
   "source": [
    "# tableau user"
   ]
  },
  {
   "cell_type": "code",
   "execution_count": null,
   "metadata": {},
   "outputs": [],
   "source": [
    "x1=pd.read_excel(\"活頁簿1.xlsx\", sheet_name=\"工作表1\")\n",
    "x2=pd.read_excel(\"活頁簿1.xlsx\", sheet_name=\"工作表2\")\n",
    "x3=pd.read_excel(\"活頁簿1.xlsx\", sheet_name=\"工作表3\")"
   ]
  },
  {
   "cell_type": "code",
   "execution_count": null,
   "metadata": {},
   "outputs": [],
   "source": [
    "xx=pd.merge(x1,x3, on=\"username\", how=\"outer\")\n",
    "xx=pd.merge(xx,x2, on=\"email\", how=\"outer\")\n",
    "xx=xx[[\"tableauuser\",\"name\",\"truename_x\",\"username\",\"email\"]]\n",
    "xx.sort_values(\"tableauuser\")"
   ]
  },
  {
   "cell_type": "code",
   "execution_count": null,
   "metadata": {},
   "outputs": [],
   "source": [
    "xx[pd.isnull(xx[\"tableauuser\"])]"
   ]
  },
  {
   "cell_type": "code",
   "execution_count": null,
   "metadata": {},
   "outputs": [],
   "source": []
  },
  {
   "cell_type": "code",
   "execution_count": null,
   "metadata": {},
   "outputs": [],
   "source": []
  },
  {
   "cell_type": "code",
   "execution_count": null,
   "metadata": {},
   "outputs": [],
   "source": []
  },
  {
   "cell_type": "code",
   "execution_count": null,
   "metadata": {},
   "outputs": [],
   "source": []
  },
  {
   "cell_type": "code",
   "execution_count": null,
   "metadata": {},
   "outputs": [],
   "source": []
  },
  {
   "cell_type": "code",
   "execution_count": null,
   "metadata": {},
   "outputs": [],
   "source": []
  },
  {
   "cell_type": "code",
   "execution_count": null,
   "metadata": {},
   "outputs": [],
   "source": []
  }
 ],
 "metadata": {
  "kernelspec": {
   "display_name": "Python 3",
   "language": "python",
   "name": "python3"
  },
  "language_info": {
   "codemirror_mode": {
    "name": "ipython",
    "version": 3
   },
   "file_extension": ".py",
   "mimetype": "text/x-python",
   "name": "python",
   "nbconvert_exporter": "python",
   "pygments_lexer": "ipython3",
   "version": "3.7.4"
  },
  "toc": {
   "base_numbering": 1,
   "nav_menu": {},
   "number_sections": true,
   "sideBar": true,
   "skip_h1_title": false,
   "title_cell": "Table of Contents",
   "title_sidebar": "Contents",
   "toc_cell": false,
   "toc_position": {
    "height": "735px",
    "left": "60px",
    "top": "111.133px",
    "width": "488.2px"
   },
   "toc_section_display": true,
   "toc_window_display": true
  }
 },
 "nbformat": 4,
 "nbformat_minor": 2
}
